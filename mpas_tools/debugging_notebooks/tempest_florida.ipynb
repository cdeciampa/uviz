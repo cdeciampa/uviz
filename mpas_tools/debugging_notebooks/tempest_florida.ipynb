{
 "cells": [
  {
   "cell_type": "code",
   "execution_count": 1,
   "id": "d15eea45-afc8-4a64-9c5f-d8f76523960e",
   "metadata": {},
   "outputs": [],
   "source": [
    "# This entire block helps with relative imports\n",
    "import glob\n",
    "import os, sys\n",
    "dir2 = os.path.abspath('')\n",
    "dir1 = os.path.dirname(dir2)\n",
    "if not dir1 in sys.path: sys.path.append(dir1)\n",
    "from tempest_extremes.utils import read_tempest_csv\n",
    "from haversine import inverse_haversine\n",
    "\n",
    "import pandas as pd\n",
    "import numpy as np\n",
    "import xarray as xr\n",
    "import netCDF4 as nf4\n",
    "import matplotlib.pyplot as plt\n",
    "#import seaborn as sns\n",
    "\n",
    "import cartopy.crs as ccrs\n",
    "import cartopy.feature as cfeature"
   ]
  },
  {
   "cell_type": "code",
   "execution_count": 2,
   "id": "c498f49d-660a-4bda-b861-947de963529a",
   "metadata": {},
   "outputs": [
    {
     "ename": "FileNotFoundError",
     "evalue": "[Errno 2] No such file or directory: '/Users/cnd5285/Library/CloudStorage/OneDrive-ThePennsylvaniaStateUniversity/DeCiampa/model_traj'",
     "output_type": "error",
     "traceback": [
      "\u001b[0;31m---------------------------------------------------------------------------\u001b[0m",
      "\u001b[0;31mFileNotFoundError\u001b[0m                         Traceback (most recent call last)",
      "Input \u001b[0;32mIn [2]\u001b[0m, in \u001b[0;36m<cell line: 2>\u001b[0;34m()\u001b[0m\n\u001b[1;32m      1\u001b[0m tracks_folder \u001b[38;5;241m=\u001b[39m \u001b[38;5;124mr\u001b[39m\u001b[38;5;124m\"\u001b[39m\u001b[38;5;124m/Users/cnd5285/Library/CloudStorage/OneDrive-ThePennsylvaniaStateUniversity/DeCiampa/model_traj\u001b[39m\u001b[38;5;124m\"\u001b[39m\n\u001b[0;32m----> 2\u001b[0m te_tracks \u001b[38;5;241m=\u001b[39m \u001b[43mos\u001b[49m\u001b[38;5;241;43m.\u001b[39;49m\u001b[43mlistdir\u001b[49m\u001b[43m(\u001b[49m\u001b[43mtracks_folder\u001b[49m\u001b[43m)\u001b[49m\n",
      "\u001b[0;31mFileNotFoundError\u001b[0m: [Errno 2] No such file or directory: '/Users/cnd5285/Library/CloudStorage/OneDrive-ThePennsylvaniaStateUniversity/DeCiampa/model_traj'"
     ]
    }
   ],
   "source": [
    "tracks_folder = r\"/Users/cnd5285/Library/CloudStorage/OneDrive-ThePennsylvaniaStateUniversity/DeCiampa/model_traj\"\n",
    "te_tracks = os.listdir(tracks_folder)"
   ]
  },
  {
   "cell_type": "code",
   "execution_count": 10,
   "id": "12595f15-3165-49d9-a679-30e1d0912eb8",
   "metadata": {},
   "outputs": [
    {
     "data": {
      "text/plain": [
       "[]"
      ]
     },
     "execution_count": 10,
     "metadata": {},
     "output_type": "execute_result"
    }
   ],
   "source": [
    "te_tracks"
   ]
  },
  {
   "cell_type": "code",
   "execution_count": null,
   "id": "0fc51e7a-6d21-4ef3-9d8d-41a8ff61b9b4",
   "metadata": {},
   "outputs": [],
   "source": [
    "/Users/cnd5285/Library/CloudStorage/OneDrive-ThePennsylvaniaStateUniversity/DeCiampa/model_traj"
   ]
  },
  {
   "cell_type": "code",
   "execution_count": null,
   "id": "2da37259-3aae-4a26-8b1c-9df704e45d2d",
   "metadata": {},
   "outputs": [],
   "source": [
    "miami_coords = (-80.208615, 25.775163)\n",
    "miami_dist = 500 #km"
   ]
  }
 ],
 "metadata": {
  "kernelspec": {
   "display_name": "Python [conda env:datashader]",
   "language": "python",
   "name": "conda-env-datashader-py"
  },
  "language_info": {
   "codemirror_mode": {
    "name": "ipython",
    "version": 3
   },
   "file_extension": ".py",
   "mimetype": "text/x-python",
   "name": "python",
   "nbconvert_exporter": "python",
   "pygments_lexer": "ipython3",
   "version": "3.10.5"
  }
 },
 "nbformat": 4,
 "nbformat_minor": 5
}
