{
 "cells": [
  {
   "cell_type": "code",
   "execution_count": null,
   "id": "b989b0a1-d72f-407d-932b-55e156481baa",
   "metadata": {},
   "outputs": [],
   "source": [
    "import os\n",
    "import glob\n",
    "\n",
    "import numpy as np\n",
    "import pandas as pd\n",
    "import xarray as xr\n",
    "\n",
    "import matplotlib as mpl\n",
    "import matplotlib.pyplot as plt\n",
    "from matplotlib.colors import LinearSegmentedColormap\n",
    "import cartopy.crs as ccrs\n",
    "import cartopy.feature as cfeature\n",
    "\n",
    "import metpy.calc as mpcalc\n",
    "from metpy.units import units\n",
    "\n",
    "import hvplot.xarray\n",
    "#import hvplot\n",
    "\n",
    "from uviz.utils.tools import find_TC_bbox\n",
    "#from uviz.datashader_tools.utils import datashader_wrapper\n",
    "from uviz.plotting.utils import basin_bboxes, ssh_wsp, ssh_mslp, sshws_color, geog_features"
   ]
  },
  {
   "cell_type": "code",
   "execution_count": null,
   "id": "674f4246-f3fa-47e9-94eb-225aa97d11aa",
   "metadata": {},
   "outputs": [],
   "source": [
    "prototype_dir = r\"/gpfs/group/cmz5202/default/cnd5285/synth_events\"\n",
    "storm_1279_dir = os.path.join(prototype_dir, \"VR28.NATL.EXT.CAM5.4CLM5.0.dtime900_storm_1279\")\n",
    "parent_28km = os.path.join(storm_1279_dir, '28km')\n",
    "child_3km = os.path.join(storm_1279_dir, '3km')"
   ]
  },
  {
   "cell_type": "code",
   "execution_count": null,
   "id": "40275b17-f123-444b-ba2c-a909940ce3ec",
   "metadata": {},
   "outputs": [],
   "source": [
    "h1p_files = glob.glob(os.path.join(parent_28km, '*.h1.*.nc'))\n",
    "h2p_files = glob.glob(os.path.join(parent_28km, '*.h2.*.nc'))\n",
    "h3p_files = glob.glob(os.path.join(parent_28km, '*.h3.*.nc'))\n",
    "h4p_files = glob.glob(os.path.join(parent_28km, '*.h4.*.nc'))\n",
    "\n",
    "# CAM mesh is the \"ext\" one, based on original model run. Other options are \"ref\" or \"wat\"\n",
    "p_mesh = r\"/gpfs/group/cmz5202/default/cnd5285/maps_and_grids/ne0np4natlanticext.ne30x4.g_scrip.nc\"\n",
    "\n",
    "h1c_files = glob.glob(os.path.join(child_3km, '*.h1.*.nc'))\n",
    "h2c_files = glob.glob(os.path.join(child_3km, '*.h2.*.nc'))\n",
    "h3c_files = glob.glob(os.path.join(child_3km, '*.h3.*.nc'))\n",
    "h4c_files = glob.glob(os.path.join(child_3km, '*.h4.*.nc'))\n",
    "h5c_files = os.listdir(os.path.join(child_3km, 'h5'))\n",
    "\n",
    "# Dug in the attributes for the mesh, TODO: make function that finds it automatically\n",
    "c_mesh = \"/gpfs/group/cmz5202/default/cnd5285/MPAS_3km/x20.835586.florida.init.CAM.nc\""
   ]
  },
  {
   "cell_type": "code",
   "execution_count": null,
   "id": "e2f2ddba-ca5d-4314-bf79-6597ec2f171c",
   "metadata": {},
   "outputs": [],
   "source": [
    "# Native grid files\n",
    "parallel = True\n",
    "h1pn_ds = xr.open_mfdataset([f for f in h1p_files if 'remap' not in f], parallel=parallel)\n",
    "h2pn_ds = xr.open_mfdataset([f for f in h2p_files if 'remap' not in f], parallel=parallel)\n",
    "h3pn_ds = xr.open_mfdataset([f for f in h3p_files if 'remap' not in f], parallel=parallel)\n",
    "h4pn_ds = xr.open_mfdataset([f for f in h4p_files if 'remap' not in f], parallel=parallel)\n",
    "p_mesh_ds = xr.open_dataset(p_mesh)\n",
    "\n",
    "# Regridded files\n",
    "h1pr_ds = xr.open_mfdataset([f for f in h1p_files if 'remap' in f], parallel=parallel)\n",
    "h2pr_ds = xr.open_mfdataset([f for f in h2p_files if 'remap' in f], parallel=parallel)\n",
    "h3pr_ds = xr.open_mfdataset([f for f in h3p_files if 'remap' in f], parallel=parallel)\n",
    "h4pr_ds = xr.open_mfdataset([f for f in h4p_files if 'remap' in f], parallel=parallel)\n",
    "\n",
    "# Native grid files\n",
    "h1cn_ds = xr.open_mfdataset([f for f in h1c_files if 'remap' not in f], parallel=parallel)\n",
    "h2cn_ds = xr.open_mfdataset([f for f in h2c_files if 'remap' not in f], parallel=parallel)\n",
    "h3cn_ds = xr.open_mfdataset([f for f in h3c_files if 'remap' not in f], parallel=parallel)\n",
    "h4cn_ds = xr.open_mfdataset([f for f in h4c_files if 'remap' not in f], parallel=parallel)\n",
    "#h5cn_ds = xr.open_mfdataset([f for f in h5c_files])\n",
    "c_mesh_ds = xr.open_dataset(c_mesh, chunks={'nCells':10000, 'nVertices':100, 'nEdges':100})\n",
    "\n",
    "# Regridded files\n",
    "h1cr_ds = xr.open_mfdataset([f for f in h1c_files if 'remap' in f], parallel=parallel)\n",
    "h2cr_ds = xr.open_mfdataset([f for f in h2c_files if 'remap' in f], parallel=parallel)\n",
    "h3cr_ds = xr.open_mfdataset([f for f in h3c_files if 'remap' in f], parallel=parallel)\n",
    "h4cr_ds = xr.open_mfdataset([f for f in h4c_files if 'remap' in f], parallel=parallel)"
   ]
  },
  {
   "cell_type": "code",
   "execution_count": null,
   "id": "c377c29e-2afa-4091-b240-674038a39b20",
   "metadata": {},
   "outputs": [],
   "source": [
    "h2pr_ds['VORT'] = mpcalc.vorticity(h2pr_ds['U'], h2pr_ds['V'])"
   ]
  },
  {
   "cell_type": "code",
   "execution_count": null,
   "id": "29915185-7d25-441c-a578-6b4b58acec64",
   "metadata": {},
   "outputs": [],
   "source": [
    "# Kernel dies trying to calculate MPAS vorticity\n",
    "h2cr_ds['VORT'] = mpcalc.vorticity(h2cr_ds['U'], h2cr_ds['V'])"
   ]
  },
  {
   "cell_type": "code",
   "execution_count": null,
   "id": "bce21a29-7d76-4483-9347-8d651823efd8",
   "metadata": {},
   "outputs": [],
   "source": [
    "h2pr_ds['VORT'].isel(time=12, lev=6).plot()"
   ]
  },
  {
   "cell_type": "markdown",
   "id": "0fa0cd05-6b1f-4b4c-9b36-711d73429291",
   "metadata": {
    "tags": []
   },
   "source": [
    "# hvPlot"
   ]
  },
  {
   "cell_type": "code",
   "execution_count": null,
   "id": "442cdd5d-cace-4924-9b8c-577149cd225c",
   "metadata": {},
   "outputs": [],
   "source": [
    "hvplot.help('quadmesh')"
   ]
  },
  {
   "cell_type": "code",
   "execution_count": null,
   "id": "8dce71eb-3b05-43ec-8094-b089a7b48ee4",
   "metadata": {},
   "outputs": [],
   "source": [
    "def T_to_FLUT(T, unit='K'):\n",
    "    if unit == 'C':\n",
    "        T += 273.15\n",
    "    sigma = 5.6693E-8\n",
    "    olr = sigma*(T**4)\n",
    "    \n",
    "    return olr"
   ]
  },
  {
   "cell_type": "code",
   "execution_count": null,
   "id": "1ca6248b-1c4a-4f67-8577-1708a613f27a",
   "metadata": {},
   "outputs": [],
   "source": [
    "# https://cimss.ssec.wisc.edu/satellite-blog/wp-content/uploads/sites/5/2017/09/GOES16_CleanWindow_Landfall-20170920_0957_1136anim.gif\n",
    "\n",
    "\n",
    "# Normalized cimss scale\n",
    "bw_colors = [(0, '#BCBCBC'), (1, '#000000')]  \n",
    "bw_cmp = LinearSegmentedColormap.from_list('FLUT bw', bw_colors, N=435)\n",
    "\n",
    "levels = np.array([T_to_FLUT(temp, 'C') for temp in [-110, -105, -87.5, -80, -70, -60, -50, -35, -27.5, -22.5]])\n",
    "fracs = levels-T_to_FLUT(-110, 'C')\n",
    "\n",
    "rainbow_colors = [(0, '#0febff'), # cyan\n",
    "                  ((fracs[1]/fracs[-1]), '#7f007f'), # purple\n",
    "                  ((fracs[2]/fracs[-1]), '#e5e4e5'), # white\n",
    "                  ((fracs[3]/fracs[-1]), '#000000'), # black\n",
    "                  ((fracs[4]/fracs[-1]), '#ff0000'), # red\n",
    "                  ((fracs[5]/fracs[-1]), '#FFFF00'), # yellow\n",
    "                  ((fracs[6]/fracs[-1]), '#00FF00'), # green\n",
    "                  ((fracs[7]/fracs[-1]), '#000073'), # navy\n",
    "                  (1, '#00ffff')] # cyan\n",
    "\n",
    "\n",
    "rainbow_cmp = LinearSegmentedColormap.from_list('FLUT colors', rainbow_colors, N=184)\n",
    "\n",
    "bws = plt.get_cmap(bw_cmp)\n",
    "bws_colors = bws(np.linspace(0, 1, 435))\n",
    "rainbow = plt.get_cmap(rainbow_cmp)\n",
    "r_colors = rainbow(np.linspace(0, 1, 184))\n",
    "\n",
    "all_colors = np.vstack((r_colors, bws_colors))\n",
    "flut_cimss = LinearSegmentedColormap.from_list('FLUT CIMSS', all_colors)\n",
    "mpl.colormaps.register(flut_cimss, name='FLUT_CIMSS', force=True)"
   ]
  },
  {
   "cell_type": "code",
   "execution_count": null,
   "id": "ca5747d5-7fec-4e2a-b24a-2cb9dfdb14b2",
   "metadata": {},
   "outputs": [],
   "source": [
    "plt.get_cmap(mpl.colormaps['FLUT_CIMSS'])"
   ]
  },
  {
   "cell_type": "code",
   "execution_count": null,
   "id": "29d325ca-dd29-4c4d-9f70-ee890315822f",
   "metadata": {},
   "outputs": [],
   "source": [
    "?mpl.colormaps"
   ]
  },
  {
   "cell_type": "code",
   "execution_count": null,
   "id": "5cf7b866-0f86-45b4-b17e-bc1dd8f6b31c",
   "metadata": {},
   "outputs": [],
   "source": [
    "list(mpl.colormaps['FLUT CIMSS'])"
   ]
  },
  {
   "cell_type": "code",
   "execution_count": null,
   "id": "a831d779-d62d-4664-b005-a6b8e17220f7",
   "metadata": {},
   "outputs": [],
   "source": [
    "# FLUT CIMSS is my registered mpl colormap\n",
    "project_coords=True\n",
    "\n",
    "if project_coords == True:\n",
    "    proj = ccrs.Robinson(central_longitude=180)\n",
    "    g = h3cr_ds.FLUT.isel(time=slice(20, 30)).hvplot.quadmesh('lon', 'lat', project=proj, rasterize=True, clim=(T_to_FLUT(-110, 'C'), T_to_FLUT(55, 'C')),\n",
    "                             cmap='FLUT CIMSS', dynamic=False, frame_width=500)\n",
    "else:\n",
    "    g = h3cr_ds.FLUT.isel(time=slice(20, 30)).hvplot.quadmesh('lon', 'lat', geo=True, rasterize=True, clim=(T_to_FLUT(-110, 'C'), T_to_FLUT(55, 'C')),\n",
    "                             cmap='FLUT CIMSS', dynamic=False, frame_width=500)\n",
    "    \n",
    "g"
   ]
  },
  {
   "cell_type": "code",
   "execution_count": null,
   "id": "b4ee67ae-22e3-4130-a60e-ca6fc799923b",
   "metadata": {},
   "outputs": [],
   "source": [
    "h3pr_ds.FLUT.isel(time=23).hvplot.quadmesh('lon', 'lat', geo=True, rasterize=True, dynamic=False,\n",
    "                                           clim=(T_to_FLUT(-110, 'C'), T_to_FLUT(55, 'C')),\n",
    "                             cmap = 'FLUT_CIMSS',  coastline='10m', frame_width=500)"
   ]
  },
  {
   "cell_type": "code",
   "execution_count": null,
   "id": "591636f8-e55d-4a7c-ac26-36be4858df48",
   "metadata": {},
   "outputs": [],
   "source": [
    "h3pr_ds.FLUT.isel(time=23).hvplot.quadmesh('lon', 'lat', geo=True, rasterize=True, clim=(T_to_FLUT(-110, 'C'), T_to_FLUT(55, 'C')),\n",
    "                             cmap = 'viridis', dynamic=False, coastline='10m', frame_width=500)"
   ]
  },
  {
   "cell_type": "code",
   "execution_count": null,
   "id": "3de863c2-80f5-4ae5-954c-d06e0287f9e5",
   "metadata": {},
   "outputs": [],
   "source": [
    "h3pr_ds.FLUT.isel(time=23).hvplot.quadmesh('lon', 'lat', geo=True, rasterize=True, clim=(T_to_FLUT(-110, 'C'), T_to_FLUT(55, 'C')),\n",
    "                             cmap = 'FLUT_CIMSS', dynamic=False, coastline='10m', frame_width=500)"
   ]
  },
  {
   "cell_type": "code",
   "execution_count": null,
   "id": "8c696b27-a44c-4812-8e84-c724a18e57e0",
   "metadata": {},
   "outputs": [],
   "source": [
    "p_mesh_ds"
   ]
  },
  {
   "cell_type": "code",
   "execution_count": null,
   "id": "29d427d8-ab51-455a-a9ea-ef7c64c794f0",
   "metadata": {},
   "outputs": [],
   "source": [
    "plats = p_mesh_ds.grid_center_lat\n",
    "plons = p_mesh_ds.grid_center_lon\n",
    "\n",
    "h3pn_ds.FLUT.isel(time=23).hvplot.quadmesh(plons, plats, geo=True, rasterize=True, dynamic=False, frame_width=500,\n",
    "                                           clim=(T_to_FLUT(-110, 'C'), T_to_FLUT(55, 'C')), cmap='FLUT CIMSS', )"
   ]
  },
  {
   "cell_type": "code",
   "execution_count": null,
   "id": "58caa5aa-2701-4e66-9e0f-c28960ec42e3",
   "metadata": {},
   "outputs": [],
   "source": [
    "help('hvplot.plot')"
   ]
  },
  {
   "cell_type": "code",
   "execution_count": null,
   "id": "ee5d5f3e-f4d2-4b52-aea0-f3f2d93f7ece",
   "metadata": {},
   "outputs": [],
   "source": [
    "hvplot.help('quadmesh')"
   ]
  },
  {
   "cell_type": "markdown",
   "id": "c82c9ff3-8313-42db-afe8-419937314d2b",
   "metadata": {
    "jp-MarkdownHeadingCollapsed": true,
    "tags": []
   },
   "source": [
    "# Plotly"
   ]
  },
  {
   "cell_type": "code",
   "execution_count": null,
   "id": "703a3636-e476-43f5-8ea6-46b066d19a4f",
   "metadata": {},
   "outputs": [],
   "source": [
    "h1cr_ds"
   ]
  },
  {
   "cell_type": "code",
   "execution_count": null,
   "id": "66a15641-ff86-4bc7-9f7c-fa8e39645be6",
   "metadata": {},
   "outputs": [],
   "source": [
    "h1cn_ds"
   ]
  },
  {
   "cell_type": "code",
   "execution_count": null,
   "id": "24bfa392-c453-4021-adaa-e1d2da38a05f",
   "metadata": {},
   "outputs": [],
   "source": [
    "hvplot.extension('plotly')"
   ]
  },
  {
   "cell_type": "code",
   "execution_count": null,
   "id": "96ac3315-c476-439a-b000-1f3588a5ffbe",
   "metadata": {},
   "outputs": [],
   "source": []
  },
  {
   "cell_type": "markdown",
   "id": "7b3949bd-b146-4f2d-9026-5bf0ce927c63",
   "metadata": {},
   "source": [
    "# PyNGL"
   ]
  },
  {
   "cell_type": "code",
   "execution_count": null,
   "id": "72fcce24-7347-4ab2-a4aa-1a4a50330183",
   "metadata": {},
   "outputs": [],
   "source": [
    "# https://www.pyngl.ucar.edu/Examples/gallery.shtml\n",
    "import Ngl, Nio"
   ]
  },
  {
   "cell_type": "markdown",
   "id": "cc1fd40f-4c48-4c27-b556-2eebf8f6bd6b",
   "metadata": {
    "jp-MarkdownHeadingCollapsed": true,
    "tags": []
   },
   "source": [
    "### MPAS"
   ]
  },
  {
   "cell_type": "code",
   "execution_count": null,
   "id": "48c5683a-eb90-433e-ac31-80f102a47d86",
   "metadata": {},
   "outputs": [],
   "source": [
    "# https://www.pyngl.ucar.edu/Examples/Scripts/mpas1.py\n",
    "#---Read data from MPAS Grid\n",
    "f  = Nio.open_file(c_mesh)\n",
    "sp = f.variables[\"surface_pressure\"][0,:]\n",
    "sp = sp/1000.   # Not sure what the pressure units are, there's\n",
    "                # not much metadata info on this file\n",
    "\n",
    "lonCell = f.variables[\"lonCell\"][:]\n",
    "latCell = f.variables[\"latCell\"][:]\n",
    "\n",
    "#---Convert to degrees from radians\n",
    "RAD2DEG   = 180.0/(math.atan(1)*4.0)  # Radian to Degree\n",
    "lonCell   = lonCell * RAD2DEG\n",
    "latCell   = latCell * RAD2DEG\n",
    "\n",
    "#---Start the graphics\n",
    "wks_type = \"png\"\n",
    "wks = Ngl.open_wks(wks_type,\"mpas1\")\n",
    "\n",
    "#---Read in desired color map so we can subset it later\n",
    "cmap = Ngl.read_colormap_file(\"WhiteBlueGreenYellowRed\")\n",
    "\n",
    "res                      = Ngl.Resources()              # Plot mods desired.\n",
    "\n",
    "res.cnFillOn             = True              # color plot desired\n",
    "res.cnFillPalette        = cmap[48:208,:]    # Don't use white\n",
    "res.cnLinesOn            = False             # turn off contour lines\n",
    "res.cnLineLabelsOn       = False             # turn off contour labels\n",
    "res.lbOrientation        = \"Horizontal\"      # vertical by default\n",
    "\n",
    "res.trGridType           = \"TriangularMesh\"  # This is required to allow\n",
    "                                             # missing coordinates.\n",
    "res.cnLevelSelectionMode = \"ManualLevels\"\n",
    "res.cnMinLevelValF       = 55\n",
    "res.cnMaxLevelValF       = 100\n",
    "res.cnLevelSpacingF      = 2.5\n",
    "res.mpFillOn             = False\n",
    "res.mpGridAndLimbOn      = False\n",
    "\n",
    "res.sfXArray             = lonCell\n",
    "res.sfYArray             = latCell\n",
    "\n",
    "res.cnFillMode           = \"RasterFill\"      # turn raster on      \n",
    "res.tiMainString         = \"Surface pressure on MPAS grid ({} cells)\".format(sp.shape[0])\n",
    "res.tiMainFontHeightF   = 0.018\n",
    "\n",
    "plot = Ngl.contour_map(wks,sp,res)  \n",
    "\n",
    "Ngl.end()\n"
   ]
  },
  {
   "cell_type": "code",
   "execution_count": null,
   "id": "8decc117-80ae-4a42-966f-f012850ca8ca",
   "metadata": {},
   "outputs": [],
   "source": []
  },
  {
   "cell_type": "markdown",
   "id": "8a2b3ad7-e641-4021-bc30-1de13265a4fd",
   "metadata": {
    "jp-MarkdownHeadingCollapsed": true,
    "tags": []
   },
   "source": [
    "### CAMSE"
   ]
  },
  {
   "cell_type": "code",
   "execution_count": null,
   "id": "1f244e1d-aea1-4e10-aacb-3f5014194372",
   "metadata": {},
   "outputs": [],
   "source": [
    "# https://www.pyngl.ucar.edu/Examples/Scripts/camse1.py\n",
    "import numpy, Nio, Ngl, sys, os\n",
    "\n",
    "#---Read data\n",
    "filename = \"b.e12.B1850C5CN.ne30_g16.init.ch.027.cam.h0.0001-01.nc\"\n",
    "if(not os.path.exists(filename)):\n",
    "  print(\"You do not have the necessary '{}' file to run this example.\".format(filename))\n",
    "  print(\"See the comments at the top of this script for more information.\")\n",
    "  sys.exit()\n",
    "\n",
    "a     = Nio.open_file(filename)\n",
    "vname = \"TS\"\n",
    "data  = a.variables[vname]    \n",
    "lat   = a.variables[\"lat\"][:]        # 1D array (48602 cells)\n",
    "lon   = a.variables[\"lon\"][:]        # ditto\n",
    "\n",
    "ncells = data.shape[1]\n",
    "print(\"There are {} cells in the {} variable\".format(ncells,vname))\n",
    "\n",
    "wks_type = \"png\"\n",
    "wks = Ngl.open_wks(wks_type,\"camse1\")\n",
    "\n",
    "#---Set some plot options\n",
    "res                   = Ngl.Resources()\n",
    "\n",
    "# Contour options\n",
    "res.cnFillOn          = True          # turn on contour fill\n",
    "res.cnLinesOn         = False         # turn off contour lines\n",
    "res.cnLineLabelsOn    = False         # turn off line labels\n",
    "res.cnLevelSpacingF   = 2.5           # NCL chose 5.0\n",
    "res.cnFillPalette     = \"WhiteBlueGreenYellowRed\"\n",
    "\n",
    "# Map options\n",
    "res.mpProjection      = \"Orthographic\"\n",
    "res.mpCenterLonF      = 40\n",
    "res.mpCenterLatF      = 60\n",
    "res.mpPerimOn         = False\n",
    "\n",
    "# Not sure why I need this.\n",
    "res.pmTickMarkDisplayMode = \"Never\"\n",
    "\n",
    "# Main Title\n",
    "res.tiMainString      = f'{data.long_name} ({data.units}) ({ncells} cells)'\n",
    "res.tiMainFontHeightF = 0.018\n",
    "\n",
    "# Labelbar options\n",
    "res.lbLabelFontHeightF = 0.01\n",
    "\n",
    "#---Additional resources needed for putting contours on map\n",
    "res.sfXArray          = lon\n",
    "res.sfYArray          = lat\n",
    "\n",
    "plot = Ngl.contour_map(wks,data[0,:],res)\n",
    "\n",
    "Ngl.end()"
   ]
  },
  {
   "cell_type": "markdown",
   "id": "536d06e6-28ee-477c-86ca-4ae7d36bc4ad",
   "metadata": {},
   "source": [
    "# Paul's NCL Code"
   ]
  },
  {
   "cell_type": "code",
   "execution_count": null,
   "id": "f2217167-4334-46dc-8a8f-f53ac882ba4f",
   "metadata": {},
   "outputs": [],
   "source": [
    "# https://github.com/SEATStandards/ncvis\n",
    "\n"
   ]
  },
  {
   "cell_type": "markdown",
   "id": "f8fb2d28-01ad-45f6-b198-3d50fad9c7b5",
   "metadata": {},
   "source": [
    "# psyplot"
   ]
  },
  {
   "cell_type": "code",
   "execution_count": null,
   "id": "a7c32a0c-e417-498f-979b-8b522440e0a1",
   "metadata": {},
   "outputs": [],
   "source": [
    "# https://psyplot.github.io/examples/maps/example_ugrid.html"
   ]
  },
  {
   "cell_type": "code",
   "execution_count": null,
   "id": "740dd4fe-2cb4-4a57-b400-94be47d7984c",
   "metadata": {},
   "outputs": [],
   "source": []
  }
 ],
 "metadata": {
  "kernelspec": {
   "display_name": "Python [conda env:uviz]",
   "language": "python",
   "name": "conda-env-uviz-py"
  },
  "language_info": {
   "codemirror_mode": {
    "name": "ipython",
    "version": 3
   },
   "file_extension": ".py",
   "mimetype": "text/x-python",
   "name": "python",
   "nbconvert_exporter": "python",
   "pygments_lexer": "ipython3",
   "version": "3.8.15"
  }
 },
 "nbformat": 4,
 "nbformat_minor": 5
}
