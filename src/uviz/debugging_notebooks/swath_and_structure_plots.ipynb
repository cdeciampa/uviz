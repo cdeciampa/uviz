{
 "cells": [
  {
   "cell_type": "code",
   "execution_count": null,
   "id": "4654c391-f5f7-4218-b1b6-1040c61a4760",
   "metadata": {},
   "outputs": [],
   "source": [
    "import os\n",
    "import glob\n",
    "\n",
    "import numpy as np\n",
    "import pandas as pd\n",
    "import xarray as xr\n",
    "\n",
    "from metpy.units import units\n",
    "\n",
    "import cartopy.crs as ccrs\n",
    "\n",
    "import bokeh.palettes\n",
    "from bokeh.models import FixedTicker\n",
    "\n",
    "import holoviews as hv\n",
    "from holoviews import opts\n",
    "import geoviews.feature as gf\n",
    "\n",
    "from uviz.plotting.hv_plot import Polymesh, plot_native\n",
    "from uviz.plotting.utils import basin_bboxes, CustomColorbars\n",
    "from uviz.plotting.processing import ModelData\n",
    "\n",
    "from uviz.datashader_tools.visualization import diverging_colormap\n",
    "\n",
    "hv.extension(\"bokeh\")"
   ]
  },
  {
   "cell_type": "code",
   "execution_count": null,
   "id": "c4057c66-cf8f-4113-a78b-b83f7ac68093",
   "metadata": {},
   "outputs": [],
   "source": [
    "tracks_dir = r\"/gpfs/group/cmz5202/default/cnd5285/synth_events\"\n",
    "track_folders = glob.glob(os.path.join(tracks_dir, '*storm*'))\n",
    "parent_folders = [os.path.join(folder, '28km') for folder in track_folders]\n",
    "child_folders = [os.path.join(folder, '3km') for folder in track_folders]"
   ]
  },
  {
   "cell_type": "code",
   "execution_count": null,
   "id": "26e598c3-00bf-4b5d-9a38-546fdce202eb",
   "metadata": {},
   "outputs": [],
   "source": [
    "%%time\n",
    "all_storms = ModelData(tracks_dir, regridded=False).storms\n",
    "\n",
    "# It's actually faster to read in data non-parallel (1 min 11s) vs parallel (2 min 54s)"
   ]
  },
  {
   "cell_type": "code",
   "execution_count": null,
   "id": "6ba5afad-4833-4099-a787-72c36726cafc",
   "metadata": {},
   "outputs": [],
   "source": [
    "storm_names = [x for x in all_storms.keys() if x != 'Charley']"
   ]
  },
  {
   "cell_type": "code",
   "execution_count": null,
   "id": "b88ee427-4d8b-4b79-bfd2-e5882ccf15e0",
   "metadata": {},
   "outputs": [],
   "source": [
    "def return_polymesh(storm, model, var, nan_idx=None, dims={}):\n",
    "    \"\"\"\n",
    "    Function to automate Polymesh ds retrieval\n",
    "    \"\"\"\n",
    "    if var in ['PRECT_TOT', 'PRECT_MAX', 'PRECT_MAX_CONV']:\n",
    "        if model == 'cam':\n",
    "            ds = 'h4pn_ds'\n",
    "            mesh = 'parent_grid'\n",
    "        elif model == 'mpas':\n",
    "            ds = 'h4cn_ds'\n",
    "            mesh = 'child_grid'\n",
    "    else:\n",
    "        if model == 'cam':\n",
    "            ds = 'h3pn_ds'\n",
    "            mesh = 'parent_grid'\n",
    "        elif model == 'mpas':\n",
    "            ds = 'h3cn_ds'\n",
    "            mesh = 'child_grid'\n",
    "            \n",
    "    if var not in ['PRECT_TOT', 'PRECT_MAX', 'U10_MAX', 'WSP850_MAX', 'PRECT_MAX_CONV'] and not dims:\n",
    "        raise ValueError('Must supply dims for time or level dependent variable.')\n",
    "    \n",
    "    # Makes copy of xr Dataset so it doesn't overwrite data in place with nans\n",
    "    sel_ds = all_storms[storm][ds].copy()\n",
    "    sel_mesh = all_storms[storm][mesh]\n",
    "    \n",
    "    # Masks non-target values with nans (for landmask/subset purposes)\n",
    "    if isinstance(nan_idx, np.ndarray):\n",
    "        sel_ds[var].loc[~sel_ds.ncol.isin(nan_idx)] = np.nan\n",
    "    \n",
    "    df = Polymesh(sel_mesh, sel_ds, model=model).data_mesh(target_var=var, dims=dims, fill=\"faces\")\n",
    "    \n",
    "    return df"
   ]
  },
  {
   "cell_type": "code",
   "execution_count": null,
   "id": "177a944e-6196-45ea-a2b2-72338da7392b",
   "metadata": {},
   "outputs": [],
   "source": [
    "def spatial_subset(ds, bbox, overland=False, get_idx=False, **kwargs):\n",
    "    \n",
    "    # Masks out land values if True\n",
    "    if overland == True:\n",
    "        ds = mask_land(ds)\n",
    "\n",
    "    # Retrieves bounding box coordinates\n",
    "    if isinstance(bbox, (dict, str)):\n",
    "        lons, lats = basin_bboxes(bbox)\n",
    "    else:\n",
    "        lons, lats = bbox\n",
    "\n",
    "    # Subsets data spatially (for regridded data)\n",
    "    if 'lon' in ds.dims:\n",
    "        ds = ds.sel(lon=slice(lons[0], lons[1]), lat=slice(lats[0], lats[1]))\n",
    "\n",
    "    # For native data\n",
    "    elif 'ncol' in ds.dims:\n",
    "        # Retrieves subset with nans dropped\n",
    "        ds = ds.where((ds['lon'] >= lons[0]) & (ds['lon'] <= lons[1]) & \n",
    "                      (ds['lat'] >= lats[0]) & (ds['lat'] <= lats[1]), drop=True)\n",
    "\n",
    "    return ds"
   ]
  },
  {
   "cell_type": "code",
   "execution_count": null,
   "id": "a86bcc42-9edb-4dfa-be80-f7adacb4c8e0",
   "metadata": {},
   "outputs": [],
   "source": [
    "def get_subset_idx(ds, bbox, overland=True):\n",
    "    \n",
    "    # Retrieves bounding box coordinates\n",
    "    if isinstance(bbox, (dict, str)):\n",
    "        lons, lats = basin_bboxes(bbox)\n",
    "    else:\n",
    "        lons, lats = bbox\n",
    "        \n",
    "    # Gets indices to feed to ncol (for plotting)\n",
    "    if 'ncol' in ds.dims:\n",
    "        # Retrieves subset but leaves nans in place\n",
    "        sub_ds = ds.where((ds['lon'] >= lons[0]) & (ds['lon'] <= lons[1]) &\n",
    "                          (ds['lat'] >= lats[0]) & (ds['lat'] <= lats[1]))\n",
    "        \n",
    "        # Retrieves latitude and longitude values\n",
    "        sub_lons = sub_ds.lon.values\n",
    "        sub_lats = sub_ds.lat.values\n",
    "        \n",
    "        # Gets ncol indices of non-nan values\n",
    "        lon_idx = np.argwhere(~np.isnan(sub_lons)).flatten()\n",
    "        lat_idx = np.argwhere(~np.isnan(sub_lats)).flatten()\n",
    "        \n",
    "        # Gets union of both indices\n",
    "        sub_idx = np.intersect1d(lon_idx, lat_idx)\n",
    "        \n",
    "        if overland == True:\n",
    "            # Masks out land values\n",
    "            land_idx = mask_land(ds, return_idx=True)[1]\n",
    "            \n",
    "            # Also gets union of subset indices and landmask indices\n",
    "            idx = np.intersect1d(sub_idx, land_idx)\n",
    "        else:\n",
    "            idx = sub_idx\n",
    "                \n",
    "        return idx\n",
    "    \n",
    "    # Add else clause here + error message for regridded data"
   ]
  },
  {
   "cell_type": "code",
   "execution_count": null,
   "id": "74afef92-71e4-42e9-b3a8-2623ae3c0360",
   "metadata": {},
   "outputs": [],
   "source": [
    "import datashader as ds\n",
    "from holoviews import opts\n",
    "\n",
    "def plot_overlays(base_df, contour_df, plot='shear'):\n",
    "    # Defines defaults\n",
    "    w = 1000\n",
    "    h = 700\n",
    "    \n",
    "    proj = ccrs.PlateCarree()\n",
    "    lon_range, lat_range = basin_bboxes('florida')\n",
    "    x_range, y_range, _ = proj.transform_points(ccrs.PlateCarree(), np.array(lon_range), np.array(lat_range)).T\n",
    "    x_range = tuple(x_range)\n",
    "    y_range = tuple(y_range)\n",
    "    \n",
    "    plot_opts = dict(width=w, height=h, xaxis=None, yaxis=None)\n",
    "    \n",
    "    lw = 2.0\n",
    "    coastline_opts = dict(scale='10m', line_color='#000000', line_width=lw, width=w, height=h)\n",
    "    states_opts = dict(scale='50m', line_color='#000000', line_width=lw, width=w, height=h, fill_color='none')\n",
    "    \n",
    "    if plot == 'shear':\n",
    "        base_cmap = 'gist_yarg'\n",
    "        base_levs = CustomColorbars(target_cmap='FLUT').out_levels\n",
    "        base_cmin = base_levs[0]\n",
    "        base_cmax = base_levs[-1]\n",
    "        base_cmap_opts = dict(cmap=base_cmap, clim=(base_cmin, base_cmax), colorbar=False)\n",
    "        base_plot_opts = dict(**plot_opts, **base_cmap_opts)\n",
    "        \n",
    "        contour_cmap = [\"#00ff00\", \"#00ff00\", \"#fffe00\", \"#ff0200\"]\n",
    "        contour_levs = [0.0, 10.0, 20.0, 30.0]\n",
    "        \n",
    "    elif plot == 'cape':\n",
    "        base_cmap = ['#ffffff', '#ffffff', \"#4bd2f7\", \"#699fd0\", \"#3c4bac\", \n",
    "                     \"#3cf74b\", \"#3cb447\", \"#3c8743\", \"#1f4723\", \"#f7f73c\"]\n",
    "        base_levs = CustomColorbars('nws_precip').out_levels[:11]\n",
    "        base_cmin = base_levs[0]\n",
    "        base_cmax = base_levs[-1]\n",
    "        base_cmap_opts = dict(cmap=base_cmap, clim=(base_cmin, base_cmax), colorbar=False)\n",
    "        base_plot_opts = dict(**plot_opts, **base_cmap_opts, alpha=0.75, color_levels=base_levs)\n",
    "         \n",
    "        contour_cmap = [\"#cc0205\", \"#ad0006\", \"#8f0004\", \"#720000\"]\n",
    "        contour_levs = [500, 1000, 1500, 2000]\n",
    "        \n",
    "    contour_cmin = contour_levs[0]\n",
    "    contour_cmax = contour_levs[-1]\n",
    "    contour_cmap_opts = dict(cmap=contour_cmap, clim=(contour_cmin, contour_cmax), colorbar=False)\n",
    "    contour_plot_opts = dict(**plot_opts, **contour_cmap_opts)\n",
    "    \n",
    "    coastline_layer = gf.coastline(projection=proj).opts(**coastline_opts, xlim=x_range, ylim=y_range)\n",
    "    states_layer = gf.states(projection=proj).opts(**states_opts, xlim=x_range, ylim=y_range)\n",
    "\n",
    "    # Sets up basemap\n",
    "    cvs = ds.Canvas(plot_width=w, plot_height=h, x_range=x_range, y_range=y_range)\n",
    "\n",
    "    # Adds base layer polygons\n",
    "    agg_base = cvs.polygons(base_df, geometry='geometry', agg=ds.mean('faces'))\n",
    "\n",
    "    # Rasterizes layer\n",
    "    hv_img_base = hv.element.raster.Image(agg_base).opts(**base_plot_opts)\n",
    "\n",
    "    # Adds geographic layers\n",
    "    hv_img_base = hv_img_base * coastline_layer * states_layer\n",
    "\n",
    "    # Adds shear polygons\n",
    "    agg_contour = cvs.polygons(contour_df, geometry='geometry', agg=ds.mean('faces'))\n",
    "\n",
    "    # Rasterizes layer\n",
    "    hv_img_contour = hv.element.raster.Image(agg_contour).opts(**contour_plot_opts)\n",
    "\n",
    "    # Retrieves contours from shear layer and adds to plot\n",
    "    out_plot = hv_img_base * hv.operation.contours(hv_img_contour, levels=contour_levs)\n",
    "    out_plot = out_plot.opts(opts.Contours(**contour_cmap_opts, line_width=lw+3.0, show_legend=False))\n",
    "    out_plot = out_plot.opts(**plot_opts)\n",
    "    \n",
    "    return out_plot"
   ]
  },
  {
   "cell_type": "markdown",
   "id": "baf30bfa-0b93-447d-ab98-1f6d4248a68c",
   "metadata": {
    "tags": []
   },
   "source": [
    "# OLR Figs"
   ]
  },
  {
   "cell_type": "code",
   "execution_count": null,
   "id": "f730475c-d13e-4a81-8846-63e8dd50c494",
   "metadata": {
    "tags": []
   },
   "outputs": [],
   "source": [
    "# Subsets data by user-defined bounding box\n",
    "storm_names = [x for x in all_storms.keys() if x not in ['Irma', 'Ian', 'Isaac', 'Charley', 'Fay']]\n",
    "\n",
    "# Just for Charley, Irma, and Ian\n",
    "#storm_names = [x for x in all_storms.keys() if x in ['Irma', 'Ian', 'Isaac' 'Fay']]"
   ]
  },
  {
   "cell_type": "code",
   "execution_count": null,
   "id": "7abcfca9-6ebc-404a-a1ee-b3294552641b",
   "metadata": {},
   "outputs": [],
   "source": [
    "%%time\n",
    "h3pn_subsets = list(map(lambda x: spatial_subset(all_storms[x]['h3pn_ds'], 'florida'), storm_names))\n",
    "h3cn_subsets = list(map(lambda x: spatial_subset(all_storms[x]['h3cn_ds'], 'florida'), storm_names))\n",
    "\n",
    "# Finds the timestep at which the maximum OLR occurs\n",
    "delay = 5 # trying to avoid model spin-up\n",
    "clip = -10 # trying to catch peak within middle of model run\n",
    "min_slps_h3pn = [ds['PSL'].isel(time=slice(delay, clip)).compute().min('ncol').argmin(dim='time').values+delay for ds in h3pn_subsets]\n",
    "min_slps_h3cn = [ds['PSL'].isel(time=slice(delay, clip)).compute().min('ncol').argmin(dim='time').values+delay for ds in h3cn_subsets]"
   ]
  },
  {
   "cell_type": "code",
   "execution_count": null,
   "id": "93a7ba08-ad2e-4314-9684-ace52f2ed261",
   "metadata": {},
   "outputs": [],
   "source": [
    "min_slps_h3cn"
   ]
  },
  {
   "cell_type": "code",
   "execution_count": null,
   "id": "996a134c-ef9a-4040-a0f8-9bad33adebdc",
   "metadata": {},
   "outputs": [],
   "source": [
    "min_slps_h3pn"
   ]
  },
  {
   "cell_type": "code",
   "execution_count": null,
   "id": "2c63265e-e799-4ce0-aecc-62cd114f55e7",
   "metadata": {},
   "outputs": [],
   "source": [
    "# Use max intensity parent timesteps for child\n",
    "min_slps_h3pn = [15, 18, 11, 14, 39, 26, 17, 7, 12]\n",
    "\n",
    "p_olr_dfs = [return_polymesh(s, 'cam', 'FLUT', dims=dict(time=i)) for s, i in zip(storm_names, min_slps_h3pn)]\n",
    "c_olr_dfs = [return_polymesh(s, 'mpas', 'FLUT', dims=dict(time=i)) for s, i in zip(storm_names, min_slps_h3pn)]\n",
    "time_str_c = [pd.to_datetime(str(all_storms[s]['h3cn_ds'].isel(time=t).time.values)).strftime('%m%d%Y%H') for s, t in zip(storm_names, min_slps_h3pn)]\n",
    "time_str_p = [pd.to_datetime(str(all_storms[s]['h3pn_ds'].isel(time=t).time.values)).strftime('%m%d%Y%H') for s, t in zip(storm_names, min_slps_h3pn)]"
   ]
  },
  {
   "cell_type": "code",
   "execution_count": null,
   "id": "f60426ad-cf07-45d9-bf23-c95e96ed1d5a",
   "metadata": {},
   "outputs": [],
   "source": [
    "%%time\n",
    "p_olr_dfs = [return_polymesh(s, 'cam', 'FLUT', dims=dict(time=i)) for s, i in zip(storm_names, min_slps_h3pn)]\n",
    "c_olr_dfs = [return_polymesh(s, 'mpas', 'FLUT', dims=dict(time=i)) for s, i in zip(storm_names, min_slps_h3cn)]"
   ]
  },
  {
   "cell_type": "code",
   "execution_count": null,
   "id": "f41cc9b2-adf7-475a-b757-b8c68d8cf80c",
   "metadata": {},
   "outputs": [],
   "source": [
    "# Converts timesteps to strings\n",
    "time_str_p = [pd.to_datetime(str(all_storms[s]['h3pn_ds'].isel(time=t).time.values)).strftime('%m%d%Y%H') for s, t in zip(storm_names, min_slps_h3pn)]\n",
    "time_str_c = [pd.to_datetime(str(all_storms[s]['h3cn_ds'].isel(time=t).time.values)).strftime('%m%d%Y%H') for s, t in zip(storm_names, min_slps_h3cn)]"
   ]
  },
  {
   "cell_type": "code",
   "execution_count": null,
   "id": "6653326e-7716-43de-83c5-ea098435b801",
   "metadata": {},
   "outputs": [],
   "source": [
    "p_shear_dfs = [return_polymesh(s, 'cam', 'SHEAR_TC', dims=dict(time=i)) for s, i in zip(storm_names, min_slps_h3pn)]\n",
    "c_shear_dfs = [return_polymesh(s, 'mpas', 'SHEAR_TC', dims=dict(time=i)) for s, i in zip(storm_names, min_slps_h3pn)]"
   ]
  },
  {
   "cell_type": "code",
   "execution_count": null,
   "id": "a674fe39-5085-4d44-a25a-a0d1596444b2",
   "metadata": {},
   "outputs": [],
   "source": [
    "for df in c_shear_dfs:\n",
    "    print(df['faces'].max())"
   ]
  },
  {
   "cell_type": "code",
   "execution_count": null,
   "id": "b57a026b-2f0f-49ba-be03-3b3b90ea9762",
   "metadata": {},
   "outputs": [],
   "source": [
    "for df in c_shear_dfs:\n",
    "    print(df['faces'].min())"
   ]
  },
  {
   "cell_type": "code",
   "execution_count": null,
   "id": "af0ecc5c-7bb1-45f9-8146-e604e85737c3",
   "metadata": {},
   "outputs": [],
   "source": [
    "cape_color = \"#cc0205\" # levels = 500, 1000, 1500, 2000\n",
    "cin_line_color = \"#0719fb\"\n",
    "\n",
    "hv.Polygons(polymesh_df, vdims=['faces']).opts(line_color='faces', fill_color='None', clim=(0, 100)) "
   ]
  },
  {
   "cell_type": "markdown",
   "id": "b55d71f2-20d4-405c-a53d-2509fa999735",
   "metadata": {},
   "source": [
    "## Including shear"
   ]
  },
  {
   "cell_type": "code",
   "execution_count": null,
   "id": "9e1061ac-78b1-405a-b916-8957b414e723",
   "metadata": {},
   "outputs": [],
   "source": [
    "cam_shear_plots = [plot_overlays(x, y, 'shear') for x, y in zip(p_olr_dfs, p_shear_dfs)]\n",
    "mpas_shear_plots = [plot_overlays(x, y, 'shear') for x, y in zip(c_olr_dfs, c_shear_dfs)]"
   ]
  },
  {
   "cell_type": "code",
   "execution_count": null,
   "id": "e2968410-763d-4620-8e7d-bb9581be7425",
   "metadata": {
    "tags": []
   },
   "outputs": [],
   "source": [
    "[hv.save(fig, f'../figs/new_tracks/{storm}/cam_shear_olr_{ts}.png', dpi=300, center=False) for fig, storm, ts in zip(cam_shear_plots, storm_names, time_str_p)]"
   ]
  },
  {
   "cell_type": "code",
   "execution_count": null,
   "id": "c3e7e283-8595-4829-8d86-a23faacaf012",
   "metadata": {
    "tags": []
   },
   "outputs": [],
   "source": [
    "[hv.save(fig, f'../figs/new_tracks/{storm}/mpas_shear_olr_{ts}.png', dpi=300, center=False) for fig, storm, ts in zip(mpas_shear_plots, storm_names, time_str_p)]"
   ]
  },
  {
   "cell_type": "code",
   "execution_count": null,
   "id": "5deaaaa3-d4d5-40c7-a914-908ffd424148",
   "metadata": {
    "jupyter": {
     "source_hidden": true
    },
    "tags": []
   },
   "outputs": [],
   "source": [
    "import matplotlib as mpl\n",
    "import matplotlib.colors as mcolors\n",
    "\n",
    "# Defines width and height for plot\n",
    "w=2000\n",
    "h=1400\n",
    "#h=1600\n",
    "\n",
    "w = int(w/2)\n",
    "h = int(h/2)\n",
    "\n",
    "# Defines rasterization options (expose options with `hv.help(hds_rasterize)`)\n",
    "datashader_opts = dict(aggregator='mean', precompute=True, vdim_prefix='', pixel_ratio=10)\n",
    "\n",
    "# Defines colorbar/colormap options\n",
    "flut_cmap = 'gist_yarg' # mpl.colormaps['gist_yarg']\n",
    "flut_levs = CustomColorbars(target_cmap='FLUT').out_levels\n",
    "    \n",
    "cmin = flut_levs[0]\n",
    "cmax = flut_levs[-1]\n",
    "clabel = r'Upwelling Longwave Flux [W/m^2]'\n",
    "cbar_opts = dict(height=40, border_line_width=3)\n",
    "cmap_opts = dict(cmap=flut_cmap, clim=(cmin, cmax), colorbar=False, \n",
    "                 colorbar_position='bottom', clabel=clabel)\n",
    "\n",
    "# Defines font options\n",
    "# font_opts = dict(fontsize=dict(title='35pt', clabel='27pt', cticks='25pt'))\n",
    "font_opts = dict(fontsize=dict(title='35pt', clabel='50pt', cticks='40pt'))\n",
    "if h < 1600:\n",
    "    cmap_opts['colorbar'] = False\n",
    "elif h == 1600:\n",
    "    cmap_opts['colorbar'] = True\n",
    "\n",
    "# Defines plotting options (expose options with `hv.help(hv.Polygons)`)\n",
    "olr_plot_opts = dict(width=w, height=h, xaxis=None, yaxis=None,\n",
    "                 colorbar_opts=cbar_opts, **cmap_opts, **font_opts)\n",
    "\n",
    "# Defines coastline plotting options\n",
    "#coastline_opts = dict(scale='10m', line_color='#f8f8f8', line_width=2.0, width=w, height=h)\n",
    "lw = 2.0\n",
    "coastline_opts = dict(scale='10m', line_color='#FFFFFF', line_width=lw, width=w, height=h)\n",
    "states_opts = dict(scale='50m', line_color='#FFFFFF', line_width=lw, width=w, height=h, fill_color='none')\n",
    "\n",
    "# Defines bounding bbox\n",
    "bbox = basin_bboxes('florida')\n",
    "\n",
    "# Packs into one dict for cleaner code\n",
    "plotting_kwargs = {'raster':True, 'plot_bbox':bbox, 'holoviews_kw':plot_opts, 'datashader_kw':datashader_opts, \n",
    "                   'coastline_kw':coastline_opts, 'states_kw':states_opts}\n",
    "\n",
    "#cam_olr_test = plot_native(p_olr_dfs[1], **plotting_kwargs)"
   ]
  },
  {
   "cell_type": "code",
   "execution_count": null,
   "id": "c3aebd80-42b5-4947-bb47-19d94e62f0ad",
   "metadata": {
    "tags": []
   },
   "outputs": [],
   "source": [
    "proj = ccrs.PlateCarree()\n",
    "lon_range, lat_range = basin_bboxes('florida')\n",
    "x_range, y_range, _ = proj.transform_points(ccrs.PlateCarree(), np.array(lon_range), np.array(lat_range)).T\n",
    "x_range = tuple(x_range)\n",
    "y_range = tuple(y_range)\n",
    "\n",
    "w=1000\n",
    "h=700\n",
    "\n",
    "# Defines colorbar/colormap options\n",
    "shear_cmap = CustomColorbars(target_cmap='shear_cimss').out_cmap\n",
    "#shear_cmap = [\"#00ff00\", \"#00ff00\", \"#fffe00\", *[*[\"#ff0200\"]*8]]\n",
    "shear_cmap = [\"#00ff00\", \"#00ff00\", \"#fffe00\", \"#ff0200\"]\n",
    "shear_levs = [0.0, 10.0, 20.0, 25.0]\n",
    "#shear_levs = CustomColorbars(target_cmap='shear_cimss').out_levels\n",
    "shear_cmap_opts = dict(cmap=shear_cmap, clim=(shear_levs[0], shear_levs[-1]), colorbar=False)\n",
    "shear_plot_opts = dict(width=w, height=h, xaxis=None, yaxis=None, **shear_cmap_opts)\n",
    "\n",
    "plot_opts = dict(width=w, height=h, xaxis=None, yaxis=None)\n",
    "\n",
    "lw = 2.0\n",
    "coastline_opts = dict(scale='10m', line_color='#FFFFFF', line_width=lw, width=w, height=h)\n",
    "states_opts = dict(scale='50m', line_color='#FFFFFF', line_width=lw, width=w, height=h, fill_color='none')\n",
    "\n",
    "coastline_layer = gf.coastline(projection=proj).opts(**coastline_opts, xlim=x_range, ylim=y_range)\n",
    "states_layer = gf.states(projection=proj).opts(**states_opts, xlim=x_range, ylim=y_range)"
   ]
  },
  {
   "cell_type": "code",
   "execution_count": null,
   "id": "bfc4f41c-9add-4613-8876-face4b3f2780",
   "metadata": {
    "tags": []
   },
   "outputs": [],
   "source": [
    "import datashader as ds\n",
    "from holoviews import opts\n",
    "\n",
    "# Sets up basemap\n",
    "cvs = ds.Canvas(plot_width=w, plot_height=h, x_range=x_range, y_range=y_range)\n",
    "\n",
    "# Adds OLR polygons\n",
    "agg_olr = cvs.polygons(c_olr_dfs[1], geometry='geometry', agg=ds.mean('faces'))\n",
    "\n",
    "# Rasterizes layer\n",
    "hv_img_olr = hv.element.raster.Image(agg_olr).opts(**olr_plot_opts)\n",
    "\n",
    "# Adds geographic layers\n",
    "hv_img_olr = hv_img_olr * coastline_layer * states_layer\n",
    "\n",
    "# Adds shear polygons\n",
    "agg_shear = cvs.polygons(c_shear_dfs[1], geometry='geometry', agg=ds.mean('faces'))\n",
    "\n",
    "# Rasterizes layer\n",
    "hv_img_shear = hv.element.raster.Image(agg_shear).opts(**shear_plot_opts)\n",
    "\n",
    "# Retrieves contours from shear layer and adds to plot\n",
    "shear_contours = hv_img_olr * hv.operation.contours(hv_img_shear, levels=shear_levs)\n",
    "shear_contours = shear_contours.opts(opts.Contours(**shear_cmap_opts, line_width=2.0, show_legend=False))\n",
    "shear_contours = shear_contours.opts(**plot_opts)"
   ]
  },
  {
   "cell_type": "code",
   "execution_count": null,
   "id": "94db38c5-7803-4493-8bbf-991058e3d33a",
   "metadata": {
    "tags": []
   },
   "outputs": [],
   "source": [
    "%%time\n",
    "hv.save(shear_contours, f'../figs/new_tracks/{storm_names[1]}/mpas_olr_shear_{time_str_p[1]}.png', dpi=300, center=False)"
   ]
  },
  {
   "cell_type": "markdown",
   "id": "0dcbe72e-bb2c-4f6d-a73f-2086d24c2218",
   "metadata": {
    "jp-MarkdownHeadingCollapsed": true,
    "tags": []
   },
   "source": [
    "## Testing"
   ]
  },
  {
   "cell_type": "code",
   "execution_count": null,
   "id": "4a115348-26d8-4cfa-bef4-a5b06183afcd",
   "metadata": {
    "tags": []
   },
   "outputs": [],
   "source": [
    "%%time\n",
    "# Finds the timestep at which the maximum OLR occurs\n",
    "delay = 5 # trying to avoid model spin-up\n",
    "clip = -10 # trying to catch peak within middle of model run\n",
    "max_fluts_h3pn = [ds['FLUT'].isel(time=slice(delay, clip)).compute().min('ncol').argmin(dim='time').values for ds in h3pn_subsets]\n",
    "max_fluts_h3cn = [ds['FLUT'].isel(time=slice(delay, clip)).compute().min('ncol').argmin(dim='time').values for ds in h3cn_subsets]"
   ]
  },
  {
   "cell_type": "code",
   "execution_count": null,
   "id": "5867d27a-8c09-4d04-bbce-91dc3ef77d6e",
   "metadata": {},
   "outputs": [],
   "source": [
    "min_slps_h3pn = [ds['PSL'].isel(time=slice(delay, clip)).compute().min('ncol').argmin(dim='time').values+5 for ds in h3pn_subsets]\n",
    "min_slps_h3cn = [ds['PSL'].isel(time=slice(delay, clip)).compute().min('ncol').argmin(dim='time').values+5 for ds in h3cn_subsets]"
   ]
  },
  {
   "cell_type": "code",
   "execution_count": null,
   "id": "e7cb2856-b665-4d84-b0f2-a4c583ecf469",
   "metadata": {},
   "outputs": [],
   "source": [
    "storm_names"
   ]
  },
  {
   "cell_type": "code",
   "execution_count": null,
   "id": "21d5087e-308f-409c-8708-2ecb51a57f00",
   "metadata": {},
   "outputs": [],
   "source": [
    "min_slps_h3pn"
   ]
  },
  {
   "cell_type": "code",
   "execution_count": null,
   "id": "ae330675-2d2a-40a7-8bf4-c82b311e3942",
   "metadata": {},
   "outputs": [],
   "source": [
    "max_fluts_h3pn"
   ]
  },
  {
   "cell_type": "code",
   "execution_count": null,
   "id": "0fe1e75e-1647-4119-8cdf-ce867fb57515",
   "metadata": {},
   "outputs": [],
   "source": [
    "storm_1521_df = return_polymesh('storm_1521', 'cam', 'FLUT', dims=dict(time=19))"
   ]
  },
  {
   "cell_type": "code",
   "execution_count": null,
   "id": "2a58e3b3-a997-478a-8aef-4041f505cbf8",
   "metadata": {
    "tags": []
   },
   "outputs": [],
   "source": [
    "# Gets plot from function\n",
    "cam_raster_plot = plot_native(storm_1521_df, plot_bbox=bbox, raster=True, holoviews_kw=plot_opts, \n",
    "                              coastline_kw=coastline_opts, datashader_kw=datashader_opts)\n",
    "cam_raster_plot"
   ]
  },
  {
   "cell_type": "code",
   "execution_count": null,
   "id": "4bf8e9f8-453b-4fcd-b528-5d00a53f6b10",
   "metadata": {},
   "outputs": [],
   "source": [
    "%%time\n",
    "# Finds the timestep at which the maximum OLR occurs\n",
    "delay = 5 # trying to avoid model spin-up\n",
    "clip = -15 # trying to catch peak within middle of model run\n",
    "h3pns = list(map(lambda x: all_storms[x]['h3pn_ds'], storm_names))\n",
    "h3cns = list(map(lambda x: all_storms[x]['h3cn_ds'], storm_names))\n",
    "max_fluts_h3pn = [ds['FLUT'].isel(time=slice(delay, clip)).compute().min('ncol').argmin(dim='time').values for ds in h3pns]\n",
    "max_fluts_h3cn = [ds['FLUT'].isel(time=slice(delay, clip)).compute().min('ncol').argmin(dim='time').values for ds in h3cns]"
   ]
  },
  {
   "cell_type": "code",
   "execution_count": null,
   "id": "cd62a2de-ee4f-46b2-bb3c-65d80e16cace",
   "metadata": {},
   "outputs": [],
   "source": [
    "%%time\n",
    "p_olr_dfs = [return_polymesh(s, 'cam', 'FLUT', dims=dict(time=i)) for s, i in zip(storm_names, max_fluts_h3pn)]\n",
    "c_olr_dfs = [return_polymesh(s, 'mpas', 'FLUT', dims=dict(time=i)) for s, i in zip(storm_names, max_fluts_h3cn)]"
   ]
  },
  {
   "cell_type": "code",
   "execution_count": null,
   "id": "e148d5a7-d4b1-4d14-adb0-6085ab8be40e",
   "metadata": {},
   "outputs": [],
   "source": [
    "%%time\n",
    "p_olr_dfs = [return_polymesh(s, 'cam', 'FLUT', dims=dict(time=i)) for s, i in zip(storm_names, min_slps_h3pn)]\n",
    "c_olr_dfs = [return_polymesh(s, 'mpas', 'FLUT', dims=dict(time=i)) for s, i in zip(storm_names, min_slps_h3cn)]"
   ]
  },
  {
   "cell_type": "markdown",
   "id": "c23c4970-3c0e-48f4-89d9-af2d5b00f3c7",
   "metadata": {
    "jp-MarkdownHeadingCollapsed": true,
    "tags": []
   },
   "source": [
    "## Testing storm_1279"
   ]
  },
  {
   "cell_type": "code",
   "execution_count": null,
   "id": "a376dcab-f776-4eef-9ec8-032e4f194566",
   "metadata": {},
   "outputs": [],
   "source": [
    "p_1279_mesh = all_storms['storm_1279']['parent_grid']\n",
    "p_1279_olr = [Polymesh(p_1279_mesh, all_storms['storm_1279']['h3pn_ds'], \n",
    "                       model='cam').data_mesh(target_var='FLUT', \n",
    "                                              dims=dict(time=i), \n",
    "                                              fill=\"faces\") for i in range(len(h3pn_subsets[-1].time))]"
   ]
  },
  {
   "cell_type": "code",
   "execution_count": null,
   "id": "9857e60e-56d2-4c51-881d-d7e9fb07b009",
   "metadata": {},
   "outputs": [],
   "source": [
    "s1279_mins = np.array([df['faces'].min() for df in p_1279_olr])"
   ]
  },
  {
   "cell_type": "code",
   "execution_count": null,
   "id": "c9f94e4b-5d59-4a74-8a2a-477de52d8d3e",
   "metadata": {},
   "outputs": [],
   "source": [
    "s1279_mins"
   ]
  },
  {
   "cell_type": "code",
   "execution_count": null,
   "id": "0337a956-d017-429c-a7b1-493cb755257f",
   "metadata": {},
   "outputs": [],
   "source": [
    "all_storms['storm_1279']['h3pn_ds']['FLUT'].isel(time=slice(delay, clip)).compute().min('ncol').argmin(dim='time')+5"
   ]
  },
  {
   "cell_type": "code",
   "execution_count": null,
   "id": "3f64b211-650a-4f8c-af11-751354d08953",
   "metadata": {},
   "outputs": [],
   "source": [
    "s1279_mins.argmin()"
   ]
  },
  {
   "cell_type": "code",
   "execution_count": null,
   "id": "5455230d-a591-4ea7-be1c-c0105bb41ba2",
   "metadata": {},
   "outputs": [],
   "source": [
    "s1279_mins.min()"
   ]
  },
  {
   "cell_type": "code",
   "execution_count": null,
   "id": "8994ff15-1e6f-45e2-be4b-c36d66d9a0a3",
   "metadata": {},
   "outputs": [],
   "source": [
    "# Gets plot from function\n",
    "raster_plots = [plot_native(df, plot_bbox=bbox, raster=True, holoviews_kw=plot_opts, \n",
    "                              coastline_kw=coastline_opts, datashader_kw=datashader_opts) for df in p_1279_olr]"
   ]
  },
  {
   "cell_type": "code",
   "execution_count": null,
   "id": "cc9e604d-8155-48b4-8e46-7fa79e3dde94",
   "metadata": {},
   "outputs": [],
   "source": [
    "times = all_storms['storm_1279']['h3cn_ds'].time.values\n",
    "time_str = [ts.strftime('%m%d%Y%H') for ts in times]"
   ]
  },
  {
   "cell_type": "code",
   "execution_count": null,
   "id": "5f37b867-30df-4fb1-a329-240467edc29c",
   "metadata": {
    "tags": []
   },
   "outputs": [],
   "source": [
    "[hv.save(df, f'../figs/new_tracks/storm_1279/cam_olr_{t}.png', dpi=300, center=False) for df, t in zip(raster_plots, time_str)]"
   ]
  },
  {
   "cell_type": "markdown",
   "id": "6b2cdab3-e8a1-47cd-82d0-628a2e6a7428",
   "metadata": {
    "tags": []
   },
   "source": [
    "## Back to regular code"
   ]
  },
  {
   "cell_type": "code",
   "execution_count": null,
   "id": "bb77e79c-947a-44fd-9fe4-db6277ccf839",
   "metadata": {},
   "outputs": [],
   "source": [
    "# Defines width and height for plot\n",
    "w=2000\n",
    "h=1400\n",
    "#h=1600\n",
    "\n",
    "w = int(w/2)\n",
    "h = int(h/2)\n",
    "\n",
    "# Defines rasterization options (expose options with `hv.help(hds_rasterize)`)\n",
    "datashader_opts = dict(aggregator='mean', precompute=True, vdim_prefix='', pixel_ratio=10)\n",
    "\n",
    "# Defines colorbar/colormap options\n",
    "flut_cmap = CustomColorbars(target_cmap='FLUT').out_cmap\n",
    "flut_levs = CustomColorbars(target_cmap='FLUT').out_levels\n",
    "    \n",
    "cmin = flut_levs[0]\n",
    "cmax = flut_levs[-1]\n",
    "clabel = r'Upwelling Longwave Flux [W/m^2]'\n",
    "cbar_opts = dict(height=40, border_line_width=3)\n",
    "cmap_opts = dict(cmap=flut_cmap, clim=(cmin, cmax), colorbar=False, \n",
    "                 colorbar_position='bottom', clabel=clabel)\n",
    "\n",
    "# Defines font options\n",
    "# font_opts = dict(fontsize=dict(title='35pt', clabel='27pt', cticks='25pt'))\n",
    "font_opts = dict(fontsize=dict(title='35pt', clabel='50pt', cticks='40pt'))\n",
    "if h < 1600:\n",
    "    cmap_opts['colorbar'] = False\n",
    "elif h == 1600:\n",
    "    cmap_opts['colorbar'] = True\n",
    "\n",
    "# Defines plotting options (expose options with `hv.help(hv.Polygons)`)\n",
    "plot_opts = dict(tools=['hover'], width=w, height=h, xaxis=None, yaxis=None,\n",
    "                 colorbar_opts=cbar_opts, **cmap_opts, **font_opts)\n",
    "\n",
    "# Defines coastline plotting options\n",
    "#coastline_opts = dict(scale='10m', line_color='#f8f8f8', line_width=2.0, width=w, height=h)\n",
    "lw = 2.0\n",
    "coastline_opts = dict(scale='10m', line_color='#FFFFFF', line_width=lw, width=w, height=h)\n",
    "states_opts = dict(scale='50m', line_color='#FFFFFF', line_width=lw, width=w, height=h, fill_color='none')\n",
    "\n",
    "# Defines bounding bbox\n",
    "bbox = basin_bboxes('florida')\n",
    "\n",
    "# Packs into one dict for cleaner code\n",
    "plotting_kwargs = {'raster':True, 'plot_bbox':bbox, 'holoviews_kw':plot_opts, 'datashader_kw':datashader_opts, \n",
    "                   'coastline_kw':coastline_opts, 'states_kw':states_opts}"
   ]
  },
  {
   "cell_type": "code",
   "execution_count": null,
   "id": "22d16998-7659-463a-89f0-5f0e8f82ccae",
   "metadata": {},
   "outputs": [],
   "source": [
    "type(flut_cmap)"
   ]
  },
  {
   "cell_type": "code",
   "execution_count": null,
   "id": "4a1cacbb-525e-4f0f-b650-3f8aa2ed2ace",
   "metadata": {},
   "outputs": [],
   "source": [
    "type(mpl.colormaps['gist_yarg'])"
   ]
  },
  {
   "cell_type": "code",
   "execution_count": null,
   "id": "cf5859a0-33c3-401d-9d91-91b6ea5c3334",
   "metadata": {},
   "outputs": [],
   "source": [
    "cam_plots = [plot_native(df, **plotting_kwargs) for df in p_olr_dfs]\n",
    "mpas_plots = [plot_native(df, **plotting_kwargs) for df in c_olr_dfs]"
   ]
  },
  {
   "cell_type": "code",
   "execution_count": null,
   "id": "f5678fc7-0a7f-4e14-9378-40ab93926f9a",
   "metadata": {
    "tags": []
   },
   "outputs": [],
   "source": [
    "[hv.save(fig, f'../figs/new_tracks/{storm}/{storm}_peak_olr_{ts}.png', dpi=300, center=False) for fig, storm, ts in zip(cam_plots, storm_names, time_str_p)]"
   ]
  },
  {
   "cell_type": "code",
   "execution_count": null,
   "id": "99faefa2-5af8-4df9-8c19-f06d13da2ed4",
   "metadata": {
    "tags": []
   },
   "outputs": [],
   "source": [
    "[hv.save(fig, f'../figs/new_tracks/{storm}/{storm}_peak_olr_mpas_{ts}.png', dpi=300, center=False) for fig, storm, ts in zip(mpas_plots, storm_names, time_str_c)]"
   ]
  },
  {
   "cell_type": "code",
   "execution_count": null,
   "id": "171d52c2-4164-40a3-8ea1-cac778d04b17",
   "metadata": {},
   "outputs": [],
   "source": [
    "# This is for making gifs\n",
    "\n",
    "# %%time\n",
    "# storm = 'storm_0236'\n",
    "# times = all_storms[storm]['h3cn_ds'].time.values\n",
    "# tstrings = [ts.strftime('%m%d%Y_%H') for ts in times]\n",
    "\n",
    "# # Uses Polymesh code to create polygons from mesh data\n",
    "# p_flut_dfs = [return_polymesh(storm, 'cam', 'FLUT', dims=dict(time=i)) for i in range(len(times))]\n",
    "\n",
    "# # Uses Polymesh code to create polygons from mesh data\n",
    "# c_flut_dfs = [return_polymesh(storm, 'mpas', 'FLUT', dims=dict(time=i)) for i in range(len(times))]\n",
    "\n",
    "# title_strings = [f\"{storm} {ts.strftime('%m-%d-%Y %H')}Z\" for ts in times]\n",
    "# cam_plots = [plot_native(df, **plotting_kwargs) for df in p_flut_dfs]\n",
    "# mpas_plots = [plot_native(df, **plotting_kwargs) for df in c_flut_dfs]\n",
    "\n",
    "# layout_kw = dict(fontsize=dict(title='45pt'))\n",
    "# flut_plots = [hv.Layout([cplt, mplt]).cols(2).opts(title=t, **layout_kw) for cplt, mplt, t in zip(cam_plots, mpas_plots, title_strings)]\n",
    "\n",
    "# tstrings = [ts.strftime('%m%d%Y%H') for ts in times]\n",
    "# [hv.save(fig, f'../figs/new_tracks/{storm}/OLR_{storm}_{ts}.png', dpi=300, center=False) for fig, ts in zip(flut_plots, tstrings)]\n",
    "\n",
    "# output_folder = r\"../figs/new_tracks/storm_0236\"\n",
    "# import os, glob\n",
    "# from PIL import Image\n",
    "\n",
    "# # Create the frames\n",
    "\n",
    "# imgs = glob.glob(os.path.join(output_folder, \"OLR*.png\"))\n",
    "# imgs.sort()\n",
    "# imgs = imgs[2:]\n",
    "\n",
    "# frames = []\n",
    "# for i in imgs:\n",
    "#     new_frame = Image.open(i)\n",
    "#     frames.append(new_frame)\n",
    "    \n",
    "# #Save into a GIF file that loops forever\n",
    "# duration = 200\n",
    "# frames[0].save(os.path.join(output_folder, f'OLR_{duration}_06052023.gif'), format='GIF',\n",
    "#                append_images=frames[1:],\n",
    "#                save_all=True,\n",
    "#                duration=duration, loop=0)\n",
    "# new_frame.close()"
   ]
  },
  {
   "cell_type": "code",
   "execution_count": null,
   "id": "21c8ef82-3d94-4515-87fa-312fbae83ef8",
   "metadata": {
    "tags": []
   },
   "outputs": [],
   "source": [
    "mpas_raster_plot = plot_native(ian_df, **plotting_kwargs)"
   ]
  },
  {
   "cell_type": "code",
   "execution_count": null,
   "id": "9e8f008c-ab4f-488a-ae00-b39d720a9c77",
   "metadata": {},
   "outputs": [],
   "source": [
    "# Gets plot from function\n",
    "cam_raster_plot = plot_native(p_olr_dfs[-1], plot_bbox=bbox, raster=True, holoviews_kw=plot_opts, \n",
    "                              coastline_kw=coastline_opts, datashader_kw=datashader_opts)\n",
    "cam_raster_plot"
   ]
  },
  {
   "cell_type": "code",
   "execution_count": null,
   "id": "c66db5ad-6583-4839-85c9-501c0ceada8f",
   "metadata": {},
   "outputs": [],
   "source": [
    "# Gets plot from function\n",
    "cam_raster_plots = [plot_native(df, plot_bbox=bbox, raster=True, holoviews_kw=plot_opts, \n",
    "                              coastline_kw=coastline_opts, datashader_kw=datashader_opts) for df in p_olr_dfs]"
   ]
  },
  {
   "cell_type": "code",
   "execution_count": null,
   "id": "e309753e-8df4-45cf-9530-7673c0811533",
   "metadata": {},
   "outputs": [],
   "source": [
    "# Gets plot from function\n",
    "mpas_raster_plots = [plot_native(df, plot_bbox=bbox, raster=True, holoviews_kw=plot_opts, \n",
    "                              coastline_kw=coastline_opts, datashader_kw=datashader_opts) for df in c_olr_dfs]"
   ]
  },
  {
   "cell_type": "code",
   "execution_count": null,
   "id": "2900cfe3-aecd-4694-9370-b3bf6ffe6ec4",
   "metadata": {
    "tags": []
   },
   "outputs": [],
   "source": [
    "hv.save(mpas_raster_plot, '../figs/test_olr.png', dpi=300, center=False)"
   ]
  },
  {
   "cell_type": "code",
   "execution_count": null,
   "id": "9d4de76c-830e-47c1-8cfa-244f6587a4fa",
   "metadata": {
    "tags": []
   },
   "outputs": [],
   "source": [
    "[hv.save(fig, f'../figs/new_tracks/{storm}/cam_peak_olr.png', dpi=300, center=False) for fig, storm in zip(cam_raster_plots, storm_names)]"
   ]
  },
  {
   "cell_type": "code",
   "execution_count": null,
   "id": "8503af66-9ba3-4c57-9f81-651501901e24",
   "metadata": {
    "tags": []
   },
   "outputs": [],
   "source": [
    "[hv.save(fig, f'../figs/new_tracks/{storm}/mpas_peak_olr.png', dpi=300, center=False) for fig, storm in zip(mpas_raster_plots, storm_names)]"
   ]
  },
  {
   "cell_type": "markdown",
   "id": "4d08182a-5992-4ff8-9521-9554fb941590",
   "metadata": {
    "jp-MarkdownHeadingCollapsed": true,
    "tags": []
   },
   "source": [
    "# Wind Swaths"
   ]
  },
  {
   "cell_type": "code",
   "execution_count": null,
   "id": "be8d2fce-a3c2-4a12-a421-fd208df817d1",
   "metadata": {},
   "outputs": [],
   "source": [
    "from uviz.datashader_tools.visualization import diverging_colormap"
   ]
  },
  {
   "cell_type": "code",
   "execution_count": null,
   "id": "8cc18f02-32a8-4cf5-b317-da4afcadac8c",
   "metadata": {},
   "outputs": [],
   "source": [
    "p_sfc_dfs = list(map(return_polymesh, storm_names, ['cam']*len(storm_names), ['U10_MAX']*len(storm_names)))\n",
    "c_sfc_dfs = list(map(return_polymesh, storm_names, ['mpas']*len(storm_names), ['U10_MAX']*len(storm_names)))"
   ]
  },
  {
   "cell_type": "code",
   "execution_count": null,
   "id": "77d525ec-ce6e-4a5a-971e-d49caa180cf6",
   "metadata": {},
   "outputs": [],
   "source": [
    "# Defines width and height for plot\n",
    "w=2000\n",
    "h=1400\n",
    "\n",
    "# Defines rasterization options (expose options with `hv.help(hds_rasterize)`)\n",
    "datashader_opts = dict(aggregator='mean', precompute=True, vdim_prefix='', pixel_ratio=10)\n",
    "\n",
    "# Gets divergent colormap for plotting\n",
    "cmin=0\n",
    "cmid=74\n",
    "cmax=150\n",
    "wsp_cmap = diverging_colormap(cmin=cmin, cmid=cmid, cmax=cmax, palette=bokeh.palettes.viridis(256))\n",
    "\n",
    "# Defines levels for colormap ticks\n",
    "cbar_levs = [0, 20, 40, 60, 80, 100, 120, 135, 150]\n",
    "#cbar_levs = [0, 20, 40, 60, 80, 100, 130]\n",
    "    \n",
    "cmin = cbar_levs[0]\n",
    "cmax = cbar_levs[-1]\n",
    "clabel = 'Wind Speed [mph]'\n",
    "cbar_opts = dict(height=40, scale_alpha=0.75, border_line_width=3, ticker=FixedTicker(ticks=cbar_levs))\n",
    "cmap_opts = dict(cmap=wsp_cmap, clim=(cmin, cmax), colorbar=False, \n",
    "                 colorbar_position='bottom', clabel=clabel)\n",
    "\n",
    "# Defines font options\n",
    "# font_opts = dict(fontsize=dict(title='35pt', clabel='27pt', cticks='25pt'))\n",
    "font_opts = dict(fontsize=dict(title='35pt', clabel='50pt', cticks='40pt'))\n",
    "\n",
    "# Defines plotting options (expose options with `hv.help(hv.Polygons)`)\n",
    "plot_opts = dict(tools=['hover'], width=w, height=h, xaxis=None, yaxis=None, alpha=0.75,\n",
    "                 colorbar_opts=cbar_opts, **cmap_opts, **font_opts)\n",
    "\n",
    "# Defines coastline plotting options\n",
    "coastline_opts = dict(scale='10m', line_color='#f8f8f8', line_width=2.0, width=w, height=h)\n",
    "\n",
    "# Defines lake plotting options\n",
    "lakes_opts = dict(scale='10m', line_color='#f8f8f8', line_width=2.0, width=w, height=h, fill_color='none')\n",
    "\n",
    "# Defines bounding bbox\n",
    "bbox = basin_bboxes('florida')"
   ]
  },
  {
   "cell_type": "code",
   "execution_count": null,
   "id": "b4ac16df-862c-4d48-92e2-2e0c62f42ec5",
   "metadata": {},
   "outputs": [],
   "source": [
    "# Gets plot from function\n",
    "cam_raster_plot = plot_native(p_sfc_dfs[0], plot_bbox=bbox, raster=True, holoviews_kw=plot_opts, \n",
    "                              coastline_kw=coastline_opts, datashader_kw=datashader_opts)\n",
    "cam_raster_plot"
   ]
  },
  {
   "cell_type": "code",
   "execution_count": null,
   "id": "095bb062-0eb5-4261-baf4-ff1a05c27c45",
   "metadata": {},
   "outputs": [],
   "source": [
    "# Gets plot from function\n",
    "cam_raster_plots = [plot_native(df, plot_bbox=bbox, raster=True, holoviews_kw=plot_opts, \n",
    "                              coastline_kw=coastline_opts, datashader_kw=datashader_opts, lakes_kw=lakes_opts) for df in p_sfc_dfs]"
   ]
  },
  {
   "cell_type": "code",
   "execution_count": null,
   "id": "832920ea-9017-4b05-87eb-a809130fef26",
   "metadata": {},
   "outputs": [],
   "source": [
    "# Gets plot from function\n",
    "mpas_raster_plots = [plot_native(df, plot_bbox=bbox, raster=True, holoviews_kw=plot_opts, \n",
    "                              coastline_kw=coastline_opts, datashader_kw=datashader_opts, lakes_kw=lakes_opts) for df in c_sfc_dfs]"
   ]
  },
  {
   "cell_type": "code",
   "execution_count": null,
   "id": "aabb6008-eaed-4877-8a91-9c3eafce2e39",
   "metadata": {
    "tags": []
   },
   "outputs": [],
   "source": [
    "[hv.save(fig, f'../figs/new_tracks/{storm}/cam_sfc_wsp.png', dpi=300, center=False) for fig, storm in zip(cam_raster_plots, storm_names)]"
   ]
  },
  {
   "cell_type": "code",
   "execution_count": null,
   "id": "1e10ecb9-9978-40ec-9672-4022af54ce24",
   "metadata": {
    "tags": []
   },
   "outputs": [],
   "source": [
    "[hv.save(fig, f'../figs/new_tracks/{storm}/mpas_sfc_wsp.png', dpi=300, center=False) for fig, storm in zip(mpas_raster_plots, storm_names)]"
   ]
  },
  {
   "cell_type": "markdown",
   "id": "0d8a91d3-4a78-4634-a415-1c77dbdd67b3",
   "metadata": {},
   "source": [
    "## 850 mb"
   ]
  },
  {
   "cell_type": "code",
   "execution_count": null,
   "id": "3a905b04-4f22-45ce-b08c-fb2bb91470e3",
   "metadata": {},
   "outputs": [],
   "source": [
    "p_850_dfs = list(map(return_polymesh, storm_names, ['cam']*len(storm_names), ['WSP850_MAX']*len(storm_names)))\n",
    "c_850_dfs = list(map(return_polymesh, storm_names, ['mpas']*len(storm_names), ['WSP850_MAX']*len(storm_names)))"
   ]
  },
  {
   "cell_type": "code",
   "execution_count": null,
   "id": "c34fdbda-0fcd-40a5-bda6-e76e3a6f3074",
   "metadata": {
    "tags": []
   },
   "outputs": [],
   "source": [
    "[print(df['faces'].max()) for df in p_850_dfs]"
   ]
  },
  {
   "cell_type": "code",
   "execution_count": null,
   "id": "5f18668a-51a6-439f-ae41-ed2898156625",
   "metadata": {
    "tags": []
   },
   "outputs": [],
   "source": [
    "[print(df['faces'].max()) for df in c_850_dfs]"
   ]
  },
  {
   "cell_type": "code",
   "execution_count": null,
   "id": "a1c70d6d-4865-47bc-ac24-55f89b9224e3",
   "metadata": {},
   "outputs": [],
   "source": [
    "# Defines width and height for plot\n",
    "w=2000\n",
    "h=1400\n",
    "\n",
    "# Defines rasterization options (expose options with `hv.help(hds_rasterize)`)\n",
    "datashader_opts = dict(aggregator='mean', precompute=True, vdim_prefix='', pixel_ratio=10)\n",
    "\n",
    "# Gets divergent colormap for plotting\n",
    "cmin=0\n",
    "cmid=100\n",
    "cmax=250\n",
    "wsp_cmap = diverging_colormap(cmin=cmin, cmid=cmid, cmax=cmax, palette=bokeh.palettes.viridis(256))\n",
    "\n",
    "# Defines levels for colormap ticks\n",
    "cbar_levs = [0, 50, 100, 125, 150, 175, 200, 225, 250]\n",
    "#cbar_levs = [0, 20, 40, 60, 80, 100, 130]\n",
    "    \n",
    "cmin = cbar_levs[0]\n",
    "cmax = cbar_levs[-1]\n",
    "clabel = 'Wind Speed [mph]'\n",
    "cbar_opts = dict(height=40, scale_alpha=0.75, border_line_width=3, ticker=FixedTicker(ticks=cbar_levs))\n",
    "cmap_opts = dict(cmap=wsp_cmap, clim=(cmin, cmax), colorbar=False, \n",
    "                 colorbar_position='bottom', clabel=clabel)\n",
    "\n",
    "# Defines font options\n",
    "# font_opts = dict(fontsize=dict(title='35pt', clabel='27pt', cticks='25pt'))\n",
    "font_opts = dict(fontsize=dict(title='35pt', clabel='50pt', cticks='40pt'))\n",
    "\n",
    "# Defines plotting options (expose options with `hv.help(hv.Polygons)`)\n",
    "plot_opts = dict(tools=['hover'], width=w, height=h, xaxis=None, yaxis=None, alpha=0.75,\n",
    "                 colorbar_opts=cbar_opts, **cmap_opts, **font_opts)\n",
    "\n",
    "# Defines coastline plotting options\n",
    "coastline_opts = dict(scale='10m', line_color='#f8f8f8', line_width=2.0, width=w, height=h)\n",
    "\n",
    "# Defines lake plotting options\n",
    "lakes_opts = dict(scale='10m', line_color='#f8f8f8', line_width=2.0, width=w, height=h, fill_color='none')\n",
    "\n",
    "# Defines bounding bbox\n",
    "bbox = basin_bboxes('florida')"
   ]
  },
  {
   "cell_type": "code",
   "execution_count": null,
   "id": "da3cacff-8b1d-42ba-b6db-e52e67ef25c5",
   "metadata": {
    "tags": []
   },
   "outputs": [],
   "source": [
    "# Gets plot from function\n",
    "cam_raster_plot = plot_native(p_850_dfs[0], plot_bbox=bbox, raster=True, holoviews_kw=plot_opts, \n",
    "                              coastline_kw=coastline_opts, datashader_kw=datashader_opts)\n",
    "cam_raster_plot"
   ]
  },
  {
   "cell_type": "code",
   "execution_count": null,
   "id": "32626b9b-1d08-4af6-894d-62134108495c",
   "metadata": {},
   "outputs": [],
   "source": [
    "# Gets plot from function\n",
    "cam_raster_plots = [plot_native(df, plot_bbox=bbox, raster=True, holoviews_kw=plot_opts, \n",
    "                              coastline_kw=coastline_opts, datashader_kw=datashader_opts, lakes_kw=lakes_opts) for df in p_850_dfs]"
   ]
  },
  {
   "cell_type": "code",
   "execution_count": null,
   "id": "5b43a3b2-f086-43cf-bb89-f168760953f8",
   "metadata": {},
   "outputs": [],
   "source": [
    "# Gets plot from function\n",
    "mpas_raster_plots = [plot_native(df, plot_bbox=bbox, raster=True, holoviews_kw=plot_opts, \n",
    "                              coastline_kw=coastline_opts, datashader_kw=datashader_opts, lakes_kw=lakes_opts) for df in c_850_dfs]"
   ]
  },
  {
   "cell_type": "code",
   "execution_count": null,
   "id": "e7cc1e83-aca5-4e5f-8ffe-7a877521fdf8",
   "metadata": {
    "tags": []
   },
   "outputs": [],
   "source": [
    "[hv.save(fig, f'../figs/new_tracks/{storm}/cam_850_wsp.png', dpi=300, center=False) for fig, storm in zip(cam_raster_plots, storm_names)]"
   ]
  },
  {
   "cell_type": "code",
   "execution_count": null,
   "id": "781d4bf3-68c5-480f-bf3d-5d5315241dbc",
   "metadata": {
    "tags": []
   },
   "outputs": [],
   "source": [
    "[hv.save(fig, f'../figs/new_tracks/{storm}/mpas_850_wsp.png', dpi=300, center=False) for fig, storm in zip(mpas_raster_plots, storm_names)]"
   ]
  },
  {
   "cell_type": "markdown",
   "id": "85375a90-8385-4247-825a-e2f039a54148",
   "metadata": {
    "tags": []
   },
   "source": [
    "# Precip Swaths"
   ]
  },
  {
   "cell_type": "markdown",
   "id": "91938d12-2a2a-4908-ad70-636f10b23e58",
   "metadata": {
    "jp-MarkdownHeadingCollapsed": true,
    "tags": []
   },
   "source": [
    "## Masking Land"
   ]
  },
  {
   "cell_type": "code",
   "execution_count": null,
   "id": "9bf685aa-b8f3-410f-a8c8-7e96a82143d0",
   "metadata": {
    "tags": []
   },
   "outputs": [],
   "source": [
    "from sklearn.neighbors import KDTree, BallTree\n",
    "\n",
    "def kd_tree(locations1, locations2, metric='euclidean', neighbors=1):\n",
    "    kd = KDTree(locations1, metric=metric)\n",
    "    dists, idx = kd.query(locations2, k=neighbors)\n",
    "    \n",
    "    return idx\n",
    "\n",
    "def ball_tree(locations1, locations2, metric='haversine', neighbors=1, leaf_size=15):\n",
    "    \n",
    "    # Converts degrees to radians\n",
    "    locations1 = np.deg2rad(locations1)\n",
    "    locations2 = np.deg2rad(locations2)\n",
    "    \n",
    "    ball = BallTree(locations1, metric=metric, leaf_size=leaf_size)\n",
    "    dists, idx = ball.query(locations2, k=neighbors)\n",
    "    \n",
    "    return idx\n",
    "\n",
    "def get_landmask(ds, topo_ds):\n",
    "    \n",
    "    # Finds landmask indices\n",
    "    land_lat_idx, land_lon_idx = np.where(topo_ds['LANDFRAC'].values > 0.5)\n",
    "\n",
    "    # Finds landmask coordinates\n",
    "    land_lats = topo_ds.lat.values[land_lat_idx]\n",
    "    land_lons = topo_ds.lon.values[land_lon_idx]\n",
    "    land_lons = np.mod(land_lons, 180) - 180\n",
    "    \n",
    "    # Data coordinates\n",
    "    lats = ds['lat'].isel(time=0).values\n",
    "    lons = ds['lon'].isel(time=0).values\n",
    "    lons = np.mod(lons, 180) - 180\n",
    "    \n",
    "    # Reshapes coordinates into proper format\n",
    "    ds_coords = np.dstack([lats, lons]).reshape(-1, 2)\n",
    "    land_coords = np.dstack([land_lats, land_lons]).reshape(-1, 2)\n",
    "    \n",
    "    # Gets nearest neighbor indices\n",
    "    nn_idx = kd_tree(ds_coords, land_coords)\n",
    "    #nn_idx = ball_tree(ds_coords, land_coords)\n",
    "    \n",
    "    # Gets unique values and flattens array\n",
    "    idx = np.unique(nn_idx.flatten())\n",
    "    \n",
    "    return idx"
   ]
  },
  {
   "cell_type": "code",
   "execution_count": null,
   "id": "73f3b11b-3fa6-4b78-acad-718d44b320d5",
   "metadata": {},
   "outputs": [],
   "source": [
    "def mask_land(ds, return_idx=False):\n",
    "    \n",
    "    # Checks if MPAS or CAM based on number of grid cells\n",
    "    if len(ds.ncol) == 835586:\n",
    "        model = 'MPAS'\n",
    "    else:\n",
    "        model = 'CAM'\n",
    "        \n",
    "    # Masks out land grid cells\n",
    "    if model == 'MPAS':\n",
    "        idx = mpas_idx\n",
    "    elif model == 'CAM':\n",
    "        if len(ds.ncol) == 155981:\n",
    "            idx = ext_idx\n",
    "        elif len(ds.ncol) == 119603:\n",
    "            idx = ref_idx\n",
    "        elif len(ds.ncol) == 69653:\n",
    "            idx = wat_idx\n",
    "            \n",
    "    # Selects by land indices\n",
    "    ds = ds.isel(ncol=idx)\n",
    "    \n",
    "    # Returns indices if requested\n",
    "    if return_idx == True:\n",
    "        return ds, idx\n",
    "    else:\n",
    "        return ds"
   ]
  },
  {
   "cell_type": "code",
   "execution_count": null,
   "id": "84563cdd-5263-4faf-acac-309cc52b7703",
   "metadata": {},
   "outputs": [],
   "source": [
    "# Reads in landmask datasets\n",
    "landmask_dir = r'/gpfs/group/cmz5202/default/cnd5285/landmasks'\n",
    "\n",
    "mpas_land_ds = xr.open_dataset(os.path.join(landmask_dir, 'MPAS.VR3_landmask.nc'))\n",
    "ext_land_ds = xr.open_dataset(os.path.join(landmask_dir, 'SE.VR28.NATL.EXT_landmask.nc'))\n",
    "ref_land_ds = xr.open_dataset(os.path.join(landmask_dir, 'SE.VR28.NATL.REF_landmask.nc'))\n",
    "wat_land_ds = xr.open_dataset(os.path.join(landmask_dir, 'SE.VR28.NATL.WAT_landmask.nc'))"
   ]
  },
  {
   "cell_type": "code",
   "execution_count": null,
   "id": "643f7a49-cc19-434d-a0e7-b96300b5be32",
   "metadata": {},
   "outputs": [],
   "source": [
    "# Gets indices of overland masks\n",
    "mpas_idx = np.where(mpas_land_ds['LANDFRAC'] >= 0.5)[0]\n",
    "ext_idx = np.where(ext_land_ds['LANDFRAC'] >= 0.5)[0]\n",
    "ref_idx = np.where(ref_land_ds['LANDFRAC'] >= 0.5)[0]\n",
    "wat_idx = np.where(wat_land_ds['LANDFRAC'] >= 0.5)[0]"
   ]
  },
  {
   "cell_type": "code",
   "execution_count": null,
   "id": "fe0b64d3-7dda-488f-8a19-443fd1f6d7c4",
   "metadata": {
    "tags": []
   },
   "outputs": [],
   "source": [
    "# %%time\n",
    "# # Block to gather overland CAM grids\n",
    "# print('Reading in topography dataset.')\n",
    "# topo_ds = xr.open_dataset('/storage/work/cmz5202/cam_tools/hires-topo/2min_cesm_topo_latlon.nc')\n",
    "\n",
    "# %%time\n",
    "# # Gets cubed-sphere indices of overland mask\n",
    "# print('Getting indices of CAM land cells')\n",
    "# ext_idx = get_landmask(all_storms['Irma']['h4pn_ds'], topo_ds)\n",
    "# ref_idx = get_landmask(all_storms['storm_1279']['h4pn_ds'], topo_ds)\n",
    "# wat_idx = get_landmask(all_storms['storm_0310']['h4pn_ds'], topo_ds)\n",
    "\n",
    "# # Gets hexagonal indices of overland mask\n",
    "# print('Getting indices of MPAS land cells')\n",
    "# mpas_idx = get_landmask(all_storms['Irma']['h4cn_ds'], topo_ds)"
   ]
  },
  {
   "cell_type": "code",
   "execution_count": null,
   "id": "6c7c2c1f-4006-494f-800f-736bf9618dec",
   "metadata": {
    "tags": []
   },
   "outputs": [],
   "source": [
    "# Colin defined bounding boxes (old)\n",
    "# irma_charley_bbox = basin_bboxes({'west_coord':-82.335520, 'east_coord':-80.042506, 'north_coord':26.919435, 'south_coord':25.137884})\n",
    "# ian_bbox = basin_bboxes({'west_coord':-81.966989, 'east_coord':-80.904318, 'north_coord':28.319877, 'south_coord':27.662304})\n",
    "# ian_bbox = basin_bboxes({'west_coord':-81.966989, 'east_coord':-80.904318, 'north_coord':28.319877, 'south_coord':27.662304})\n",
    "# isaac_fay_bbox = (basin_bboxes({'west_coord':-82.335520, 'east_coord':-80.042506,'north_coord':26.919435, 'south_coord':25.137884}))\n",
    "\n",
    "# Colin defined bounding boxes (old2)\n",
    "# irma_charley_bbox = basin_bboxes({'west_coord':-82.335520, 'east_coord':-80.042506, 'north_coord':26.919435, 'south_coord':25.137884})\n",
    "# isaac_bbox = (basin_bboxes({'west_coord':-82.335520, 'east_coord':-80.042506,'north_coord':26.919435, 'south_coord':25.137884}))\n",
    "# fay_bbox = (basin_bboxes({'west_coord':-81.717809, 'east_coord':-80.096434,'north_coord':28.686758, 'south_coord':27.039041}))\n",
    "# ian_bbox = basin_bboxes({'west_coord':-82.857622, 'east_coord':-81.090739, 'north_coord':27.921146, 'south_coord':26.627882})"
   ]
  },
  {
   "cell_type": "code",
   "execution_count": null,
   "id": "70ede76c-cff9-4cab-bf41-861495d2ae01",
   "metadata": {},
   "outputs": [],
   "source": [
    "# Corrine defined bounding boxes\n",
    "irma_bbox = basin_bboxes({'west_coord':-82.335520, 'east_coord':-80.042506, 'south_coord':25.137884, 'north_coord':26.919435})\n",
    "charley_bbox = basin_bboxes({'west_coord':-82.857622, 'east_coord':-80.096434, 'south_coord':26.124555, 'north_coord':28.716921})\n",
    "isaac_bbox = basin_bboxes({'west_coord':-82.335520, 'east_coord':-80.042506, 'south_coord':25.137884, 'north_coord':26.919435})\n",
    "fay_bbox = irma_bbox\n",
    "#fay_bbox = basin_bboxes({'west_coord':-81.717809, 'east_coord':-80.096434, 'south_coord':26.610566, 'north_coord':29.191563})\n",
    "ian_bbox = basin_bboxes({'west_coord':-82.857622, 'east_coord':-81.090739, 'south_coord':26.426490, 'north_coord':28.165928})"
   ]
  },
  {
   "cell_type": "code",
   "execution_count": null,
   "id": "60f1ff7a-32bb-499e-8111-0025e853c59a",
   "metadata": {},
   "outputs": [],
   "source": [
    "ian_pidx = get_subset_idx(all_storms['Ian']['h4pn_ds'], ian_bbox)\n",
    "ian_cidx = get_subset_idx(all_storms['Ian']['h4cn_ds'], ian_bbox)\n",
    "\n",
    "irma_pidx = get_subset_idx(all_storms['Irma']['h4pn_ds'], irma_bbox)\n",
    "irma_cidx = get_subset_idx(all_storms['Irma']['h4cn_ds'], irma_bbox)\n",
    "\n",
    "# charley_pidx = get_subset_idx(all_storms['Charley']['h4pn_ds'], irma_charley_bbox)\n",
    "# charley_cidx = get_subset_idx(all_storms['Charley']['h4cn_ds'], irma_charley_bbox)\n",
    "\n",
    "fay_pidx = get_subset_idx(all_storms['Fay']['h4pn_ds'], fay_bbox)\n",
    "fay_cidx = get_subset_idx(all_storms['Fay']['h4cn_ds'], fay_bbox)\n",
    "\n",
    "isaac_pidx = get_subset_idx(all_storms['Isaac']['h4pn_ds'], isaac_bbox)\n",
    "isaac_cidx = get_subset_idx(all_storms['Isaac']['h4cn_ds'], isaac_bbox)"
   ]
  },
  {
   "cell_type": "code",
   "execution_count": null,
   "id": "1139b9b9-88c9-4303-8eb3-928f3e76c1e0",
   "metadata": {},
   "outputs": [],
   "source": [
    "hist_storms = [x for x in all_storms.keys() if x in ['Irma', 'Ian', 'Fay', 'Isaac']]\n",
    "sim_storms = [x for x in all_storms.keys() if x not in ['Irma', 'Ian', 'Charley', 'Fay', 'Isaac']]"
   ]
  },
  {
   "cell_type": "code",
   "execution_count": null,
   "id": "d9cb45d8-0c22-4469-805c-12b4285f83a3",
   "metadata": {},
   "outputs": [],
   "source": [
    "storm_names"
   ]
  },
  {
   "cell_type": "code",
   "execution_count": null,
   "id": "9c851247-08bb-477c-8bb8-654adafc38c5",
   "metadata": {},
   "outputs": [],
   "source": [
    "# Uses Polymesh code to create polygons from mesh data\n",
    "p_rprect_dfs = list(map(return_polymesh, storm_names, ['cam']*len(storm_names), ['PRECT_MAX']*len(storm_names)))\n",
    "c_rprect_dfs = list(map(return_polymesh, storm_names, ['mpas']*len(storm_names), ['PRECT_MAX']*len(storm_names)))"
   ]
  },
  {
   "cell_type": "code",
   "execution_count": null,
   "id": "6554ec1f-ed30-48b0-821d-d60fd5032445",
   "metadata": {
    "tags": []
   },
   "outputs": [],
   "source": [
    "# p_idx = [ian_pidx, irma_pidx, charley_pidx, fay_pidx, isaac_pidx]\n",
    "# c_idx = [ian_cidx, irma_cidx, charley_cidx, fay_cidx, isaac_cidx]\n",
    "\n",
    "p_idx = [ian_pidx, irma_pidx, fay_pidx, isaac_pidx]\n",
    "c_idx = [ian_cidx, irma_cidx, fay_cidx, isaac_cidx]\n",
    "\n",
    "p_tprect_dfs = list(map(return_polymesh, hist_storms, ['cam']*len(storm_names), \n",
    "                        ['PRECT_TOT']*len(hist_storms), p_idx))\n",
    "c_tprect_dfs = list(map(return_polymesh, hist_storms, ['mpas']*len(storm_names), \n",
    "                        ['PRECT_TOT']*len(hist_storms), c_idx))"
   ]
  },
  {
   "cell_type": "code",
   "execution_count": null,
   "id": "b385357b-5e0c-4c37-b297-7a552d3c5d2d",
   "metadata": {},
   "outputs": [],
   "source": [
    "# Uses Polymesh code to create polygons from mesh data\n",
    "p_tprect_dfs = list(map(return_polymesh, hist_storms, ['cam']*len(hist_storms), ['PRECT_TOT']*len(hist_storms)))\n",
    "p_rprect_dfs = list(map(return_polymesh, hist_storms, ['cam']*len(hist_storms), ['PRECT_MAX']*len(hist_storms)))\n",
    "\n",
    "c_tprect_dfs = list(map(return_polymesh, hist_storms, ['mpas']*len(hist_storms), ['PRECT_TOT']*len(hist_storms)))\n",
    "c_rprect_dfs = list(map(return_polymesh, hist_storms, ['mpas']*len(hist_storms), ['PRECT_MAX']*len(hist_storms)))"
   ]
  },
  {
   "cell_type": "code",
   "execution_count": null,
   "id": "43b65a4f-0e07-4950-a876-de4c18d66c6a",
   "metadata": {},
   "outputs": [],
   "source": [
    "# Defines width and height for plot (sans colorbar)\n",
    "# w=2000\n",
    "# h=1600\n",
    "\n",
    "# This size is for quick plotting in jupyter\n",
    "#w = 1000\n",
    "#h = 700\n",
    "\n",
    "# For exporting with colorbar\n",
    "# w=2000\n",
    "# h=1400\n",
    "\n",
    "# This size is for just the really zoomed in Florida plot\n",
    "w = 800\n",
    "h = 700\n",
    "\n",
    "# Defines variable for plotting\n",
    "var = 'PRECT_TOT'\n",
    "\n",
    "# Defines rasterization options (expose options with `hv.help(hds_rasterize)`)\n",
    "datashader_opts = dict(aggregator='mean', precompute=True, vdim_prefix='', pixel_ratio=10)\n",
    "\n",
    "# Defines colorbar/colormap options\n",
    "prect_cmap = CustomColorbars('nws_precip').out_cmap\n",
    "prect_levels = CustomColorbars('nws_precip').out_levels\n",
    "prect_norm = CustomColorbars('nws_precip').norm\n",
    "\n",
    "if var == 'PRECT_TOT':\n",
    "    cbar_levs = [0, 2, 4, 6, 8, 10, 15, 20, 25, 30, 35, 40, 45, 50]\n",
    "    cbar_opts = dict(height=40, scale_alpha=0.75, border_line_width=3, ticker=FixedTicker(ticks=cbar_levs))\n",
    "    clabel = 'Total Precipitation [inches]'\n",
    "elif var == 'PRECT_MAX':\n",
    "    #cbar_levs = [0, 0.5, 1, 2, 3, 4, 5, 6, 8]\n",
    "    cbar_levs = [0, 0.25, 0.5, 1, 2, 3, 4, 5]\n",
    "    clabel = 'Maximum Hourly Rate [inches]'\n",
    "    #prect_levels = prect_levels[:11]\n",
    "    prect_levels = prect_levels[:9]\n",
    "    # prect_cmap = [\"#ffffff\", \"#ffffff\", \"#4bd2f7\", \"#699fd0\", \"#3c4bac\", \"#3cf74b\", \n",
    "    #               \"#3cb447\", \"#3c8743\", \"#1f4723\", \"#f7f73c\"]\n",
    "    prect_cmap = ['#ffffff', '#ffffff', \"#4bd2f7\", \"#699fd0\", \"#3c4bac\", \"#3cf74b\", \"#3cb447\", \"#3c8743\"]\n",
    "    cbar_opts = dict(height=40, scale_alpha=0.75, border_line_width=3, ticker=FixedTicker(ticks=cbar_levs))\n",
    "    \n",
    "cmin = prect_levels[0]\n",
    "cmax = prect_levels[-1]\n",
    "\n",
    "#cbar_opts = dict(height=40, scale_alpha=0.75, border_line_width=3)\n",
    "if h < 1600:\n",
    "    cmap_opts = dict(cmap=prect_cmap, clim=(cmin, cmax), colorbar=False)\n",
    "elif h == 1600:\n",
    "    cmap_opts = dict(cmap=prect_cmap, clim=(cmin, cmax), colorbar=True, \n",
    "                     colorbar_position='bottom', clabel=clabel)\n",
    "\n",
    "# Defines font options\n",
    "# font_opts = dict(fontsize=dict(title='35pt', clabel='27pt', cticks='25pt'))\n",
    "font_opts = dict(fontsize=dict(title='35pt', clabel='50pt', cticks='40pt'))\n",
    "\n",
    "# Defines plotting options (expose options with `hv.help(hv.Polygons)`)\n",
    "plot_opts = dict(tools=['hover'], width=w, height=h, xaxis=None, yaxis=None, alpha=0.75, color_levels=prect_levels,\n",
    "                 colorbar_opts=cbar_opts, **cmap_opts, **font_opts)\n",
    "\n",
    "# Defines coastline plotting options\n",
    "#coastline_opts = dict(scale='10m', line_color='#323232', line_width=2.0, width=w, height=h)\n",
    "coastline_opts = dict(scale='10m', line_color='#000000', line_width=2.0, width=w, height=h)\n",
    "\n",
    "# Defines lake plotting options\n",
    "#lakes_opts = dict(scale='10m', line_color='#616161', line_width=2.0, width=w, height=h, fill_color='#e4f1fa')\n",
    "lakes_opts = dict(scale='10m', line_color='#616161', line_width=2.0, width=w, height=h, fill_color='none')\n",
    "\n",
    "# Defines ocean plotting options\n",
    "ocean_opts = dict(scale='10m', line_color='#e4f1fa', line_width=2.0, width=w, height=h, fill_color='#e4f1fa')\n",
    "\n",
    "# Defines state plotting options\n",
    "#states_opts = dict(scale='10m', line_color='#616161', line_width=1.5, width=w, height=h, fill_color='#EBEBEB')\n",
    "states_opts = dict(scale='10m', line_color='#616161', line_width=1.5, width=w, height=h, fill_color='none')\n",
    "\n",
    "# Defines plotting bounding bbox\n",
    "#bbox = basin_bboxes('florida')\n",
    "\n",
    "bbox = basin_bboxes({'west_coord':-88.5, 'east_coord':-79.0, 'south_coord':24, 'north_coord':32.5})"
   ]
  },
  {
   "cell_type": "code",
   "execution_count": null,
   "id": "f2cef9a3-9706-4862-bcde-bfaf5b4d31c4",
   "metadata": {},
   "outputs": [],
   "source": [
    "def project_bbox(bbox, proj=ccrs.PlateCarree()):\n",
    "    lon_range, lat_range = bbox\n",
    "    x_range, y_range, _ = proj.transform_points(ccrs.PlateCarree(), np.array(lon_range), np.array(lat_range)).T\n",
    "    new_bbox = tuple((x_range[0], y_range[0], x_range[1], y_range[1]))\n",
    "    \n",
    "    return new_bbox\n",
    "\n",
    "rect_bboxes = list(map(project_bbox, [ian_bbox, irma_bbox, fay_bbox, isaac_bbox]))"
   ]
  },
  {
   "cell_type": "code",
   "execution_count": null,
   "id": "731d68c5-1f9b-4dc8-a09f-4b07d15d2362",
   "metadata": {
    "tags": []
   },
   "outputs": [],
   "source": [
    "# Gets plot from function\n",
    "native_opts = {'holoviews_kw':plot_opts, 'datashader_kw':datashader_opts, \n",
    "               'coastline_kw':coastline_opts, 'lakes_kw':lakes_opts, \n",
    "               'ocean_kw':ocean_opts, 'states_kw':states_opts}\n",
    "native_opts = {'holoviews_kw':plot_opts, 'datashader_kw':datashader_opts, \n",
    "               'coastline_kw':coastline_opts, 'lakes_kw':lakes_opts, 'states_kw':states_opts}\n",
    "mpas_raster_plot = plot_native(c_tprect_dfs[1], plot_bbox=bbox, raster=True, **native_opts)\n",
    "mpas_raster_plot * hv.Rectangles(project_bbox(irma_bbox)).opts(fill_color='none', color='#000000', line_width=2.5)"
   ]
  },
  {
   "cell_type": "code",
   "execution_count": null,
   "id": "6e85af81-043f-4b60-b00b-168f9aa622c9",
   "metadata": {},
   "outputs": [],
   "source": [
    "# Gets plot from function\n",
    "cam_raster_plot = plot_native(p_tprect_dfs[0], plot_bbox=bbox, raster=True, holoviews_kw=plot_opts, \n",
    "                              coastline_kw=coastline_opts, datashader_kw=datashader_opts, lakes_kw=lakes_opts, \n",
    "                              ocean_kw=ocean_opts, states_kw=states_opts)\n",
    "cam_raster_plot"
   ]
  },
  {
   "cell_type": "code",
   "execution_count": null,
   "id": "5f1a86f4-9cb5-4d81-86bb-96145a25248b",
   "metadata": {},
   "outputs": [],
   "source": [
    "# Gets plot from function\n",
    "cam_raster_plots = [plot_native(df, plot_bbox=bbox, raster=True, holoviews_kw=plot_opts, \n",
    "                                coastline_kw=coastline_opts, datashader_kw=datashader_opts, \n",
    "                                lakes_kw=lakes_opts, ocean_kw=ocean_opts, states_kw=states_opts) for df in p_tprect_dfs]"
   ]
  },
  {
   "cell_type": "code",
   "execution_count": null,
   "id": "3d1e1e60-9eb4-4c99-8a1b-bf310865e4cc",
   "metadata": {},
   "outputs": [],
   "source": [
    "# Gets plot from function\n",
    "mpas_raster_plots = [plot_native(df, plot_bbox=bbox, raster=True, holoviews_kw=plot_opts, \n",
    "                                 coastline_kw=coastline_opts, datashader_kw=datashader_opts, \n",
    "                                 lakes_kw=lakes_opts, ocean_kw=ocean_opts, states_kw=states_opts) for df in c_tprect_dfs]"
   ]
  },
  {
   "cell_type": "code",
   "execution_count": null,
   "id": "72f2a72b-e77d-44e8-b1f9-674b9a5cf6b7",
   "metadata": {
    "tags": []
   },
   "outputs": [],
   "source": [
    "[hv.save(fig, f'../figs/new_tracks/{storm}/mpas_prect_overland.png', dpi=300, center=False) for fig, storm in zip(mpas_raster_plots, storm_names)]"
   ]
  },
  {
   "cell_type": "code",
   "execution_count": null,
   "id": "e8403e8a-8112-4530-a11f-919853e381c7",
   "metadata": {
    "tags": []
   },
   "outputs": [],
   "source": [
    "[hv.save(fig, f'../figs/new_tracks/{storm}/cam_prect_overland.png', dpi=300, center=False) for fig, storm in zip(cam_raster_plots, storm_names)]"
   ]
  },
  {
   "cell_type": "markdown",
   "id": "c97d14ed-ef53-4542-a163-2f1db7ae42f3",
   "metadata": {
    "tags": []
   },
   "source": [
    "## Regular Code"
   ]
  },
  {
   "cell_type": "code",
   "execution_count": null,
   "id": "a58478f5-3d81-4e85-b1ff-bd36d2c8e15d",
   "metadata": {},
   "outputs": [],
   "source": [
    "#storm_names = [x for x in all_storms.keys() if x not in ['Ian', 'Irma', 'Isaac', 'Fay', 'Charley']]\n",
    "\n",
    "# Uses Polymesh code to create polygons from mesh data\n",
    "p_tprect_dfs = list(map(return_polymesh, storm_names, ['cam']*len(storm_names), ['PRECT_TOT']*len(storm_names)))\n",
    "p_rprect_dfs = list(map(return_polymesh, storm_names, ['cam']*len(storm_names), ['PRECT_MAX']*len(storm_names)))\n",
    "\n",
    "c_tprect_dfs = list(map(return_polymesh, storm_names, ['mpas']*len(storm_names), ['PRECT_TOT']*len(storm_names)))\n",
    "c_rprect_dfs = list(map(return_polymesh, storm_names, ['mpas']*len(storm_names), ['PRECT_MAX']*len(storm_names)))"
   ]
  },
  {
   "cell_type": "code",
   "execution_count": null,
   "id": "a250a2a3-be22-4a73-bb7b-0dca93132aa9",
   "metadata": {},
   "outputs": [],
   "source": [
    "p_rprect_df = return_polymesh('storm_0236', 'cam', 'PRECT_MAX')"
   ]
  },
  {
   "cell_type": "code",
   "execution_count": null,
   "id": "0aad0d55-bd1c-439d-90a0-a2e0acd3f267",
   "metadata": {},
   "outputs": [],
   "source": [
    "def get_precip_kwargs(var, colorbar=False):\n",
    "    \n",
    "    w=2000\n",
    "    h=1400\n",
    "    \n",
    "    w = int(w/2)\n",
    "    h = int(h/2)\n",
    "\n",
    "    # Defines variable for plotting\n",
    "    #var = 'PRECT_MAX'\n",
    "\n",
    "    # Defines rasterization options (expose options with `hv.help(hds_rasterize)`)\n",
    "    datashader_opts = dict(aggregator='mean', precompute=True, vdim_prefix='', pixel_ratio=10)\n",
    "\n",
    "    # Defines colorbar/colormap options\n",
    "    prect_cmap = CustomColorbars('nws_precip').out_cmap\n",
    "    prect_levels = CustomColorbars('nws_precip').out_levels\n",
    "    prect_norm = CustomColorbars('nws_precip').norm\n",
    "\n",
    "    if var == 'PRECT_TOT':\n",
    "        cbar_levs = [0, 2, 4, 6, 8, 10, 15, 20, 25, 30, 35, 40, 45, 50]\n",
    "        cbar_opts = dict(height=40, scale_alpha=0.75, border_line_width=3, ticker=FixedTicker(ticks=cbar_levs))\n",
    "        clabel = 'Total Precipitation [inches]'\n",
    "    elif var == 'PRECT_MAX':\n",
    "        cbar_levs = [0, 0.25, 0.5, 1, 2, 3, 4, 5, 6, 8]\n",
    "        #cbar_levs = [0, 0.25, 0.5, 1, 2, 3, 4, 5]\n",
    "        clabel = 'Accumulated Precipitation [inches]'\n",
    "        #prect_levels = prect_levels[:11]\n",
    "        prect_levels = prect_levels[:11]\n",
    "        # prect_cmap = [\"#ffffff\", \"#ffffff\", \"#4bd2f7\", \"#699fd0\", \"#3c4bac\", \"#3cf74b\", \n",
    "        #               \"#3cb447\", \"#3c8743\", \"#1f4723\", \"#f7f73c\"]\n",
    "        #prect_cmap = ['#ffffff', '#ffffff', \"#4bd2f7\", \"#699fd0\", \"#3c4bac\", \"#3cf74b\", \"#3cb447\", \"#3c8743\"]\n",
    "        prect_cmap = ['#ffffff', '#ffffff', \"#4bd2f7\", \"#699fd0\", \"#3c4bac\", \"#3cf74b\", \"#3cb447\", \"#3c8743\", \"#1f4723\", \"#f7f73c\"]\n",
    "        cbar_opts = dict(height=40, scale_alpha=0.75, border_line_width=3, ticker=FixedTicker(ticks=cbar_levs))\n",
    "\n",
    "    cmin = prect_levels[0]\n",
    "    cmax = prect_levels[-1]\n",
    "\n",
    "    #cbar_opts = dict(height=40, scale_alpha=0.75, border_line_width=3)\n",
    "    if colorbar == False:\n",
    "        cmap_opts = dict(cmap=prect_cmap, clim=(cmin, cmax), colorbar=False)\n",
    "    elif colorbar == True:\n",
    "        w = 2000\n",
    "        h = 1600\n",
    "        cmap_opts = dict(cmap=prect_cmap, clim=(cmin, cmax), colorbar=True, \n",
    "                         colorbar_position='bottom', clabel=clabel)\n",
    "        lakes_opts = {}\n",
    "        states_opts = {}\n",
    "\n",
    "    # Defines font options\n",
    "    # font_opts = dict(fontsize=dict(title='35pt', clabel='27pt', cticks='25pt'))\n",
    "    font_opts = dict(fontsize=dict(title='35pt', clabel='50pt', cticks='40pt'))\n",
    "\n",
    "    # Defines plotting options (expose options with `hv.help(hv.Polygons)`)\n",
    "    plot_opts = dict(tools=['hover'], width=w, height=h, xaxis=None, yaxis=None, alpha=0.75, color_levels=prect_levels,\n",
    "                     colorbar_opts=cbar_opts, **cmap_opts, **font_opts)\n",
    "\n",
    "    # Defines coastline plotting options\n",
    "    #coastline_opts = dict(scale='10m', line_color='#323232', line_width=3.0, width=w, height=h)\n",
    "    lw=3.0\n",
    "    coastline_opts = dict(scale='10m', line_color='#000000', line_width=lw, width=w, height=h)\n",
    "\n",
    "    # Defines lake plotting options\n",
    "    #lakes_opts = dict(scale='10m', line_color='#323232', line_width=4.0, width=w, height=h, fill_color='none')\n",
    "    #states_opts = dict(scale='50m', line_color='#616161', line_width=lw, width=w, height=h, fill_color='none')\n",
    "    \n",
    "    # These\n",
    "    # lakes_opts = dict(scale='10m', line_color='#000000', line_width=lw, width=w, height=h, fill_color='none')\n",
    "    # states_opts = dict(scale='50m', line_color='#000000', line_width=lw, width=w, height=h, fill_color='none')\n",
    "    # ocean_opts = dict(scale='10m', line_color='#e4f1fa', width=w, height=h, fill_color='#e4f1fa')\n",
    "    \n",
    "\n",
    "    # Defines bounding bbox\n",
    "    bbox = basin_bboxes('florida')\n",
    "\n",
    "    # Packs into one dict for cleaner code\n",
    "    plotting_kwargs = {'plot_bbox':bbox, 'raster':True, 'holoviews_kw':plot_opts, 'datashader_kw':datashader_opts, \n",
    "                       'coastline_kw':coastline_opts, 'lakes_kw':lakes_opts, 'states_kw':states_opts}\n",
    "    \n",
    "    return plotting_kwargs"
   ]
  },
  {
   "cell_type": "code",
   "execution_count": null,
   "id": "6d955200-e393-489e-ac6a-3247b1feae98",
   "metadata": {
    "tags": []
   },
   "outputs": [],
   "source": [
    "# Defines width and height for plot\n",
    "w=2000\n",
    "h=1400\n",
    "\n",
    "w = int(w/2)\n",
    "h = int(h/2)\n",
    "\n",
    "# Defines variable for plotting\n",
    "var = 'PRECT_MAX'\n",
    "\n",
    "# Defines rasterization options (expose options with `hv.help(hds_rasterize)`)\n",
    "datashader_opts = dict(aggregator='mean', precompute=True, vdim_prefix='', pixel_ratio=10)\n",
    "\n",
    "# Defines colorbar/colormap options\n",
    "prect_cmap = CustomColorbars('nws_precip').out_cmap\n",
    "prect_levels = CustomColorbars('nws_precip').out_levels\n",
    "prect_norm = CustomColorbars('nws_precip').norm\n",
    "\n",
    "if var == 'PRECT_TOT':\n",
    "    cbar_levs = [0, 2, 4, 6, 8, 10, 15, 20, 25, 30, 35, 40, 45, 50]\n",
    "    cbar_opts = dict(height=40, scale_alpha=0.75, border_line_width=3, ticker=FixedTicker(ticks=cbar_levs))\n",
    "    clabel = 'Total Precipitation [inches]'\n",
    "elif var == 'PRECT_MAX':\n",
    "    #cbar_levs = [0, 0.5, 1, 2, 3, 4, 5, 6, 8]\n",
    "    cbar_levs = [0, 0.25, 0.5, 1, 2, 3, 4, 5]\n",
    "    clabel = 'Accumulated Precipitation [inches]'\n",
    "    #prect_levels = prect_levels[:11]\n",
    "    prect_levels = prect_levels[:9]\n",
    "    # prect_cmap = [\"#ffffff\", \"#ffffff\", \"#4bd2f7\", \"#699fd0\", \"#3c4bac\", \"#3cf74b\", \n",
    "    #               \"#3cb447\", \"#3c8743\", \"#1f4723\", \"#f7f73c\"]\n",
    "    prect_cmap = ['#ffffff', '#ffffff', \"#4bd2f7\", \"#699fd0\", \"#3c4bac\", \"#3cf74b\", \"#3cb447\", \"#3c8743\"]\n",
    "    cbar_opts = dict(height=40, scale_alpha=0.75, border_line_width=3, ticker=FixedTicker(ticks=cbar_levs))\n",
    "    \n",
    "cmin = prect_levels[0]\n",
    "cmax = prect_levels[-1]\n",
    "\n",
    "#cbar_opts = dict(height=40, scale_alpha=0.75, border_line_width=3)\n",
    "if h < 1600:\n",
    "    cmap_opts = dict(cmap=prect_cmap, clim=(cmin, cmax), colorbar=False)\n",
    "elif h == 1600:\n",
    "    cmap_opts = dict(cmap=prect_cmap, clim=(cmin, cmax), colorbar=True, \n",
    "                     colorbar_position='bottom', clabel=clabel)\n",
    "\n",
    "# Defines font options\n",
    "# font_opts = dict(fontsize=dict(title='35pt', clabel='27pt', cticks='25pt'))\n",
    "font_opts = dict(fontsize=dict(title='35pt', clabel='50pt', cticks='40pt'))\n",
    "\n",
    "# Defines plotting options (expose options with `hv.help(hv.Polygons)`)\n",
    "plot_opts = dict(tools=['hover'], width=w, height=h, xaxis=None, yaxis=None, alpha=0.75, color_levels=prect_levels,\n",
    "                 colorbar_opts=cbar_opts, **cmap_opts, **font_opts)\n",
    "\n",
    "# Defines coastline plotting options\n",
    "#coastline_opts = dict(scale='10m', line_color='#323232', line_width=3.0, width=w, height=h)\n",
    "lw=3.0\n",
    "coastline_opts = dict(scale='10m', line_color='#000000', line_width=lw, width=w, height=h)\n",
    "\n",
    "# Defines lake plotting options\n",
    "#lakes_opts = dict(scale='10m', line_color='#323232', line_width=4.0, width=w, height=h, fill_color='none')\n",
    "lakes_opts = dict(scale='10m', line_color='#000000', line_width=lw, width=w, height=h, fill_color='none')\n",
    "states_opts = dict(scale='50m', line_color='#000000', line_width=lw, width=w, height=h, fill_color='none')\n",
    "#states_opts = dict(scale='50m', line_color='#616161', line_width=lw, width=w, height=h, fill_color='none')\n",
    "ocean_opts = dict(scale='10m', line_color='#e4f1fa', width=w, height=h, fill_color='#e4f1fa')\n",
    "\n",
    "# Defines bounding bbox\n",
    "bbox = basin_bboxes('florida')\n",
    "\n",
    "# Packs into one dict for cleaner code\n",
    "plotting_kwargs = {'plot_bbox':bbox, 'raster':True, 'holoviews_kw':plot_opts, 'datashader_kw':datashader_opts, \n",
    "                   'coastline_kw':coastline_opts, 'lakes_kw':lakes_opts, 'states_kw':states_opts}\n",
    "\n",
    "# Defines custom bbox to match nexrad figs\n",
    "#bbox = basin_bboxes({'west_coord':-88.5, 'east_coord':-79, 'south_coord':24, 'north_coord':"
   ]
  },
  {
   "cell_type": "code",
   "execution_count": null,
   "id": "be00cf18-8911-4752-b3da-f07255ea964c",
   "metadata": {},
   "outputs": [],
   "source": [
    "hist_storms = [x for x in all_storms.keys() if x in ['Irma', 'Ian', 'Fay', 'Isaac']]\n",
    "sim_storms = [x for x in all_storms.keys() if x not in ['Irma', 'Ian', 'Charley', 'Fay', 'Isaac']]\n",
    "\n",
    "hist_storms"
   ]
  },
  {
   "cell_type": "code",
   "execution_count": null,
   "id": "6aa14d96-5e66-402b-b663-8febf88f730b",
   "metadata": {
    "tags": []
   },
   "outputs": [],
   "source": [
    "irma_bbox = basin_bboxes({'west_coord':-82.335520, 'east_coord':-80.042506, 'south_coord':25.137884, 'north_coord':26.919435})\n",
    "charley_bbox = basin_bboxes({'west_coord':-82.857622, 'east_coord':-80.096434, 'south_coord':26.124555, 'north_coord':28.716921})\n",
    "isaac_bbox = basin_bboxes({'west_coord':-82.335520, 'east_coord':-80.042506, 'south_coord':25.137884, 'north_coord':26.919435})\n",
    "fay_bbox = irma_bbox\n",
    "ian_bbox = basin_bboxes({'west_coord':-82.857622, 'east_coord':-81.090739, 'south_coord':26.426490, 'north_coord':28.165928})\n",
    "\n",
    "storm_0236_bbox = basin_bboxes({'west_coord':-82.733860, 'east_coord':-80.036716, 'south_coord':25.121120, 'north_coord':27.495256})\n",
    "storm_0755_bbox = basin_bboxes({'west_coord':-82.733860, 'east_coord':-80.036716, 'south_coord':25.348799, 'north_coord':27.777070})\n",
    "storm_0528_bbox = basin_bboxes({'west_coord':-82.733860, 'east_coord':-80.036716, 'south_coord':25.121120, 'north_coord':27.495256})\n",
    "storm_1048_bbox = basin_bboxes({'west_coord':-82.858682, 'east_coord':-80.036716, 'south_coord':25.629735, 'north_coord':28.508998})\n",
    "storm_1521_bbox = basin_bboxes({'west_coord':-82.733860, 'east_coord':-80.036716, 'south_coord':25.121120, 'north_coord':27.946685})\n",
    "storm_1354_bbox = basin_bboxes({'west_coord':-81.992647, 'east_coord':-80.036716, 'south_coord':25.121120, 'north_coord':26.700814})\n",
    "storm_1307_bbox = basin_bboxes({'west_coord':-82.515101, 'east_coord':-80.036716, 'south_coord':25.121120, 'north_coord':27.210623})\n",
    "storm_0310_bbox = basin_bboxes({'west_coord':-82.861571, 'east_coord':-80.036716, 'south_coord':25.659481, 'north_coord':28.412060})\n",
    "storm_1279_bbox = basin_bboxes({'west_coord':-82.733860, 'east_coord':-80.036716, 'south_coord':25.121120, 'north_coord':27.357253})"
   ]
  },
  {
   "cell_type": "code",
   "execution_count": null,
   "id": "a8453a64-9d1f-4f11-9108-f1813c7c301a",
   "metadata": {},
   "outputs": [],
   "source": [
    "if len(storm_names) == 13:\n",
    "    bboxes = [ian_bbox, irma_bbox, storm_0236_bbox, storm_0755_bbox, \n",
    "              storm_0528_bbox, storm_1048_bbox, storm_1521_bbox, \n",
    "              fay_bbox, isaac_bbox, storm_1354_bbox, storm_1307_bbox, \n",
    "              storm_0310_bbox, storm_1279_bbox]\n",
    "elif len(storm_names) == 9:\n",
    "    bboxes = [storm_0236_bbox, storm_0755_bbox, storm_0528_bbox, \n",
    "              storm_1048_bbox, storm_1521_bbox, storm_1354_bbox, \n",
    "              storm_1307_bbox, storm_0310_bbox, storm_1279_bbox]\n",
    "elif len(storm_names) == 4:\n",
    "    bboxes = [ian_bbox, irma_bbox, fay_bbox, isaac_bbox]"
   ]
  },
  {
   "cell_type": "code",
   "execution_count": null,
   "id": "5e1fa295-e83a-4c6f-abaa-36a1e2c9d471",
   "metadata": {},
   "outputs": [],
   "source": [
    "def project_bbox(bbox, proj=ccrs.PlateCarree()):\n",
    "    lon_range, lat_range = bbox\n",
    "    x_range, y_range, _ = proj.transform_points(ccrs.PlateCarree(), np.array(lon_range), np.array(lat_range)).T\n",
    "    new_bbox = tuple((x_range[0], y_range[0], x_range[1], y_range[1]))\n",
    "    \n",
    "    return new_bbox\n",
    "\n",
    "rect_bboxes = list(map(project_bbox, bboxes))"
   ]
  },
  {
   "cell_type": "code",
   "execution_count": null,
   "id": "621ef568-ff3b-4939-894e-fec94451e179",
   "metadata": {
    "tags": []
   },
   "outputs": [],
   "source": [
    "# Gets plot from function\n",
    "mpas_raster_plot = plot_native(c_tprect_dfs[1], plot_bbox=bbox, raster=True, holoviews_kw=plot_opts, \n",
    "                              coastline_kw=coastline_opts, datashader_kw=datashader_opts, lakes_kw=lakes_opts)\n",
    "mpas_raster_plot * hv.Rectangles(project_bbox(isaac_bbox)).opts(fill_color='none', color='#000000', line_width=4)"
   ]
  },
  {
   "cell_type": "code",
   "execution_count": null,
   "id": "d0e2621b-4aad-4054-b200-74c046598378",
   "metadata": {},
   "outputs": [],
   "source": [
    "# Gets plot from function\n",
    "cam_raster_plot = plot_native(p_rprect_dfs[0], plot_bbox=bbox, raster=True, holoviews_kw=plot_opts, \n",
    "                              coastline_kw=coastline_opts, datashader_kw=datashader_opts, lakes_kw=lakes_opts)\n",
    "cam_raster_plot"
   ]
  },
  {
   "cell_type": "code",
   "execution_count": null,
   "id": "d8cb09bb-9bec-4acc-9f0a-fc8d5a2564c5",
   "metadata": {},
   "outputs": [],
   "source": [
    "# Gets plot from function\n",
    "plotting_kwargs = get_precip_kwargs('PRECT_MAX', True)\n",
    "cam_raster_plot = plot_native(p_rprect_df, **plotting_kwargs)\n",
    "hv.save(cam_raster_plot, f'../figs/new_tracks/storm_0236/cam_rate_colorbar.png', dpi=300, center=False)"
   ]
  },
  {
   "cell_type": "markdown",
   "id": "6dfc1ce7-57e7-4f2b-8afd-e04630ed3f18",
   "metadata": {},
   "source": [
    "### Rate with Bboxes"
   ]
  },
  {
   "cell_type": "code",
   "execution_count": null,
   "id": "895b8fe9-8172-4520-8262-c783701f8b48",
   "metadata": {
    "tags": []
   },
   "outputs": [],
   "source": [
    "# Gets plot from function\n",
    "plotting_kwargs = get_precip_kwargs('PRECT_MAX')\n",
    "cam_raster_plots = [plot_native(df, **plotting_kwargs) for df in p_rprect_dfs]\n",
    "cam_raster_plots = [plot * hv.Rectangles(bbox).opts(fill_color='none', color='#000000', line_width=10) for plot, bbox in zip(cam_raster_plots, rect_bboxes)]\n",
    "[hv.save(fig, f'../figs/new_tracks/{storm}/cam_rate_prect_bboxes.png', dpi=300, center=False) for fig, storm in zip(cam_raster_plots, storm_names)]"
   ]
  },
  {
   "cell_type": "code",
   "execution_count": null,
   "id": "c4c40ca8-438a-4265-aaac-f4321acc0f37",
   "metadata": {
    "tags": []
   },
   "outputs": [],
   "source": [
    "# Gets plot from function\n",
    "plotting_kwargs = get_precip_kwargs('PRECT_MAX')\n",
    "mpas_raster_plots = [plot_native(df, **plotting_kwargs) for df in c_rprect_dfs]\n",
    "mpas_raster_plots = [plot * hv.Rectangles(bbox).opts(fill_color='none', color='#000000', line_width=10) for plot, bbox in zip(mpas_raster_plots, rect_bboxes)]\n",
    "[hv.save(fig, f'../figs/new_tracks/{storm}/mpas_rate_prect_bboxes.png', dpi=300, center=False) for fig, storm in zip(mpas_raster_plots, storm_names)]"
   ]
  },
  {
   "cell_type": "markdown",
   "id": "5a03b7c1-dca7-4c0a-947d-9449e3d14922",
   "metadata": {},
   "source": [
    "### Total with Bboxes"
   ]
  },
  {
   "cell_type": "code",
   "execution_count": null,
   "id": "b672df7d-5471-43d1-b674-bbfc866dca4d",
   "metadata": {
    "tags": []
   },
   "outputs": [],
   "source": [
    "# Gets plot from function\n",
    "plotting_kwargs = get_precip_kwargs('PRECT_TOT')\n",
    "cam_raster_plots = [plot_native(df, **plotting_kwargs) for df in p_tprect_dfs]\n",
    "cam_raster_plots = [plot * hv.Rectangles(bbox).opts(fill_color='none', color='#000000', line_width=10) for plot, bbox in zip(cam_raster_plots, rect_bboxes)]\n",
    "[hv.save(fig, f'../figs/new_tracks/{storm}/cam_total_prect_bboxes.png', dpi=300, center=False) for fig, storm in zip(cam_raster_plots, storm_names)]"
   ]
  },
  {
   "cell_type": "code",
   "execution_count": null,
   "id": "def8f5c2-acab-4287-991b-21a668385b49",
   "metadata": {
    "tags": []
   },
   "outputs": [],
   "source": [
    "# Gets plot from function\n",
    "plotting_kwargs = get_precip_kwargs('PRECT_TOT')\n",
    "mpas_raster_plots = [plot_native(df, **plotting_kwargs) for df in c_tprect_dfs]\n",
    "mpas_raster_plots = [plot * hv.Rectangles(bbox).opts(fill_color='none', color='#000000', line_width=10) for plot, bbox in zip(mpas_raster_plots, rect_bboxes)]\n",
    "[hv.save(fig, f'../figs/new_tracks/{storm}/mpas_total_prect_bboxes.png', dpi=300, center=False) for fig, storm in zip(mpas_raster_plots, storm_names)]"
   ]
  },
  {
   "cell_type": "markdown",
   "id": "fc29618f-2760-48a3-b8b2-5ef982079bab",
   "metadata": {},
   "source": [
    "### Rate without Bboxes"
   ]
  },
  {
   "cell_type": "code",
   "execution_count": null,
   "id": "4786b8b1-8feb-4490-8991-f118ea2e5696",
   "metadata": {
    "tags": []
   },
   "outputs": [],
   "source": [
    "# Gets plot from function\n",
    "plotting_kwargs = get_precip_kwargs('PRECT_MAX')\n",
    "cam_raster_plots = [plot_native(df, **plotting_kwargs) for df in p_rprect_dfs]\n",
    "[hv.save(fig, f'../figs/new_tracks/{storm}/cam_rate_prect.png', dpi=300, center=False) for fig, storm in zip(cam_raster_plots, storm_names)]"
   ]
  },
  {
   "cell_type": "code",
   "execution_count": null,
   "id": "eb76deff-3dfe-4e43-90ee-537627a9e097",
   "metadata": {
    "tags": []
   },
   "outputs": [],
   "source": [
    "# Gets plot from function\n",
    "plotting_kwargs = get_precip_kwargs('PRECT_MAX')\n",
    "mpas_raster_plots = [plot_native(df, **plotting_kwargs) for df in c_rprect_dfs]\n",
    "[hv.save(fig, f'../figs/new_tracks/{storm}/mpas_rate_prect.png', dpi=300, center=False) for fig, storm in zip(mpas_raster_plots, storm_names)]"
   ]
  },
  {
   "cell_type": "markdown",
   "id": "b3d83c9e-1859-41b5-acc2-475d71a0f900",
   "metadata": {},
   "source": [
    "### Total without Bboxes"
   ]
  },
  {
   "cell_type": "code",
   "execution_count": null,
   "id": "4173f9dc-0a8b-465c-a4f5-f9b1d926490a",
   "metadata": {
    "tags": []
   },
   "outputs": [],
   "source": [
    "# Gets plot from function\n",
    "plotting_kwargs = get_precip_kwargs('PRECT_TOT')\n",
    "cam_raster_plots = [plot_native(df, **plotting_kwargs) for df in p_tprect_dfs]\n",
    "[hv.save(fig, f'../figs/new_tracks/{storm}/cam_total_prect.png', dpi=300, center=False) for fig, storm in zip(cam_raster_plots, storm_names)]"
   ]
  },
  {
   "cell_type": "code",
   "execution_count": null,
   "id": "dfdf7eb1-fd94-40d5-95cd-378309508e90",
   "metadata": {
    "tags": []
   },
   "outputs": [],
   "source": [
    "# Gets plot from function\n",
    "plotting_kwargs = get_precip_kwargs('PRECT_TOT')\n",
    "mpas_raster_plots = [plot_native(df, **plotting_kwargs) for df in c_tprect_dfs]\n",
    "[hv.save(fig, f'../figs/new_tracks/{storm}/mpas_total_prect.png', dpi=300, center=False) for fig, storm in zip(mpas_raster_plots, storm_names)]"
   ]
  },
  {
   "cell_type": "markdown",
   "id": "1a53c5ea-5f3b-496c-9fbb-e6ce7bb2ca33",
   "metadata": {},
   "source": [
    "# CAPE"
   ]
  },
  {
   "cell_type": "code",
   "execution_count": null,
   "id": "548541dc-0212-4856-af68-31e90bdeacbf",
   "metadata": {},
   "outputs": [],
   "source": [
    "%%time\n",
    "h4pn_subsets = list(map(lambda x: spatial_subset(all_storms[x]['h4pn_ds'], 'florida'), storm_names))\n",
    "h4cn_subsets = list(map(lambda x: spatial_subset(all_storms[x]['h4cn_ds'], 'florida'), storm_names))"
   ]
  },
  {
   "cell_type": "code",
   "execution_count": null,
   "id": "e936e380-a158-47ef-aa2d-466005fb7bc9",
   "metadata": {},
   "outputs": [],
   "source": [
    "delay=5\n",
    "clip=-1\n",
    "max_precip_h4pn = [ds['PRECT'].isel(time=slice(delay, clip)).compute().max('ncol').argmax(dim='time').values+delay for ds in h4pn_subsets]\n",
    "max_precip_h4cn = [ds['PRECT'].isel(time=slice(delay, clip)).compute().max('ncol').argmax(dim='time').values+delay for ds in h4cn_subsets]"
   ]
  },
  {
   "cell_type": "code",
   "execution_count": null,
   "id": "655c04ba-de35-44f4-a0f1-a4be508c27dd",
   "metadata": {},
   "outputs": [],
   "source": [
    "max_precip_h4pn"
   ]
  },
  {
   "cell_type": "code",
   "execution_count": null,
   "id": "8846901f-bda2-4ab3-a6b4-33c1f900e069",
   "metadata": {},
   "outputs": [],
   "source": [
    "[int(x/3) for x in max_precip_h4pn]"
   ]
  },
  {
   "cell_type": "code",
   "execution_count": null,
   "id": "bb9586ce-f534-432e-88c0-bb974f0ffcb9",
   "metadata": {},
   "outputs": [],
   "source": [
    "max_precip_h4cn"
   ]
  },
  {
   "cell_type": "code",
   "execution_count": null,
   "id": "b1d4cd3d-1e9e-4227-a842-71b547197524",
   "metadata": {},
   "outputs": [],
   "source": [
    "[int(x/3) for x in max_precip_h4cn]"
   ]
  },
  {
   "cell_type": "code",
   "execution_count": null,
   "id": "14815d90-52bc-476d-85cc-361440769a31",
   "metadata": {},
   "outputs": [],
   "source": [
    "# Uses Polymesh code to create polygons from mesh data\n",
    "storm_names = [x for x in all_storms.keys() if x != 'Charley']\n",
    "p_rprect_dfs = list(map(return_polymesh, storm_names, ['cam']*len(storm_names), ['PRECT_MAX']*len(storm_names)))\n",
    "c_rprect_dfs = list(map(return_polymesh, storm_names, ['mpas']*len(storm_names), ['PRECT_MAX']*len(storm_names)))"
   ]
  },
  {
   "cell_type": "code",
   "execution_count": null,
   "id": "c0435a10-6d6e-49de-8342-c81713fe2ac3",
   "metadata": {},
   "outputs": [],
   "source": [
    "from metpy.calc import cape_cin, dewpoint_from_relative_humidity, parcel_profile\n",
    "from metpy.units import units\n",
    "# pressure\n",
    "p = [1008., 1000., 950., 900., 850., 800., 750., 700., 650., 600.,\n",
    "     550., 500., 450., 400., 350., 300., 250., 200.,\n",
    "     175., 150., 125., 100., 80., 70., 60., 50.,\n",
    "     40., 30., 25., 20.] * units.hPa\n",
    "# temperature\n",
    "T = [29.3, 28.1, 23.5, 20.9, 18.4, 15.9, 13.1, 10.1, 6.7, 3.1,\n",
    "     -0.5, -4.5, -9.0, -14.8, -21.5, -29.7, -40.0, -52.4,\n",
    "     -59.2, -66.5, -74.1, -78.5, -76.0, -71.6, -66.7, -61.3,\n",
    "     -56.3, -51.7, -50.7, -47.5] * units.degC\n",
    "# relative humidity\n",
    "rh = [.85, .65, .36, .39, .82, .72, .75, .86, .65, .22, .52,\n",
    "      .66, .64, .20, .05, .75, .76, .45, .25, .48, .76, .88,\n",
    "      .56, .88, .39, .67, .15, .04, .94, .35] * units.dimensionless\n",
    "# calculate dewpoint\n",
    "Td = dewpoint_from_relative_humidity(T, rh)\n",
    "# compture parcel temperature\n",
    "prof = parcel_profile(p, T[0], Td[0]).to('degC')\n",
    "# calculate surface based CAPE/CIN\n",
    "cape_cin(p, T, Td, prof)[0]"
   ]
  },
  {
   "cell_type": "code",
   "execution_count": null,
   "id": "52b03ae6-562e-4670-92fd-ed4b4cae2f0e",
   "metadata": {
    "tags": []
   },
   "outputs": [],
   "source": [
    "all_storms['storm_0236']['h3pn_ds']"
   ]
  },
  {
   "cell_type": "code",
   "execution_count": null,
   "id": "0966aeeb-ea8b-4970-9c44-12baaa9f00f7",
   "metadata": {},
   "outputs": [],
   "source": [
    "all_storms['storm_0236']['h3cn_ds']"
   ]
  },
  {
   "cell_type": "code",
   "execution_count": null,
   "id": "70f55aa5-086a-44bf-ab26-634afd056b95",
   "metadata": {},
   "outputs": [],
   "source": [
    "import datashader as ds\n",
    "from holoviews import opts\n",
    "\n",
    "def plot_precip(base_df):\n",
    "    # Defines defaults\n",
    "    w = 1000\n",
    "    h = 700\n",
    "    \n",
    "    proj = ccrs.PlateCarree()\n",
    "    lon_range, lat_range = basin_bboxes('florida')\n",
    "    x_range, y_range, _ = proj.transform_points(ccrs.PlateCarree(), np.array(lon_range), np.array(lat_range)).T\n",
    "    x_range = tuple(x_range)\n",
    "    y_range = tuple(y_range)\n",
    "    \n",
    "    plot_opts = dict(width=w, height=h, xaxis=None, yaxis=None)\n",
    "    \n",
    "    lw = 3.0\n",
    "    coastline_opts = dict(scale='10m', line_color='#000000', line_width=lw, width=w, height=h)\n",
    "    states_opts = dict(scale='50m', line_color='#000000', line_width=lw, width=w, height=h, fill_color='none')\n",
    "    \n",
    "    base_cmap = ['#ffffff', '#ffffff', \"#4bd2f7\", \"#699fd0\", \"#3c4bac\", \n",
    "                 \"#3cf74b\", \"#3cb447\", \"#3c8743\", \"#1f4723\", \"#f7f73c\"]\n",
    "    base_levs = CustomColorbars('nws_precip').out_levels[:11]\n",
    "    base_cmin = base_levs[0]\n",
    "    base_cmax = base_levs[-1]\n",
    "    base_cmap_opts = dict(cmap=base_cmap, clim=(base_cmin, base_cmax), colorbar=False)\n",
    "    base_plot_opts = dict(**plot_opts, **base_cmap_opts, alpha=0.75, color_levels=base_levs)\n",
    "    \n",
    "    coastline_layer = gf.coastline(projection=proj).opts(**coastline_opts, xlim=x_range, ylim=y_range)\n",
    "    states_layer = gf.states(projection=proj).opts(**states_opts, xlim=x_range, ylim=y_range)\n",
    "\n",
    "    # Sets up basemap\n",
    "    cvs = ds.Canvas(plot_width=w, plot_height=h, x_range=x_range, y_range=y_range)\n",
    "\n",
    "    # Adds base layer polygons\n",
    "    agg_base = cvs.polygons(base_df, geometry='geometry', agg=ds.mean('faces'))\n",
    "\n",
    "    # Rasterizes layer\n",
    "    hv_img_base = hv.element.raster.Image(agg_base).opts(**base_plot_opts)\n",
    "\n",
    "    # Adds geographic layers\n",
    "    hv_img_base = hv_img_base * coastline_layer * states_layer\n",
    "    \n",
    "    return hv_img_base"
   ]
  },
  {
   "cell_type": "code",
   "execution_count": null,
   "id": "cf3e6370-e21a-49b3-88a1-d527e6fd69d4",
   "metadata": {},
   "outputs": [],
   "source": [
    "cam_conv_plots = [plot_precip(df) for df in p_rprect_dfs]"
   ]
  },
  {
   "cell_type": "code",
   "execution_count": null,
   "id": "e8d07a7c-0cec-4266-8e13-b7782ad8905e",
   "metadata": {},
   "outputs": [],
   "source": [
    "mpas_conv_plots = [plot_precip(df) for df in c_rprect_dfs]"
   ]
  },
  {
   "cell_type": "code",
   "execution_count": null,
   "id": "26e1c7a7-d3dd-4c34-8201-831bd79f4632",
   "metadata": {},
   "outputs": [],
   "source": [
    "c_rprect_dfs[0]"
   ]
  },
  {
   "cell_type": "code",
   "execution_count": null,
   "id": "2b5a11ef-c3a9-47c8-bf7f-934a83e825e3",
   "metadata": {
    "tags": []
   },
   "outputs": [],
   "source": [
    "[hv.save(fig, f'../figs/new_tracks/{storm}/cam_conv_rate_max.png', dpi=300, center=False) for fig, storm in zip(cam_conv_plots, storm_names)]"
   ]
  },
  {
   "cell_type": "code",
   "execution_count": null,
   "id": "be8e4ba5-4e8c-431c-b025-35d77e17cccf",
   "metadata": {
    "tags": []
   },
   "outputs": [],
   "source": [
    "[hv.save(fig, f'../figs/new_tracks/{storm}/mpas_conv_rate_max.png', dpi=300, center=False) for fig, storm in zip(mpas_conv_plots, storm_names)]"
   ]
  },
  {
   "cell_type": "code",
   "execution_count": null,
   "id": "03385f16-3e11-4d72-9e77-6dd2553f82a9",
   "metadata": {},
   "outputs": [],
   "source": []
  }
 ],
 "metadata": {
  "kernelspec": {
   "display_name": "Python [conda env:uviz]",
   "language": "python",
   "name": "conda-env-uviz-py"
  },
  "language_info": {
   "codemirror_mode": {
    "name": "ipython",
    "version": 3
   },
   "file_extension": ".py",
   "mimetype": "text/x-python",
   "name": "python",
   "nbconvert_exporter": "python",
   "pygments_lexer": "ipython3",
   "version": "3.9.16"
  }
 },
 "nbformat": 4,
 "nbformat_minor": 5
}
