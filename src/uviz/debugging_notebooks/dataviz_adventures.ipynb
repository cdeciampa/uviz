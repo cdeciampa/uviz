{
 "cells": [
  {
   "cell_type": "code",
   "execution_count": null,
   "id": "b989b0a1-d72f-407d-932b-55e156481baa",
   "metadata": {},
   "outputs": [],
   "source": [
    "import os\n",
    "import glob\n",
    "\n",
    "import numpy as np\n",
    "import pandas as pd\n",
    "import xarray as xr\n",
    "\n",
    "import dask.dataframe as dd\n",
    "from scipy.spatial import Delaunay\n",
    "import matplotlib as mpl\n",
    "import matplotlib.pyplot as plt\n",
    "from matplotlib.colors import LinearSegmentedColormap\n",
    "import cartopy.crs as ccrs\n",
    "import cartopy.feature as cfeature\n",
    "\n",
    "#import metpy.calc as mpcalc\n",
    "#from metpy.units import units\n",
    "\n",
    "import hvplot.xarray\n",
    "#import hvplot\n",
    "\n",
    "from uviz.utils.tools import find_TC_bbox\n",
    "#from uviz.datashader_tools.utils import datashader_wrapper\n",
    "from uviz.plotting.utils import basin_bboxes, ssh_wsp, ssh_mslp, sshws_color, geog_features\n",
    "\n",
    "# import holoviews as hv\n",
    "# from holoviews import opts\n",
    "\n",
    "# import geoviews as gv\n",
    "# import geoviews.feature as gf\n",
    "\n",
    "# import datashader as ds\n",
    "# from holoviews.operation.datashader import rasterize as hds_rasterize\n",
    "# from holoviews.operation.datashader import datashade as hds_datashade\n",
    "\n",
    "# gv.extension(\"bokeh\",\"matplotlib\")\n",
    "# #hv.extension(\"bokeh\",\"matplotlib\")\n",
    "\n",
    "# opts.defaults()"
   ]
  },
  {
   "cell_type": "code",
   "execution_count": null,
   "id": "674f4246-f3fa-47e9-94eb-225aa97d11aa",
   "metadata": {},
   "outputs": [],
   "source": [
    "prototype_dir = r\"/gpfs/group/cmz5202/default/cnd5285/synth_events\"\n",
    "storm_1279_dir = os.path.join(prototype_dir, \"v0.1/VR28.NATL.EXT.CAM5.4CLM5.0.dtime900_storm_1279\")\n",
    "parent_28km = os.path.join(storm_1279_dir, '28km')\n",
    "child_3km = os.path.join(storm_1279_dir, '3km')"
   ]
  },
  {
   "cell_type": "code",
   "execution_count": null,
   "id": "40275b17-f123-444b-ba2c-a909940ce3ec",
   "metadata": {},
   "outputs": [],
   "source": [
    "h1p_files = glob.glob(os.path.join(parent_28km, '*.h1.*.nc'))\n",
    "h2p_files = glob.glob(os.path.join(parent_28km, '*.h2.*.nc'))\n",
    "h3p_files = glob.glob(os.path.join(parent_28km, '*.h3.*.nc'))\n",
    "h4p_files = glob.glob(os.path.join(parent_28km, '*.h4.*.nc'))\n",
    "\n",
    "# CAM mesh is the \"ext\" one, based on original model run. Other options are \"ref\" or \"wat\"\n",
    "p_mesh = r\"/gpfs/group/cmz5202/default/cnd5285/maps_and_grids/ne0np4natlanticext.ne30x4.g_scrip.nc\"\n",
    "\n",
    "h1c_files = glob.glob(os.path.join(child_3km, '*.h1.*.nc'))\n",
    "h2c_files = glob.glob(os.path.join(child_3km, '*.h2.*.nc'))\n",
    "h3c_files = glob.glob(os.path.join(child_3km, '*.h3.*.nc'))\n",
    "h4c_files = glob.glob(os.path.join(child_3km, '*.h4.*.nc'))\n",
    "h5c_files = os.listdir(os.path.join(child_3km, 'h5'))\n",
    "\n",
    "# Dug in the attributes for the mesh, TODO: make function that finds it automatically\n",
    "c_mesh = \"/gpfs/group/cmz5202/default/cnd5285/MPAS_3km/x20.835586.florida.init.CAM.nc\""
   ]
  },
  {
   "cell_type": "code",
   "execution_count": null,
   "id": "e2f2ddba-ca5d-4314-bf79-6597ec2f171c",
   "metadata": {},
   "outputs": [],
   "source": [
    "# Native grid files\n",
    "parallel = True\n",
    "h1pn_ds = xr.open_mfdataset([f for f in h1p_files if 'remap' not in f], parallel=parallel)\n",
    "h2pn_ds = xr.open_mfdataset([f for f in h2p_files if 'remap' not in f], parallel=parallel)\n",
    "h3pn_ds = xr.open_mfdataset([f for f in h3p_files if 'remap' not in f], parallel=parallel)\n",
    "h4pn_ds = xr.open_mfdataset([f for f in h4p_files if 'remap' not in f], parallel=parallel)\n",
    "p_mesh_ds = xr.open_dataset(p_mesh)\n",
    "\n",
    "# Regridded files\n",
    "h1pr_ds = xr.open_mfdataset([f for f in h1p_files if 'remap' in f], parallel=parallel)\n",
    "h2pr_ds = xr.open_mfdataset([f for f in h2p_files if 'remap' in f], parallel=parallel)\n",
    "h3pr_ds = xr.open_mfdataset([f for f in h3p_files if 'remap' in f], parallel=parallel)\n",
    "h4pr_ds = xr.open_mfdataset([f for f in h4p_files if 'remap' in f], parallel=parallel)\n",
    "\n",
    "# Native grid files\n",
    "h1cn_ds = xr.open_mfdataset([f for f in h1c_files if 'remap' not in f], parallel=parallel)\n",
    "h2cn_ds = xr.open_mfdataset([f for f in h2c_files if 'remap' not in f], parallel=parallel)\n",
    "h3cn_ds = xr.open_mfdataset([f for f in h3c_files if 'remap' not in f], parallel=parallel)\n",
    "h4cn_ds = xr.open_mfdataset([f for f in h4c_files if 'remap' not in f], parallel=parallel)\n",
    "#h5cn_ds = xr.open_mfdataset([f for f in h5c_files])\n",
    "c_mesh_ds = xr.open_dataset(c_mesh, chunks={'nCells':10000, 'nVertices':100, 'nEdges':100})\n",
    "\n",
    "# Regridded files\n",
    "h1cr_ds = xr.open_mfdataset([f for f in h1c_files if 'remap' in f], parallel=parallel)\n",
    "h2cr_ds = xr.open_mfdataset([f for f in h2c_files if 'remap' in f], parallel=parallel)\n",
    "h3cr_ds = xr.open_mfdataset([f for f in h3c_files if 'remap' in f], parallel=parallel)\n",
    "h4cr_ds = xr.open_mfdataset([f for f in h4c_files if 'remap' in f], parallel=parallel)"
   ]
  },
  {
   "cell_type": "code",
   "execution_count": null,
   "id": "72af899d-c060-411b-945d-ae78728a409f",
   "metadata": {},
   "outputs": [],
   "source": [
    "def T_to_FLUT(T, unit='K'):\n",
    "    if unit == 'C':\n",
    "        T += 273.15\n",
    "    sigma = 5.6693E-8\n",
    "    olr = sigma*(T**4)\n",
    "    \n",
    "    return olr"
   ]
  },
  {
   "cell_type": "code",
   "execution_count": null,
   "id": "95f1deb7-90b0-42c5-8060-2dc5b0ddbb6a",
   "metadata": {},
   "outputs": [],
   "source": [
    "# Normalized cimss scale\n",
    "bw_colors = [(0, '#BCBCBC'), (1, '#000000')]  \n",
    "bw_cmp = LinearSegmentedColormap.from_list('FLUT bw', bw_colors, N=435)\n",
    "\n",
    "levels = np.array([T_to_FLUT(temp, 'C') for temp in [-110, -105, -87.5, -80, -70, -60, -50, -35, -27.5, -22.5]])\n",
    "fracs = levels-T_to_FLUT(-110, 'C')\n",
    "\n",
    "rainbow_colors = [(0, '#0febff'), # cyan\n",
    "                  ((fracs[1]/fracs[-1]), '#7f007f'), # purple\n",
    "                  ((fracs[2]/fracs[-1]), '#e5e4e5'), # white\n",
    "                  ((fracs[3]/fracs[-1]), '#000000'), # black\n",
    "                  ((fracs[4]/fracs[-1]), '#ff0000'), # red\n",
    "                  ((fracs[5]/fracs[-1]), '#FFFF00'), # yellow\n",
    "                  ((fracs[6]/fracs[-1]), '#00FF00'), # green\n",
    "                  ((fracs[7]/fracs[-1]), '#000073'), # navy\n",
    "                  (1, '#00ffff')] # cyan\n",
    "\n",
    "\n",
    "rainbow_cmp = LinearSegmentedColormap.from_list('FLUT colors', rainbow_colors, N=184)\n",
    "\n",
    "bws = plt.get_cmap(bw_cmp)\n",
    "bws_colors = bws(np.linspace(0, 1, 435))\n",
    "rainbow = plt.get_cmap(rainbow_cmp)\n",
    "r_colors = rainbow(np.linspace(0, 1, 184))\n",
    "\n",
    "all_colors = np.vstack((r_colors, bws_colors))\n",
    "flut_cimss = LinearSegmentedColormap.from_list('FLUT_CIMSS', all_colors)\n",
    "mpl.colormaps.register(flut_cimss, name='FLUT_CIMSS', force=True)"
   ]
  },
  {
   "cell_type": "markdown",
   "id": "47c1d09c-071f-4416-9835-26e7bbf57f9d",
   "metadata": {
    "tags": []
   },
   "source": [
    "# hvplot"
   ]
  },
  {
   "cell_type": "code",
   "execution_count": null,
   "id": "fa1639f5-9dde-490b-9d50-d0ae7cd39a3a",
   "metadata": {},
   "outputs": [],
   "source": [
    "def unzipMesh(x,tris,t):\n",
    "    return tris[(np.abs((x[tris[:,0]])-(x[tris[:,1]])) < t) & (np.abs((x[tris[:,0]])-(x[tris[:,2]])) < t)]\n",
    "\n",
    "def triArea(x,y,tris):\n",
    "    return ((x[tris[:,1]]-x[tris[:,0]]) * (y[tris[:,2]]-y[tris[:,0]])) - ((x[tris[:,2]]-x[tris[:,0]]) * (y[tris[:,1]]-y[tris[:,0]]))\n",
    "\n",
    "def orderCCW(x,y,tris):\n",
    "    tris[triArea(x,y,tris)<0.0,:] = tris[triArea(x,y,tris)<0.0,::-1]\n",
    "    return(tris)\n",
    "\n",
    "def createHVTriMesh(x,y,triangle_indices, var, var_name, n_workers=1):\n",
    "    # Declare verts array\n",
    "    # This is essentally an XYZ matrix (at the location of x and y, z=?) 3 X len(verts) array\n",
    "    verts = np.column_stack([x, y, var])\n",
    "\n",
    "    # Convert to pandas\n",
    "    verts_df  = pd.DataFrame(verts,  columns=['Longitude', 'Latitude', var_name])\n",
    "    tris_df   = pd.DataFrame(triangle_indices, columns=['v0', 'v1', 'v2'])\n",
    "\n",
    "    # Convert to dask\n",
    "    verts_ddf = dd.from_pandas(verts_df, npartitions=n_workers)\n",
    "    tris_ddf = dd.from_pandas(tris_df, npartitions=n_workers)\n",
    "\n",
    "    # Declare HoloViews element\n",
    "    tri_nodes = hv.Nodes(verts_ddf, ['Longitude', 'Latitude', 'index'], [var_name])\n",
    "    trimesh = hv.TriMesh((tris_ddf, tri_nodes))\n",
    "    return(trimesh)\n",
    "\n",
    "lonCell = np.mod(np.rad2deg(c_mesh_ds['lonCell'].values) - 180.0, 360.0) - 180.0\n",
    "latCell = np.rad2deg(c_mesh_ds['latCell'].values)\n",
    "lonVertex = np.mod(np.rad2deg(c_mesh_ds['lonVertex'].values) - 180.0, 360.0) - 180.0\n",
    "latVertex = np.rad2deg(c_mesh_ds['latVertex'].values)\n",
    "tris = c_mesh_ds.cellsOnVertex.values - 1\n",
    "tris_ccw = orderCCW(lonCell,latCell,tris)\n",
    "tris_ccw_flat = unzipMesh(lonCell,tris,90.0)\n",
    "\n",
    "sel_time = 23\n",
    "primalVar = h3cn_ds['FLUT'].isel(time=sel_time).values\n",
    "lon_range, lat_range = find_TC_bbox(h3cn_ds, 'florida', sel_time, center_dist=1000)\n",
    "\n",
    "project_coords = True\n",
    "if project_coords == True:\n",
    "    proj = ccrs.Robinson(central_longitude=0.0)\n",
    "    xPCS, yPCS, _ = proj.transform_points(ccrs.PlateCarree(), lonCell, latCell).T\n",
    "    trimesh = createHVTriMesh(xPCS,yPCS,tris_ccw_flat, primalVar, 'FLUT', n_workers=1)\n",
    "    x_range, y_range, _ = proj.transform_points(ccrs.PlateCarree(), np.array(lon_range), np.array(lat_range)).T\n",
    "    lon_range = tuple(x_range)\n",
    "    lat_range = tuple(y_range)\n",
    "\n",
    "else:\n",
    "    proj = ccrs.PlateCarree()\n",
    "    lon_range = tuple(((np.subtract(lon_range, 180) % 360) - 180.0))\n",
    "    trimesh = createHVTriMesh(lonCell,latCell,tris_ccw, primalVar, 'FLUT', n_workers=1)\n",
    "\n",
    "rasterized = hds_rasterize(trimesh, aggregator='mean', precompute=True, vdim_prefix='', pixel_ratio=5, x_range=lon_range, y_range=lat_range)\n",
    "\n",
    "mpas_native_olr = rasterized.opts(tools=['hover'], colorbar=True, cmap=flut_cimss, title='MPAS (Native) Upwelling Longwave Flux', \n",
    "                           clim=(T_to_FLUT(-110, 'C'), T_to_FLUT(55, 'C')), width=1000, height=900, clabel='Upwelling Longwave Flux [W/m^2]',\n",
    "                           colorbar_position='bottom', fontsize=dict(title='30pt', clabel='28pt', cticks='26pt')) * gf.coastline(projection=proj).options(scale='10m')"
   ]
  },
  {
   "cell_type": "code",
   "execution_count": null,
   "id": "03cc1091-1463-494e-891f-a6d319a7cd49",
   "metadata": {},
   "outputs": [],
   "source": [
    "def triangulate(vertices, x=\"Longitude\", y=\"Latitude\"):\n",
    "    \"\"\"\n",
    "    Generate a triangular mesh for the given x,y,z vertices, using Delaunay triangulation.\n",
    "    For large n, typically results in about double the number of triangles as vertices.\n",
    "    \"\"\"\n",
    "    triang = Delaunay(vertices[[x,y]].values)\n",
    "    print('Given', len(vertices), \"vertices, created\", len(triang.simplices), 'triangles.')\n",
    "    \n",
    "    tris_df = pd.DataFrame(triang.simplices, columns=['v0', 'v1', 'v2'])\n",
    "    \n",
    "    return tris_df\n",
    "\n",
    "def createHVTriMesh(x, y, var, var_name, n_workers=1):\n",
    "    # Declare verts array\n",
    "    # This is essentally an XYZ matrix (at the location of x and y, z=?) 3 X len(verts) array\n",
    "    verts = np.column_stack([x, y, var])\n",
    "\n",
    "    # Convert to pandas\n",
    "    verts_df  = pd.DataFrame(verts,  columns=['Longitude', 'Latitude', var_name])\n",
    "    \n",
    "    # Creates Delaunay triangular mesh\n",
    "    tris_df = triangulate(verts_df)\n",
    "\n",
    "    # Convert to dask\n",
    "    verts_ddf = dd.from_pandas(verts_df, npartitions=n_workers)\n",
    "    tris_ddf = dd.from_pandas(tris_df, npartitions=n_workers)\n",
    "\n",
    "    # Declare HoloViews element\n",
    "    tri_nodes = hv.Nodes(verts_ddf, ['Longitude', 'Latitude', 'index'], [var_name])\n",
    "    trimesh = hv.TriMesh((tris_ddf, tri_nodes))\n",
    "    return(trimesh)\n",
    "\n",
    "# Grid centerpoints\n",
    "lonCell = p_mesh_ds.grid_center_lon.values\n",
    "latCell = p_mesh_ds.grid_center_lat.values\n",
    "lonCell = ((lonCell - 180.0) % 360.0) - 180.0\n",
    "\n",
    "sel_time = 23\n",
    "primalVar = h3pn_ds['FLUT'].isel(time=sel_time).values\n",
    "lon_range, lat_range = find_TC_bbox(h3pn_ds, 'florida', sel_time, center_dist=1000)\n",
    "\n",
    "project_coords = True\n",
    "\n",
    "if project_coords == True:\n",
    "    proj = ccrs.Robinson(central_longitude=0.0)\n",
    "    # Creates Delaunay triangular mesh\n",
    "    xPCS, yPCS, _ = proj.transform_points(ccrs.PlateCarree(), lonCell, latCell).T\n",
    "    trimesh = createHVTriMesh(xPCS, yPCS, primalVar, 'FLUT')\n",
    "    x_range, y_range, _ = proj.transform_points(ccrs.PlateCarree(), np.array(lon_range), np.array(lat_range)).T\n",
    "    lon_range = tuple(x_range)\n",
    "    lat_range = tuple(y_range)\n",
    "    \n",
    "else:\n",
    "    proj = ccrs.PlateCarree()\n",
    "    lon_range = tuple(((np.subtract(lon_range, 180) % 360) - 180.0))\n",
    "    # Creates Delaunay triangular mesh\n",
    "    trimesh = createHVTriMesh(lonCell, latCell, primalVar, 'FLUT')\n",
    "\n",
    "\n",
    "rasterized = hds_rasterize(trimesh, aggregator='mean', precompute=True, x_range=lon_range, y_range=lat_range, vdim_prefix='')\n",
    "\n",
    "cam_native_olr = rasterized.opts(tools=['hover'], colorbar=False, cmap=flut_cimss, title='CAM5 (Native Grid) Upwelling Longwave Flux', \n",
    "                        clim=(T_to_FLUT(-110, 'C'), T_to_FLUT(55, 'C')), width=1000, height=800, \n",
    "                        fontsize=dict(title='30pt')) * gf.coastline(projection=proj).options(scale='10m')"
   ]
  },
  {
   "cell_type": "code",
   "execution_count": null,
   "id": "a8a4f648-9ebc-498a-8c90-da31462d421e",
   "metadata": {},
   "outputs": [],
   "source": [
    "x_range"
   ]
  },
  {
   "cell_type": "code",
   "execution_count": null,
   "id": "c12c04ff-83f8-4e99-a77f-c318ebeaa89d",
   "metadata": {},
   "outputs": [],
   "source": [
    "lon_range, lat_range = find_TC_bbox(h3cn_ds, 'florida', 23, center_dist=1000)\n",
    "lon_range = tuple(((np.subtract(lon_range, 180) % 360) - 180.0))\n",
    "proj = ccrs.Robinson(central_longitude=0.0)\n",
    "\n",
    "w = 1000\n",
    "h = 600\n",
    "\n",
    "mpas_regridded_olr = h3cr_ds.FLUT.isel(time=23).hvplot('lon', 'lat', projection=proj, project=True, rasterize=True, aggregator='mean', colorbar=False,\n",
    "                                           clim=(T_to_FLUT(-110, 'C'), T_to_FLUT(55, 'C')), cmap='FLUT_CIMSS', title='MPAS (Regridded) Upwelling Longwave Flux',\n",
    "                                           dynamic=False, xlim = lon_range, ylim = lat_range, coastline='10m', fontsize=dict(title='30pt'),\n",
    "                                           frame_width=w, frame_height=h)\n",
    "mpas_regridded_olr"
   ]
  },
  {
   "cell_type": "code",
   "execution_count": null,
   "id": "ba94306a-6583-4561-9b0f-771371486446",
   "metadata": {},
   "outputs": [],
   "source": [
    "# Not Robinson!\n",
    "# lon_ and lat_ range need to be in degrees and [-180, 180]\n",
    "\n",
    "lon_range, lat_range = find_TC_bbox(h3cn_ds, 'florida', 23, center_dist=1000)\n",
    "#lon_range, lat_range = basin_bboxes('florida')\n",
    "#lon_range = tuple((-88, -65))\n",
    "#lat_range = tuple((16.13, 34.32))\n",
    "lon_range = tuple(((np.subtract(lon_range, 180) % 360) - 180.0))\n",
    "proj = ccrs.Robinson()\n",
    "\n",
    "w = 1000\n",
    "h = 600\n",
    "\n",
    "cam_regridded_olr = h3pr_ds.FLUT.isel(time=23).hvplot.quadmesh('lon', 'lat', projection=proj, project=True, rasterize=True, aggregator='mean', colorbar=False,\n",
    "                                           clim=(T_to_FLUT(-110, 'C'), T_to_FLUT(55, 'C')), cmap='FLUT_CIMSS', title='CAM (Regridded) Upwelling Longwave Flux',\n",
    "                                           dynamic=False, xlim = lon_range, ylim = lat_range, coastline='10m', fontsize=dict(title='30pt'),\n",
    "                                           frame_width=w, frame_height=h)\n",
    "cam_regridded_olr"
   ]
  },
  {
   "cell_type": "code",
   "execution_count": null,
   "id": "6a2fdaba-598c-4f4c-bce6-3808bbb99deb",
   "metadata": {},
   "outputs": [],
   "source": [
    "hvplot.help('quadmesh')"
   ]
  },
  {
   "cell_type": "code",
   "execution_count": null,
   "id": "d10badd5-64a2-46d3-8114-0f35f72b9269",
   "metadata": {},
   "outputs": [],
   "source": [
    "lon_range"
   ]
  },
  {
   "cell_type": "code",
   "execution_count": null,
   "id": "65aad0ad-a01b-4d3f-ae27-4a0aae432324",
   "metadata": {},
   "outputs": [],
   "source": [
    "right_olr = hv.Layout([cam_regridded_olr, mpas_regridded_olr]).cols(1)"
   ]
  },
  {
   "cell_type": "code",
   "execution_count": null,
   "id": "591f1e86-9c69-41d9-b9b4-cef4c78b829a",
   "metadata": {},
   "outputs": [],
   "source": [
    "final_olr = hv.Layout([cam_native_olr, cam_regridded_olr, mpas_native_olr, mpas_regridded_olr]).cols(2)"
   ]
  },
  {
   "cell_type": "code",
   "execution_count": null,
   "id": "019abe3d-6463-4df3-b349-31601d56897d",
   "metadata": {},
   "outputs": [],
   "source": [
    "hv.save(final_olr, '../figs/olr_final.png', fmt='png')"
   ]
  },
  {
   "cell_type": "code",
   "execution_count": null,
   "id": "30b047f7-a1e6-4597-97d8-d7b14ebd60e4",
   "metadata": {},
   "outputs": [],
   "source": [
    "hv.save(right_olr, '../figs/olr_regridded_right.png', fmt='png')"
   ]
  },
  {
   "cell_type": "code",
   "execution_count": null,
   "id": "49bc655b-18df-484f-abd5-41a7990958e2",
   "metadata": {},
   "outputs": [],
   "source": [
    "# FLUT CIMSS is my registered mpl colormap\n",
    "project_coords=True\n",
    "\n",
    "if project_coords == True:\n",
    "    proj = ccrs.Robinson(central_longitude=180)\n",
    "    h3cr_ds.FLUT.isel(time=slice(20, 30)).hvplot.quadmesh('lon', 'lat', projection=proj, project=True, rasterize=True, clim=(T_to_FLUT(-110, 'C'), T_to_FLUT(55, 'C')),\n",
    "                             cmap='FLUT_CIMSS', dynamic=False, coastline='10m', frame_width=1200, frame_height=800)\n",
    "else:\n",
    "    h3cr_ds.FLUT.isel(time=slice(20, 30)).hvplot.quadmesh('lon', 'lat', geo=True, rasterize=True, clim=(T_to_FLUT(-110, 'C'), T_to_FLUT(55, 'C')),\n",
    "                             cmap='FLUT_CIMSS', dynamic=False, coastline='10m', frame_width=1200, frame_height=800)"
   ]
  },
  {
   "cell_type": "code",
   "execution_count": null,
   "id": "3abcc2e9-effe-4c55-a1a3-7ccf1f3fc03d",
   "metadata": {},
   "outputs": [],
   "source": [
    "proj = ccrs.Robinson(central_longitude=180.0)\n",
    "lon_range, lat_range = find_TC_bbox(h3cn_ds, 'florida', 23, center_dist=1000)\n",
    "xPCS, yPCS, _ = proj.transform_points(ccrs.PlateCarree(), np.array(lon_range), np.array(lat_range)).T\n",
    "tuple(xPCS)"
   ]
  },
  {
   "cell_type": "code",
   "execution_count": null,
   "id": "26628c6a-1dce-465f-a858-f7ff053048d2",
   "metadata": {},
   "outputs": [],
   "source": [
    "lon_range, lat_range = find_TC_bbox(h3cn_ds, 'florida', 23, center_dist=1000)\n",
    "lon_range = tuple(((np.subtract(lon_range, 180) % 360) - 180.0))\n",
    "\n",
    "proj = ccrs.Robinson()\n",
    "# lon_range, lat_range, _ = proj.transform_points(ccrs.PlateCarree(), np.array(lon_range), np.array(lat_range)).T\n",
    "# lon_range = tuple(lon_range)\n",
    "# lat_range = tuple(lat_range)\n",
    "\n",
    "w = 800\n",
    "h = 600\n",
    "\n",
    "h3cr_ds.FLUT.isel(time=23).hvplot.quadmesh('lon', 'lat', projection=proj, project=True, rasterize=True, aggregator='mean',\n",
    "                                           clim=(T_to_FLUT(-110, 'C'), T_to_FLUT(55, 'C')), cmap='FLUT_CIMSS', title='Upwelling Longwave Flux MPAS (Regridded)',\n",
    "                                           dynamic=False, xlim = lon_range, ylim = lat_range, coastline='10m', fontsize=dict(title='16pt', cticks='10pt'),\n",
    "                                           min_width=w, max_width=w, min_height=h, max_height=h, clabel='Upwelling Longwave Flux [W/m^2]')"
   ]
  },
  {
   "cell_type": "code",
   "execution_count": null,
   "id": "92ef8a5e-7dbe-4c1c-a9cb-f3f16c6f1657",
   "metadata": {},
   "outputs": [],
   "source": [
    "lon_range, lat_range = find_TC_bbox(h3cn_ds, 'florida', 23, center_dist=1000)\n",
    "lon_range = tuple(((np.subtract(lon_range, 180) % 360) - 180.0))\n",
    "\n",
    "proj = ccrs.Robinson()\n",
    "# lon_range, lat_range, _ = proj.transform_points(ccrs.PlateCarree(), np.array(lon_range), np.array(lat_range)).T\n",
    "# lon_range = tuple(lon_range)\n",
    "# lat_range = tuple(lat_range)\n",
    "\n",
    "w = 800\n",
    "h = 600\n",
    "\n",
    "h3cr_ds.FLUT.isel(time=23).hvplot.quadmesh('lon', 'lat', projection=proj, project=True, rasterize=True, aggregator='mean',\n",
    "                                           clim=(T_to_FLUT(-110, 'C'), T_to_FLUT(55, 'C')), cmap='FLUT_CIMSS', title='Upwelling Longwave Flux MPAS (Regridded)',\n",
    "                                           dynamic=False, xlim = lon_range, ylim = lat_range, coastline='10m', fontsize=dict(title='16pt', cticks='10pt'),\n",
    "                                           min_width=w, max_width=w, min_height=h, max_height=h, clabel='Upwelling Longwave Flux [W/m^2]')\n",
    "\n",
    "proj = ccrs.Robinson(central_longitude=0.0)\n",
    "h3pr_ds.FLUT.isel(time=23).hvplot.quadmesh('lon', 'lat', projection=proj, project=True, rasterize=True, aggregator='mean',\n",
    "                                           clim=(T_to_FLUT(-110, 'C'), T_to_FLUT(55, 'C')), cmap='FLUT_CIMSS', title='Upwelling Longwave Flux CAM5 (Regridded)',\n",
    "                                           dynamic=False, xlim = lon_range, ylim = lat_range, coastline='10m', fontsize=dict(title='16pt', cticks='10pt'),\n",
    "                                           min_width=w, max_width=w, min_height=h, max_height=h, clabel='Upwelling Longwave Flux [W/m^2]')"
   ]
  },
  {
   "cell_type": "code",
   "execution_count": null,
   "id": "60b5321d-80a0-469c-9288-4ab0661fa110",
   "metadata": {},
   "outputs": [],
   "source": [
    "#lon_range, lat_range = find_TC_bbox(h3cn_ds, 'florida', 23, center_dist=1000)\n",
    "# slice(20, 30)\n",
    "h3pr_ds.FLUT.isel(time=23).hvplot.quadmesh('lon', 'lat', geo=True, rasterize=True, min_width=800, max_width=800,\n",
    "                                           min_height=600, max_height=600, cmap='gist_yarg', fontsize=dict(title='16pt', cticks='11pt'))"
   ]
  },
  {
   "cell_type": "code",
   "execution_count": null,
   "id": "2f598a30-b659-444a-9c5e-80a65acc3845",
   "metadata": {},
   "outputs": [],
   "source": [
    "lon_range, lat_range = find_TC_bbox(h3cn_ds, 'florida', 23, center_dist=1000)\n",
    "lon_range = tuple(((np.subtract(lon_range, 180) % 360) - 180.0))\n",
    "\n",
    "proj = ccrs.Robinson()\n",
    "# lon_range, lat_range, _ = proj.transform_points(ccrs.PlateCarree(), np.array(lon_range), np.array(lat_range)).T\n",
    "# lon_range = tuple(lon_range)\n",
    "# lat_range = tuple(lat_range)\n",
    "\n",
    "w = 800\n",
    "h = 600\n",
    "\n",
    "h3cr_ds.FLUT.isel(time=23).hvplot.quadmesh('lon', 'lat', projection=proj, project=True, rasterize=True, aggregator='mean',\n",
    "                                           clim=(T_to_FLUT(-110, 'C'), T_to_FLUT(55, 'C')), cmap='FLUT_CIMSS', title='Upwelling Longwave Flux MPAS (Regridded)',\n",
    "                                           dynamic=False, xlim = lon_range, ylim = lat_range, coastline='10m', fontsize=dict(title='16pt', cticks='10pt'),\n",
    "                                           min_width=w, max_width=w, min_height=h, max_height=h, clabel='Upwelling Longwave Flux [W/m^2]')\n",
    "#lon_range, lat_range = find_TC_bbox(h3cn_ds, 'florida', 23, center_dist=1000)\n",
    "# slice(20, 30)\n",
    "h3pr_ds.FLUT.isel(time=23).hvplot.quadmesh('lon', 'lat', geo=True, rasterize=True, min_width=800, max_width=800,\n",
    "                                           min_height=600, max_height=600, cmap='gist_yarg', fontsize=dict(title='16pt', cticks='11pt'))"
   ]
  },
  {
   "cell_type": "code",
   "execution_count": null,
   "id": "f0a0efe0-1f53-4522-9916-7cd10c5a6878",
   "metadata": {},
   "outputs": [],
   "source": [
    "lon_range"
   ]
  },
  {
   "cell_type": "code",
   "execution_count": null,
   "id": "705a684d-a135-4744-be3c-e7d898b4d352",
   "metadata": {},
   "outputs": [],
   "source": [
    "lat_range"
   ]
  },
  {
   "cell_type": "code",
   "execution_count": null,
   "id": "fb70da7b-7cdc-4c6c-8b96-4a727dfe8d50",
   "metadata": {},
   "outputs": [],
   "source": [
    "h3pr_ds.FLUT.isel(time=23).hvplot.quadmesh('lon', 'lat', geo=True, rasterize=True, clim=(T_to_FLUT(-110, 'C'), T_to_FLUT(55, 'C')),\n",
    "                             cmap = 'FLUT_CIMSS', dynamic=False, coastline='10m', width=800, height=600)"
   ]
  },
  {
   "cell_type": "code",
   "execution_count": null,
   "id": "1ca6248b-1c4a-4f67-8577-1708a613f27a",
   "metadata": {},
   "outputs": [],
   "source": [
    "lons, lats = basin_bboxes('florida')\n",
    "\n",
    "fig, axs = plt.subplots(2, 1, dpi=200, figsize=(15, 12), subplot_kw=dict(projection=ccrs.PlateCarree()), layout='constrained')\n",
    "\n",
    "norm = mpl.colors.Normalize(vmin=T_to_FLUT(-110, 'C'), vmax=T_to_FLUT(55, 'C'))\n",
    "h3pr_ds['FLUT'].isel(time=23).plot(ax=axs[0], norm=norm, cmap='FLUT_CIMSS', add_colorbar=False, transform=ccrs.PlateCarree())\n",
    "h3cr_ds['FLUT'].isel(time=23).plot(ax=axs[1], norm=norm, cmap='FLUT_CIMSS', add_colorbar=False, transform=ccrs.PlateCarree())\n",
    "axs[0].set_title('CAM5 (Regridded) Upwelling Longwave Flux', fontweight='bold', fontsize=16)\n",
    "axs[1].set_title('MPAS (Regridded) Upwelling Longwave Flux', fontweight='bold', fontsize=16)\n",
    "\n",
    "for ax in axs.ravel():\n",
    "    ax.set_extent([lons[0], lons[1], lats[0], lats[1]])\n",
    "    ax.coastlines(resolution='10m', linewidth=1, edgecolor='#323232')\n",
    "    ax.add_feature(cfeature.LAKES.with_scale('10m'), linewidth=1, facecolor='none', edgecolor='#323232', zorder=2)\n",
    "    \n",
    "cbar = fig.colorbar(mpl.cm.ScalarMappable(norm=norm, cmap='FLUT_CIMSS'), orientation='horizontal', ax=axs, shrink=0.375)\n",
    "cbar.ax.tick_params(labelsize=14)\n",
    "cbar.set_label(label='Upwelling Longwave Flux [W/$m^2$]', size=16, fontstyle='italic')\n",
    "    \n",
    "# cbar = fig.colorbar(mpl.cm.ScalarMappable(norm=norm, cmap='FLUT_CIMSS'), orientation='horizontal', shrink = \n",
    "#              ax=axs)\n",
    "\n",
    "plt.show()"
   ]
  },
  {
   "cell_type": "code",
   "execution_count": null,
   "id": "b257cce8-993a-4a0a-9cf5-fcc4dc1a80e0",
   "metadata": {},
   "outputs": [],
   "source": [
    "import holoviews as hv\n",
    "from holoviews import opts\n",
    "hv.extension('bokeh')"
   ]
  },
  {
   "cell_type": "code",
   "execution_count": null,
   "id": "aecb19e5-8d6d-42ec-b477-87970eafc795",
   "metadata": {},
   "outputs": [],
   "source": [
    "p_mesh_ds"
   ]
  },
  {
   "cell_type": "code",
   "execution_count": null,
   "id": "22c6f1a4-aca8-4bb6-8511-8e1936b91fc8",
   "metadata": {},
   "outputs": [],
   "source": [
    "center_dist = 1000 # km\n",
    "lon_range, lat_range = find_TC_bbox(h3pn_ds, 'florida', 23, center_dist=center_dist)\n",
    "lon_range = tuple(((np.subtract(lon_range, 180) % 360) - 180.0))\n",
    "\n",
    "x = p_mesh_ds.grid_center_lon.values\n",
    "x = ((np.subtract(x, 180) % 360) - 180.0)\n",
    "y = p_mesh_ds.grid_center_lat.values\n",
    "var = h3pn_ds.FLUT.isel(time=23).values\n",
    "\n",
    "points = np.column_stack([x, y, var])\n",
    "points = points[np.where((points[:, 0] >= lon_range[0]) & (points[:, 0] <= lon_range[1]) & \n",
    "                         (points[:, 1] >= lat_range[0]) & (points[:, 1] <= lat_range[1]))]\n",
    "\n",
    "grid_x, grid_y = np.meshgrid(points[:, 0], points[:, 1], indexing='xy', sparse=False)"
   ]
  },
  {
   "cell_type": "code",
   "execution_count": null,
   "id": "0e6d3e60-4c9c-447b-a07a-032544669c27",
   "metadata": {},
   "outputs": [],
   "source": [
    "tvar = np.dstack([points[:, 2]]*len(points[:, 2]))\n",
    "tvar.shape"
   ]
  },
  {
   "cell_type": "code",
   "execution_count": null,
   "id": "f7d0c5df-3ec0-428f-b9ea-4fe9f3ce0f16",
   "metadata": {},
   "outputs": [],
   "source": [
    "tvar.shape"
   ]
  },
  {
   "cell_type": "code",
   "execution_count": null,
   "id": "eb37aa7c-18ed-4770-9ba9-6af9fe0c2631",
   "metadata": {},
   "outputs": [],
   "source": [
    "grid_x.shape"
   ]
  },
  {
   "cell_type": "code",
   "execution_count": null,
   "id": "c87d32b4-fbf3-4f8c-bb41-8779a474b424",
   "metadata": {},
   "outputs": [],
   "source": [
    "points[:, 2].shape"
   ]
  },
  {
   "cell_type": "code",
   "execution_count": null,
   "id": "a02e8c63-a292-4949-939e-a8be38af3fec",
   "metadata": {},
   "outputs": [],
   "source": [
    "hv.QuadMesh((grid_x, grid_y, tvar))"
   ]
  },
  {
   "cell_type": "code",
   "execution_count": null,
   "id": "2f0c065e-ef0a-464d-9e21-1c33b2037355",
   "metadata": {},
   "outputs": [],
   "source": [
    "# Based off of https://water.weather.gov/precip/ 30-day observed precip scale\n",
    "nws_precip_colors = [\n",
    "    '#ffffff',  # 0 - 0.01 inches\n",
    "    \"#4bd2f7\",  # 0.01 - 0.10 inches  light blue\n",
    "    \"#699fd0\",  # 0.10 - 0.25 inches  mid blue\n",
    "    \"#3c4bac\",  # 0.25 - 0.50 inches  dark blue\n",
    "    \"#3cf74b\",  # 0.50 - 1.00 inches  light green\n",
    "    \"#3cb447\",  # 1.00 - 1.50 inches  mid green\n",
    "    \"#3c8743\",  # 1.50 - 2.00 inches  dark green\n",
    "    \"#1f4723\",  # 2.00 - 3.00 inches  darkest green\n",
    "    \"#f7f73c\",  # 3.00 - 4.00 inches  yellow\n",
    "    \"#fbde88\",  # 4.00 - 5.00 inches  weird tan\n",
    "    \"#f7ac3c\",  # 5.00 - 6.00 inches  orange\n",
    "    \"#c47908\",  # 6.00 - 8.00 inches  dark orange\n",
    "    \"#f73c3c\",  # 8.00 - 10.00 inch   red\n",
    "    \"#bf3c3c\",  # 10.00 - 15.00 inch  mid red\n",
    "    \"#6e2b2b\",  # 15.00 - 20.00 inch  dark red \n",
    "    \"#f73cf7\",  # 20.00 - 25.00 inch  bright pink\n",
    "    \"#9974e4\",  # 25.00 - 30.00 inch  purple\n",
    "    \"#e1e1e1\",  # 30.00 - 40.00 inch  gray\n",
    "    ]\n",
    "nws_cmap = mpl.colors.ListedColormap(nws_precip_colors, 'nws_precip')\n",
    "levels = [0.0, 0.01, 0.10, 0.25, 0.50, 1.0, 1.5, 2.0, 3.0, 4.0, 5.0, 6.0, 8.0, 10.0, 15.0, 20.0, 25.0, 30.0, 40.0]\n",
    "norm = mpl.colors.BoundaryNorm(boundaries=levels, ncolors=len(levels))\n",
    "mpl.colormaps.register(nws_cmap, force=True)\n",
    "nws_cmap"
   ]
  },
  {
   "cell_type": "code",
   "execution_count": null,
   "id": "9878472a-5ed9-4015-b327-5415f5ac8d37",
   "metadata": {},
   "outputs": [],
   "source": [
    "h4cr_ds['tot_prect'] = h4cr_ds['PRECT'].metpy.convert_units('inch/hour').sum(dim='time') * units('hour')\n",
    "h4cr_ds['max_hrly_prect'] = h4cr_ds['PRECT'].metpy.convert_units('inch/hour').max(dim='time') * units('hour')\n",
    "\n",
    "h4pr_ds['tot_prect'] = h4pr_ds['PRECT'].metpy.convert_units('inch/hour').sum(dim='time') * units('hour')\n",
    "h4pr_ds['max_hrly_prect'] = h4pr_ds['PRECT'].metpy.convert_units('inch/hour').max(dim='time') * units('hour')"
   ]
  },
  {
   "cell_type": "code",
   "execution_count": null,
   "id": "0a63be33-da8c-42e9-8aa2-dcefde3eed67",
   "metadata": {},
   "outputs": [],
   "source": [
    "h4cr_ds"
   ]
  },
  {
   "cell_type": "code",
   "execution_count": null,
   "id": "e3908418-a8a3-4809-8d64-94e8bd5f17ec",
   "metadata": {},
   "outputs": [],
   "source": [
    "lon_range, lat_range = basin_bboxes('florida')\n",
    "lon_range = tuple(((np.subtract(lon_range, 180) % 360) - 180.0))\n",
    "\n",
    "w = 800\n",
    "h = 600\n",
    "\n",
    "proj = ccrs.Robinson(central_longitude=0.0)\n",
    "h4pr_ds.tot_prect.hvplot.quadmesh('lon', 'lat', projection=proj, project=True, rasterize=True, aggregator='mean',\n",
    "                                           clim=(levels[0], levels[-1]), cmap='nws_precip', title='CAM5 (Regridded) Total Accumulated Precipitation',\n",
    "                                           dynamic=False, xlim = lon_range, ylim = lat_range, coastline='10m', fontsize=dict(title='16pt', cticks='10pt'),\n",
    "                                           min_width=w, max_width=w, min_height=h, max_height=h, clabel='Accumulated Precipitation [inches]', alpha=0.75)\n",
    "\n",
    "\n",
    "# final = rasterized.opts(tools=['hover'], colorbar=True, cmap=nws_cmap, title='MPAS (Native) Maximum Hourly Accumulated Precipitation', \n",
    "#                         clim=(levels[0], levels[-1]), width=1000, clabel='Accumulated Precipitation [inches]', color_levels=levels,\n",
    "#                         clipping_colors={'NaN':'#FFFFFF'}, fontsize=dict(title='16pt', cticks='10pt'), alpha=0.75) *\\\n",
    "# gf.coastline(projection=proj, line_width=1, alpha=1).options(scale='10m') *\\\n",
    "# gf.lakes(projection=proj, line_width=0.5, fill_color='none', line_color='#323232', alpha=1).options(scale='10m')"
   ]
  },
  {
   "cell_type": "markdown",
   "id": "a265d2c1-fef2-4521-bf99-35b8fee6d8ef",
   "metadata": {
    "tags": []
   },
   "source": [
    "# Scipy interpolation"
   ]
  },
  {
   "cell_type": "code",
   "execution_count": null,
   "id": "7d2ea9e2-0f44-4342-bff8-2def8eaea9fc",
   "metadata": {},
   "outputs": [],
   "source": [
    "from scipy.interpolate import griddata, Rbf"
   ]
  },
  {
   "cell_type": "code",
   "execution_count": null,
   "id": "b123e557-5b9a-4240-8f81-bfdee5acf66f",
   "metadata": {},
   "outputs": [],
   "source": [
    "p_mesh_ds"
   ]
  },
  {
   "cell_type": "code",
   "execution_count": null,
   "id": "8caf32de-c711-4c00-bc00-06d1b03ed694",
   "metadata": {},
   "outputs": [],
   "source": [
    "h3cn_ds"
   ]
  },
  {
   "cell_type": "code",
   "execution_count": null,
   "id": "b0267c37-3811-40c3-bc76-985491ebbf09",
   "metadata": {},
   "outputs": [],
   "source": [
    "center_dist = 500 # km\n",
    "lon_range, lat_range = find_TC_bbox(h3pn_ds, 'florida', 23, center_dist=center_dist)\n",
    "lon_range = tuple(((np.subtract(lon_range, 180) % 360) - 180.0))\n",
    "\n",
    "x = p_mesh_ds.grid_center_lon.values\n",
    "x = ((np.subtract(x, 180) % 360) - 180.0)\n",
    "y = p_mesh_ds.grid_center_lat.values\n",
    "var = h3pn_ds.FLUT.isel(time=23).values\n",
    "\n",
    "points = np.column_stack([x, y, var])\n",
    "points = points[np.where((points[:, 0] >= lon_range[0]) & (points[:, 0] <= lon_range[1]) & \n",
    "                         (points[:, 1] >= lat_range[0]) & (points[:, 1] <= lat_range[1]))]"
   ]
  },
  {
   "cell_type": "code",
   "execution_count": null,
   "id": "ecb3f0ac-4dcb-42c3-9402-94582af41396",
   "metadata": {},
   "outputs": [],
   "source": [
    "import time\n",
    "start = time.time()\n",
    "grid_x, grid_y = np.meshgrid(points[:, 0], points[:, 1], indexing='xy', sparse=True)\n",
    "end = time.time()\n",
    "\n",
    "print(f'Time elapsed with sparse=True: {end-start} seconds.')"
   ]
  },
  {
   "cell_type": "code",
   "execution_count": null,
   "id": "0862aed5-dfe4-4971-9ca1-95b7d29f6b46",
   "metadata": {},
   "outputs": [],
   "source": [
    "start = time.time()\n",
    "grid_x, grid_y = np.meshgrid(points[:, 0], points[:, 1], indexing='xy', sparse=False)\n",
    "end = time.time()\n",
    "\n",
    "print(f'Time elapsed with sparse=False: {end-start} seconds.')"
   ]
  },
  {
   "cell_type": "code",
   "execution_count": null,
   "id": "681716c2-8af3-4a14-97da-decfd6dc60a5",
   "metadata": {},
   "outputs": [],
   "source": [
    "nearest_grid = griddata(points[:, :2], points[:, 2], (grid_x, grid_y), method='nearest')\n",
    "linear_grid = griddata(points[:, :2], points[:, 2], (grid_x, grid_y), method='linear')\n",
    "cubic_grid = griddata(points[:, :2], points[:, 2], (grid_x, grid_y), method='cubic') \n",
    "\n",
    "# try:\n",
    "#     rbf = Rbf(points[:, 0], points[:, 1], points[:, 2])\n",
    "#     rbf_grid = rbf(grid_x,grid_y)\n",
    "# except:\n",
    "#     rbf_grid = None"
   ]
  },
  {
   "cell_type": "code",
   "execution_count": null,
   "id": "19988da3-2c0a-4119-aa2d-11846682b049",
   "metadata": {},
   "outputs": [],
   "source": [
    "proj = ccrs.PlateCarree()\n",
    "fig, axs = plt.subplots(1, 3, figsize=(12, 6), dpi=200, subplot_kw=dict(projection=proj))\n",
    "\n",
    "# axs[0][0].imshow(rbf_grid, origin='lower', \n",
    "#            extent=(points[:, 0].min(), points[:, 0].max(), points[:, 1].min(), points[:, 1].max()),\n",
    "#            aspect=(points[:, 0].max() - points[:, 0].min()) / (points[:, 1].max() - points[:, 1].min()),\n",
    "#            vmin=T_to_FLUT(-110, 'C'), vmax=T_to_FLUT(55, 'C'), cmap='FLUT_CIMSS', transform=proj)\n",
    "# axs[0][0].set_title('RBF Interp')\n",
    "\n",
    "axs[0].imshow(nearest_grid, origin='lower', \n",
    "           extent=(points[:, 0].min(), points[:, 0].max(), points[:, 1].min(), points[:, 1].max()),\n",
    "           aspect=(points[:, 0].max() - points[:, 0].min()) / (points[:, 1].max() - points[:, 1].min()),\n",
    "           vmin=T_to_FLUT(-110, 'C'), vmax=T_to_FLUT(55, 'C'), cmap='FLUT_CIMSS', transform=proj)\n",
    "axs[0].set_title('Nearest Neighbor Interp')\n",
    "\n",
    "axs[1].imshow(linear_grid, origin='lower', \n",
    "           extent=(points[:, 0].min(), points[:, 0].max(), points[:, 1].min(), points[:, 1].max()),\n",
    "           aspect=(points[:, 0].max() - points[:, 0].min()) / (points[:, 1].max() - points[:, 1].min()),\n",
    "           vmin=T_to_FLUT(-110, 'C'), vmax=T_to_FLUT(55, 'C'), cmap='FLUT_CIMSS', transform=proj)\n",
    "axs[1].set_title('Linear Interp')\n",
    "\n",
    "axs[2].imshow(cubic_grid, origin='lower', \n",
    "           extent=(points[:, 0].min(), points[:, 0].max(), points[:, 1].min(), points[:, 1].max()),\n",
    "           aspect=(points[:, 0].max() - points[:, 0].min()) / (points[:, 1].max() - points[:, 1].min()),\n",
    "           vmin=T_to_FLUT(-110, 'C'), vmax=T_to_FLUT(55, 'C'), cmap='FLUT_CIMSS', transform=proj)\n",
    "axs[2].set_title('Cubic Interp')\n",
    "\n",
    "for ax in axs.ravel():\n",
    "    ax.coastlines()\n",
    "\n",
    "plt.show()"
   ]
  },
  {
   "cell_type": "code",
   "execution_count": null,
   "id": "f3d724ed-abb7-4acc-a296-284f2d9283c8",
   "metadata": {},
   "outputs": [],
   "source": []
  },
  {
   "cell_type": "code",
   "execution_count": null,
   "id": "0c783200-1ca0-4ae5-bf62-be569f80d40e",
   "metadata": {},
   "outputs": [],
   "source": [
    "rbf = Rbf(points[:, 0], points[:, 1], points[:, 2])\n",
    "rbf_grid = rbf(grid_x,grid_y)\n",
    "\n",
    "#come back to this"
   ]
  },
  {
   "cell_type": "code",
   "execution_count": null,
   "id": "cd639bbc-9d73-4091-aa9e-75bc092b497f",
   "metadata": {},
   "outputs": [],
   "source": [
    "points.shape"
   ]
  },
  {
   "cell_type": "code",
   "execution_count": null,
   "id": "daf65bc9-3054-43e5-a58d-4d4a93edf276",
   "metadata": {},
   "outputs": [],
   "source": []
  },
  {
   "cell_type": "code",
   "execution_count": null,
   "id": "57cf9fc2-d1f3-4033-8bba-3d1b822dbfba",
   "metadata": {},
   "outputs": [],
   "source": [
    "from matplotlib.mlab import griddata"
   ]
  },
  {
   "cell_type": "markdown",
   "id": "c82c9ff3-8313-42db-afe8-419937314d2b",
   "metadata": {},
   "source": [
    "# Plotly"
   ]
  },
  {
   "cell_type": "code",
   "execution_count": null,
   "id": "703a3636-e476-43f5-8ea6-46b066d19a4f",
   "metadata": {},
   "outputs": [],
   "source": [
    "h1cn_ds"
   ]
  },
  {
   "cell_type": "code",
   "execution_count": null,
   "id": "24bfa392-c453-4021-adaa-e1d2da38a05f",
   "metadata": {},
   "outputs": [],
   "source": [
    "hvplot.extension('plotly')"
   ]
  },
  {
   "cell_type": "code",
   "execution_count": null,
   "id": "96ac3315-c476-439a-b000-1f3588a5ffbe",
   "metadata": {},
   "outputs": [],
   "source": [
    "df = h3cn_ds['FLUT'].to_dataframe()\n",
    "df"
   ]
  },
  {
   "cell_type": "markdown",
   "id": "7b3949bd-b146-4f2d-9026-5bf0ce927c63",
   "metadata": {},
   "source": [
    "# PyNGL"
   ]
  },
  {
   "cell_type": "code",
   "execution_count": null,
   "id": "72fcce24-7347-4ab2-a4aa-1a4a50330183",
   "metadata": {},
   "outputs": [],
   "source": []
  },
  {
   "cell_type": "markdown",
   "id": "536d06e6-28ee-477c-86ca-4ae7d36bc4ad",
   "metadata": {},
   "source": [
    "# Paul's NCL Code"
   ]
  },
  {
   "cell_type": "code",
   "execution_count": null,
   "id": "f2217167-4334-46dc-8a8f-f53ac882ba4f",
   "metadata": {},
   "outputs": [],
   "source": []
  }
 ],
 "metadata": {
  "kernelspec": {
   "display_name": "Python [conda env:datashader]",
   "language": "python",
   "name": "conda-env-datashader-py"
  },
  "language_info": {
   "codemirror_mode": {
    "name": "ipython",
    "version": 3
   },
   "file_extension": ".py",
   "mimetype": "text/x-python",
   "name": "python",
   "nbconvert_exporter": "python",
   "pygments_lexer": "ipython3",
   "version": "3.10.5"
  }
 },
 "nbformat": 4,
 "nbformat_minor": 5
}
