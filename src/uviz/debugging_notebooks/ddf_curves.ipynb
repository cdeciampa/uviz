{
 "cells": [
  {
   "cell_type": "code",
   "execution_count": 1,
   "id": "de2ce325-b480-4be6-b836-11ee0625d09e",
   "metadata": {},
   "outputs": [],
   "source": [
    "import os\n",
    "import glob\n",
    "\n",
    "import numpy as np\n",
    "import pandas as pd\n",
    "\n",
    "# Don't install PyNIO into any environment that also has xarray\n",
    "import xarray as xr\n",
    "\n",
    "import metpy.calc as mpcalc\n",
    "from metpy.units import units\n",
    "\n",
    "from haversine import inverse_haversine, Unit, Direction\n",
    "\n",
    "import seaborn as sns\n",
    "import matplotlib.pyplot as plt\n",
    "import matplotlib as mpl\n",
    "from matplotlib.pyplot import cm\n",
    "from matplotlib.colors import ListedColormap, LinearSegmentedColormap\n",
    "from matplotlib.collections import LineCollection\n",
    "import matplotlib.lines as mlines\n",
    "import matplotlib.colors as mcolors\n",
    "import matplotlib.patheffects as pe\n",
    "import cartopy.crs as ccrs\n",
    "import cartopy.feature as cfeature\n",
    "\n",
    "#from uviz.utils.tools import find_TC_bbox\n",
    "#from uviz.datashader_tools.utils import datashader_wrapper\n",
    "#from uviz.plotting.utils import basin_bboxes, ssh_wsp, ssh_mslp, sshws_color, geog_features"
   ]
  },
  {
   "cell_type": "code",
   "execution_count": 2,
   "id": "5f633dec-e354-4ac4-90ad-601e65af4c33",
   "metadata": {},
   "outputs": [],
   "source": [
    "tracks_dir = r\"/gpfs/group/cmz5202/default/cnd5285/synth_events\"\n",
    "track_folders = glob.glob(os.path.join(tracks_dir, '*storm*'))\n",
    "parent_folders = [os.path.join(folder, '28km') for folder in track_folders]\n",
    "child_folders = [os.path.join(folder, '3km') for folder in track_folders]"
   ]
  },
  {
   "cell_type": "code",
   "execution_count": 3,
   "id": "abb5b3ed-05bc-43d5-b54d-627fdf9242ce",
   "metadata": {},
   "outputs": [],
   "source": [
    "# Native parent files\n",
    "h2pn_files = [glob.glob(os.path.join(f, '*h2*[!nc_remap].nc')) for f in parent_folders]\n",
    "h3pn_files = [glob.glob(os.path.join(f, '*h3*[!nc_remap].nc')) for f in parent_folders]\n",
    "h4pn_files = [glob.glob(os.path.join(f, '*h4*[!nc_remap].nc')) for f in parent_folders]\n",
    "\n",
    "# Regridded parent files\n",
    "h2pr_files = [glob.glob(os.path.join(f, '*h2*.nc_remap.nc')) for f in parent_folders]\n",
    "h3pr_files = [glob.glob(os.path.join(f, '*h3*.nc_remap.nc')) for f in parent_folders]\n",
    "h4pr_files = [glob.glob(os.path.join(f, '*h4*.nc_remap.nc')) for f in parent_folders]\n",
    "\n",
    "# Parent mesh file\n",
    "# CAM mesh is the \"ext\" one, based on original model run. Other options are \"ref\" or \"wat\"\n",
    "p_mesh_EXT = r\"/gpfs/group/cmz5202/default/cnd5285/maps_and_grids/ne0np4natlanticext.ne30x4.g_scrip.nc\"\n",
    "p_mesh_REF = r\"/gpfs/group/cmz5202/default/cnd5285/maps_and_grids/ne0np4natlanticref.ne30x4.g_scrip.nc\"\n",
    "p_mesh_WAT = r\"/gpfs/group/cmz5202/default/cnd5285/maps_and_grids/ne0np4natlanticwat.ne30x4.g_scrip.nc\"\n",
    "\n",
    "# Native child files\n",
    "h2cn_files = [glob.glob(os.path.join(f, '*h2*[!nc_remap].nc')) for f in child_folders]\n",
    "h3cn_files = [glob.glob(os.path.join(f, '*h3*[!nc_remap].nc')) for f in child_folders]\n",
    "h4cn_files = [glob.glob(os.path.join(f, '*h4*[!nc_remap].nc')) for f in child_folders]\n",
    "\n",
    "# Regridded child files\n",
    "h2cr_files = [glob.glob(os.path.join(f, '*h2*.nc_remap.nc')) for f in child_folders]\n",
    "h3cr_files = [glob.glob(os.path.join(f, '*h3*.nc_remap.nc')) for f in child_folders]\n",
    "h4cr_files = [glob.glob(os.path.join(f, '*h4*.nc_remap.nc')) for f in child_folders]\n",
    "\n",
    "# Child mesh file\n",
    "c_mesh = \"/gpfs/group/cmz5202/default/cnd5285/MPAS_3km/x20.835586.florida.init.CAM.nc\""
   ]
  },
  {
   "cell_type": "code",
   "execution_count": 4,
   "id": "14d79adb-0220-411d-8c9e-0366d3110e5b",
   "metadata": {},
   "outputs": [],
   "source": [
    "# # Reads in tracks, assigns to array of xarray datasets\n",
    "# h2pn_ds = [xr.open_mfdataset(folder, parallel=True) for folder in h2pn_files]\n",
    "# h3pn_ds = [xr.open_mfdataset(folder, parallel=True) for folder in h3pn_files]\n",
    "# h4pn_ds = [xr.open_mfdataset(folder, parallel=True) for folder in h4pn_files]\n",
    "\n",
    "# h2pr_ds = [xr.open_mfdataset(folder, parallel=True) for folder in h2pr_files]\n",
    "# h3pr_ds = [xr.open_mfdataset(folder, parallel=True) for folder in h3pr_files]\n",
    "# h4pr_ds = [xr.open_mfdataset(folder, parallel=True) for folder in h4pr_files]\n",
    "\n",
    "# h2cn_ds = [xr.open_mfdataset(folder, parallel=True) for folder in h2cn_files]\n",
    "# h3cn_ds = [xr.open_mfdataset(folder, parallel=True) for folder in h3cn_files]\n",
    "# h4cn_ds = [xr.open_mfdataset(folder, parallel=True) for folder in h4cn_files]\n",
    "\n",
    "# h2cr_ds = [xr.open_mfdataset(folder, parallel=True) for folder in h2cr_files]\n",
    "# h3cr_ds = [xr.open_mfdataset(folder, parallel=True) for folder in h3cr_files]\n",
    "# h4cr_ds = [xr.open_mfdataset(folder, parallel=True) for folder in h4cr_files]"
   ]
  },
  {
   "cell_type": "code",
   "execution_count": 4,
   "id": "221fd272-f3e1-4999-ad51-c4f65afb5942",
   "metadata": {},
   "outputs": [],
   "source": [
    "# Reads in mesh files\n",
    "#p_mesh_ds_EXT = xr.open_dataset(p_mesh_EXT)\n",
    "p_mesh_ds_REF = xr.open_dataset(p_mesh_REF)\n",
    "#p_mesh_ds_WAT = xr.open_dataset(p_mesh_WAT)\n",
    "\n",
    "c_mesh_ds = xr.open_dataset(c_mesh)"
   ]
  },
  {
   "cell_type": "code",
   "execution_count": 5,
   "id": "89d97ea3-f4e8-4b1b-ac2d-6e7d0a2b1387",
   "metadata": {},
   "outputs": [],
   "source": [
    "test_mpas_data = xr.open_mfdataset([file for file in h4cn_files[0]], parallel=True) \n",
    "#mpas_mesh_ds = Polymesh(c_mesh_ds, test_mpas_data, model='mpas')"
   ]
  },
  {
   "cell_type": "code",
   "execution_count": 10,
   "id": "a9400757-e97c-44ff-b1f5-f1a09fa4e02e",
   "metadata": {},
   "outputs": [
    {
     "data": {
      "text/plain": [
       "\u001b[0;31mInit signature:\u001b[0m \u001b[0mUnit\u001b[0m\u001b[0;34m(\u001b[0m\u001b[0mvalue\u001b[0m\u001b[0;34m,\u001b[0m \u001b[0mnames\u001b[0m\u001b[0;34m=\u001b[0m\u001b[0;32mNone\u001b[0m\u001b[0;34m,\u001b[0m \u001b[0;34m*\u001b[0m\u001b[0;34m,\u001b[0m \u001b[0mmodule\u001b[0m\u001b[0;34m=\u001b[0m\u001b[0;32mNone\u001b[0m\u001b[0;34m,\u001b[0m \u001b[0mqualname\u001b[0m\u001b[0;34m=\u001b[0m\u001b[0;32mNone\u001b[0m\u001b[0;34m,\u001b[0m \u001b[0mtype\u001b[0m\u001b[0;34m=\u001b[0m\u001b[0;32mNone\u001b[0m\u001b[0;34m,\u001b[0m \u001b[0mstart\u001b[0m\u001b[0;34m=\u001b[0m\u001b[0;36m1\u001b[0m\u001b[0;34m)\u001b[0m\u001b[0;34m\u001b[0m\u001b[0;34m\u001b[0m\u001b[0m\n",
       "\u001b[0;31mDocstring:\u001b[0m     \n",
       "Enumeration of supported units.\n",
       "The full list can be checked by iterating over the class; e.g.\n",
       "the expression `tuple(Unit)`.\n",
       "\u001b[0;31mFile:\u001b[0m           /storage/work/c/cnd5285/mambaforge/envs/uviz/lib/python3.8/site-packages/haversine/haversine.py\n",
       "\u001b[0;31mType:\u001b[0m           EnumMeta\n",
       "\u001b[0;31mSubclasses:\u001b[0m     \n"
      ]
     },
     "metadata": {},
     "output_type": "display_data"
    }
   ],
   "source": [
    "?Unit"
   ]
  },
  {
   "cell_type": "code",
   "execution_count": 15,
   "id": "a2bf1cd8-c7b8-4c6e-9028-589066ace776",
   "metadata": {},
   "outputs": [
    {
     "data": {
      "text/plain": [
       "((-81.20727774271047, -79.2099522572895),\n",
       " (24.875842636275458, 26.674483363724537))"
      ]
     },
     "execution_count": 15,
     "metadata": {},
     "output_type": "execute_result"
    }
   ],
   "source": [
    "miami_coords = (25.775163, -80.208615)\n",
    "west_coord = inverse_haversine(miami_coords, 100, Direction.WEST, unit=Unit.KILOMETERS)[1]\n",
    "east_coord = inverse_haversine(miami_coords, 100, Direction.EAST, unit=Unit.KILOMETERS)[1]\n",
    "north_coord = inverse_haversine(miami_coords, 100, Direction.NORTH, unit=Unit.KILOMETERS)[0]\n",
    "south_coord = inverse_haversine(miami_coords, 100, Direction.SOUTH, unit=Unit.KILOMETERS)[0]\n",
    "miami_bbox = ((west_coord, east_coord), (south_coord, north_coord))\n",
    "miami_bbox"
   ]
  },
  {
   "cell_type": "code",
   "execution_count": 16,
   "id": "d5cc99b4-81bb-4735-9593-d6258d8c5e78",
   "metadata": {},
   "outputs": [
    {
     "data": {
      "text/plain": [
       "{'name': 'Corrine'}"
      ]
     },
     "execution_count": 16,
     "metadata": {},
     "output_type": "execute_result"
    }
   ],
   "source": [
    "test_dict = dict(name='Corrine')\n",
    "test_dict"
   ]
  },
  {
   "cell_type": "code",
   "execution_count": 17,
   "id": "a9561c2b-972e-4394-943a-0a8834012aeb",
   "metadata": {},
   "outputs": [
    {
     "data": {
      "text/plain": [
       "True"
      ]
     },
     "execution_count": 17,
     "metadata": {},
     "output_type": "execute_result"
    }
   ],
   "source": [
    "isinstance(test_dict, dict)"
   ]
  },
  {
   "cell_type": "code",
   "execution_count": null,
   "id": "082d4fee-80c0-4f3b-bfbd-21a24bf74ca2",
   "metadata": {},
   "outputs": [],
   "source": []
  }
 ],
 "metadata": {
  "kernelspec": {
   "display_name": "Python [conda env:uviz]",
   "language": "python",
   "name": "conda-env-uviz-py"
  },
  "language_info": {
   "codemirror_mode": {
    "name": "ipython",
    "version": 3
   },
   "file_extension": ".py",
   "mimetype": "text/x-python",
   "name": "python",
   "nbconvert_exporter": "python",
   "pygments_lexer": "ipython3",
   "version": "3.8.15"
  }
 },
 "nbformat": 4,
 "nbformat_minor": 5
}
