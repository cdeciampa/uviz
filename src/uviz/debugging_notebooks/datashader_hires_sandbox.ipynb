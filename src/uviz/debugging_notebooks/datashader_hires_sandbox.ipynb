{
 "cells": [
  {
   "cell_type": "code",
   "execution_count": null,
   "id": "9894abf4-5113-4a9e-a993-9f3a8a11e15e",
   "metadata": {},
   "outputs": [],
   "source": [
    "import cartopy.crs as ccrs\n",
    "import cartopy.feature as cfeature\n",
    "import numpy as np\n",
    "import pandas as pd\n",
    "import glob\n",
    "import os\n",
    "\n",
    "import matplotlib.pyplot as plt\n",
    "from matplotlib.pyplot import cm\n",
    "from matplotlib.colors import LinearSegmentedColormap#, ListedColormap, Normalize, TwoSlopeNorm\n",
    "\n",
    "from bokeh.models import LinearColorMapper\n",
    "\n",
    "import holoviews as hv\n",
    "from holoviews import opts\n",
    "from holoviews.operation.datashader import rasterize as hds_rasterize\n",
    "\n",
    "import geoviews.feature as gf # only needed for coastlines\n",
    "#from geoviews.operation import resample_geometry\n",
    "import geoviews as gv\n",
    "#from datashader.mpl_ext import dsshow, alpha_colormap\n",
    "#import geoviews.tile_sources as gts\n",
    "\n",
    "#import geocat.datafiles as gdf  # Only for reading-in datasets\n",
    "from xarray import open_mfdataset\n",
    "import xarray as xr\n",
    "\n",
    "import metpy.calc as mpcalc\n",
    "from metpy.units import units\n",
    "\n",
    "from mpas_tools.database.utils import choose_forecast\n",
    "from mpas_tools.plotting.utils import nonlinear_colorbar\n",
    "from mpas_tools.utils.tools import find_TC_bbox\n",
    "from mpas_tools.datashader_tools.utils import datashader_wrapper\n",
    "\n",
    "gv.extension(\"bokeh\",\"matplotlib\")\n",
    "\n",
    "opts.defaults(\n",
    "    opts.Image(width=1200, height=600),\n",
    "    opts.RGB(width=1200, height=600))\n",
    "\n",
    "#hv.output(dpi=300, fig='png')"
   ]
  },
  {
   "cell_type": "code",
   "execution_count": null,
   "id": "9c5e3d69-f8e4-4d9a-bf40-7de6151439f7",
   "metadata": {},
   "outputs": [],
   "source": [
    "hires_folder = r\"/gpfs/group/cmz5202/default/cnd5285/MPAS_3km\"\n",
    "hires_files = glob.glob(os.path.join(hires_folder, '*.cam.h0.*0.nc'), recursive=False)\n",
    "hires_files.sort\n",
    "# hires_0830_init = [f for f in hires_files if '08-30' in f]\n",
    "# hires_0831_init = [f for f in hires_files if '08-31' in f]\n",
    "# hires_0901_init = [f for f in hires_files if '09-01' in f]\n",
    "# hires_0902_init = [f for f in hires_files if '09-02' in f]\n",
    "\n",
    "hires_mesh_file = os.path.join(hires_folder, 'x20.835586.florida.init.CAM.nc')"
   ]
  },
  {
   "cell_type": "code",
   "execution_count": null,
   "id": "1b9668a8-3d9a-4307-8d85-9097e3178a6c",
   "metadata": {},
   "outputs": [],
   "source": [
    "# hires_0830_ds = xr.open_mfdataset(hires_0830_init)\n",
    "# hires_0831_ds = xr.open_mfdataset(hires_0831_init)\n",
    "# hires_0901_ds = xr.open_mfdataset(hires_0901_init)\n",
    "# hires_0902_ds = xr.open_mfdataset(hires_0902_init)\n",
    "\n",
    "hires_ds = xr.open_mfdataset(hires_files)\n",
    "hires_mesh = xr.open_dataset(hires_mesh_file, decode_times=False)"
   ]
  },
  {
   "cell_type": "code",
   "execution_count": null,
   "id": "73777617-3dd4-4aa4-ade9-e4398fe42e62",
   "metadata": {},
   "outputs": [],
   "source": [
    "hires_ds['maxU10'] = hires_ds['U10'].max(dim='time')\n",
    "hires_ds['TC_U10'] = hires_ds['maxU10'].where(hires_ds['maxU10'] >= 18)\n",
    "hires_ds['PRECIP_T'] = hires_ds['PRECT'].sum(dim='time')\n",
    "hires_ds"
   ]
  },
  {
   "cell_type": "code",
   "execution_count": null,
   "id": "c7d03958-0a6a-4d9e-a489-550123b8d590",
   "metadata": {},
   "outputs": [],
   "source": [
    "hires_mesh"
   ]
  },
  {
   "cell_type": "code",
   "execution_count": null,
   "id": "74e2172e-2796-4c20-a0c3-c6e0a1fbf199",
   "metadata": {},
   "outputs": [],
   "source": [
    "hires_0831_ds['U10'].values.max()"
   ]
  },
  {
   "cell_type": "code",
   "execution_count": null,
   "id": "02429d8a-4c8c-43f2-8deb-bbacf4fc5128",
   "metadata": {},
   "outputs": [],
   "source": [
    "hires_0901_ds"
   ]
  },
  {
   "cell_type": "code",
   "execution_count": null,
   "id": "575a4c39-6232-4c09-8fbd-e3f8468fae01",
   "metadata": {},
   "outputs": [],
   "source": [
    "print(len(hires_0830_ds['time'].values))\n",
    "print(len(hires_0831_ds['time'].values))\n",
    "print(len(hires_0901_ds['time'].values))\n",
    "print(len(hires_0902_ds['time'].values))\n",
    "\n",
    "# 73 hour/3 day trek"
   ]
  },
  {
   "cell_type": "code",
   "execution_count": null,
   "id": "f6fa2db0-97e5-4565-8964-b0ce0bc461d9",
   "metadata": {},
   "outputs": [],
   "source": []
  },
  {
   "cell_type": "code",
   "execution_count": null,
   "id": "c1976952-c0ed-4158-84b3-fa4021e24fa8",
   "metadata": {},
   "outputs": [],
   "source": [
    "print(hires_ds['FLUT'].isel(time=[41]).values.min())\n",
    "print(hires_ds['FLUT'].isel(time=[41]).values.max())"
   ]
  },
  {
   "cell_type": "code",
   "execution_count": null,
   "id": "e7529323-162b-468c-ae5b-c60b2f1ca0a8",
   "metadata": {},
   "outputs": [],
   "source": [
    "print(hires_ds['U10'].isel(time=[41]).values.max())"
   ]
  },
  {
   "cell_type": "code",
   "execution_count": null,
   "id": "163943a8-d9d9-4e15-93cd-073145dc03da",
   "metadata": {},
   "outputs": [],
   "source": [
    "# Remake of geonetcast colorbar (same as imported colormap)\n",
    "\n",
    "# custom_colors = [\n",
    "#                 (0, '#ffff00'), \n",
    "#                 (0.25, '#002266'), \n",
    "#                 (1, '#002266')]\n",
    "bw_colors = [(0, '#000000'), ((46/153), '#000000'), ((1-(7/153)), '#ffffff'), (1, '#ffffff')]\n",
    "#bw_colors = [(0, '#000000'), (1, '#ffffff')]  \n",
    "bw_cmp = LinearSegmentedColormap.from_list('FLUT bw', bw_colors, N=153)\n",
    "\n",
    "\n",
    "cyan_colors = [(0, '#00ffff'), # cyan\n",
    "               ((21/73), '#000073'), # navy\n",
    "               ((22/73), '#000073'), # navy\n",
    "               ((35/73), '#00ff00'), # lime green\n",
    "               ((45/73), '#ffff00'), # yellow\n",
    "               ((55/73), '#ff0000'), # red\n",
    "               ((65/73), '#000000'), # black\n",
    "               (1, '#e6e6e6')] # dark white\n",
    "\n",
    "cyan_cmp = LinearSegmentedColormap.from_list('FLUT cyan', cyan_colors, N=73)\n",
    "pink_colors = [(0, '#ff7fcb'), (1, '#7f007f')]\n",
    "pink_cmp = LinearSegmentedColormap.from_list('FLUT pink', pink_colors, N=11)\n",
    "white_cmp = LinearSegmentedColormap.from_list('FLUT white', [(0, '#ffffff'), (1, '#ffffff')], N=19)\n",
    "\n",
    "#colors = np.vstack((bw_colors, cyan_colors, pink_colors, [(0, '#ffffff'), (1, '#ffffff')]\n",
    "#plt.register_cmap(cmap=bw_cmp)\n",
    "#plt.register_cmap(cmap=cyan_cmp)\n",
    "#plt.register_cmap(cmap=pink_cmp)\n",
    "#plt.register_cmap(cmap=white_cmp)\n",
    "\n",
    "bws = plt.get_cmap(bw_cmp)\n",
    "bws_colors = bws(np.linspace(0, 1, 153))\n",
    "cyans = plt.get_cmap(cyan_cmp)\n",
    "c_colors = cyans(np.linspace(0, 1, 73))\n",
    "pinks = plt.get_cmap(pink_cmp)\n",
    "p_colors = pinks(np.linspace(0, 1, 11))\n",
    "whites = plt.get_cmap(white_cmp)\n",
    "w_colors = whites(np.linspace(0, 1, 19))\n",
    "\n",
    "all_colors = np.vstack((bws_colors, c_colors, p_colors, w_colors))\n",
    "flut_gnc = LinearSegmentedColormap.from_list('FLUT GeoNetCast', all_colors)\n",
    "flut_gnc.reversed()"
   ]
  },
  {
   "cell_type": "code",
   "execution_count": null,
   "id": "e35295a0-5005-4b7f-a0d3-530764a37682",
   "metadata": {},
   "outputs": [],
   "source": [
    "# Weathernerds.org scale\n",
    "\n",
    "bw_colors = [(0, '#000000'), (1, '#BCBCBC')]  \n",
    "bw_cmp = LinearSegmentedColormap.from_list('FLUT bw', bw_colors, N=70)\n",
    "\n",
    "rainbow_colors = [(0, '#00ffff'), # cyan\n",
    "               ((12/70), '#000073'), # navy\n",
    "               ((25/70), '#00ff00'), # lime green\n",
    "               ((32/70), '#ffff00'), # yellow\n",
    "               ((42/70), '#ff0000'), # red\n",
    "               ((52/70), '#000000'), # black\n",
    "               ((59/70), '#e6e6e6'), # dark white\n",
    "               (1, '#7f007f')] # purple\n",
    "\n",
    "\n",
    "rainbow_cmp = LinearSegmentedColormap.from_list('FLUT colors', rainbow_colors, N=70)\n",
    "\n",
    "bws = plt.get_cmap(bw_cmp)\n",
    "bws_colors = bws(np.linspace(0, 1, 128))\n",
    "rainbow = plt.get_cmap(rainbow_cmp)\n",
    "r_colors = rainbow(np.linspace(0, 1, 128))\n",
    "\n",
    "all_colors = np.vstack((bws_colors, r_colors))\n",
    "flut_wn = LinearSegmentedColormap.from_list('FLUT WeatherNerds', all_colors)\n",
    "flut_wn.reversed()"
   ]
  },
  {
   "cell_type": "code",
   "execution_count": null,
   "id": "65966fc8-1054-4337-8578-5f20944a35d2",
   "metadata": {},
   "outputs": [],
   "source": [
    "T_to_FLUT(60, 'C') - T_to_FLUT(55, 'C')"
   ]
  },
  {
   "cell_type": "code",
   "execution_count": null,
   "id": "b5c47166-0688-4eb0-a2da-19dd2b78525f",
   "metadata": {},
   "outputs": [],
   "source": [
    "# https://cimss.ssec.wisc.edu/satellite-blog/wp-content/uploads/sites/5/2017/09/GOES16_CleanWindow_Landfall-20170920_0957_1136anim.gif\n",
    "def T_to_FLUT(T, unit='K'):\n",
    "    if unit == 'C':\n",
    "        T += 273.15\n",
    "    sigma = 5.6693E-8\n",
    "    olr = sigma*(T**4)\n",
    "    \n",
    "    return olr\n",
    "\n",
    "# Normalized cimss scale\n",
    "\n",
    "bw_colors = [(0, '#BCBCBC'), (1, '#000000')]  \n",
    "#bw_cmp = LinearSegmentedColormap.from_list('FLUT bw', bw_colors, N=475)\n",
    "bw_cmp = LinearSegmentedColormap.from_list('FLUT bw', bw_colors, N=435)\n",
    "\n",
    "levels = np.array([T_to_FLUT(temp, 'C') for temp in [-110, -105, -87.5, -80, -70, -60, -50, -35, -27.5, -22.5]])\n",
    "fracs = levels-T_to_FLUT(-110, 'C')\n",
    "\n",
    "rainbow_colors = [(0, '#0febff'), # cyan\n",
    "                  ((fracs[1]/fracs[-1]), '#7f007f'), # purple\n",
    "                  ((fracs[2]/fracs[-1]), '#e5e4e5'), # white\n",
    "                  ((fracs[3]/fracs[-1]), '#000000'), # black\n",
    "                  ((fracs[4]/fracs[-1]), '#ff0000'), # red\n",
    "                  ((fracs[5]/fracs[-1]), '#FFFF00'), # yellow\n",
    "                  ((fracs[6]/fracs[-1]), '#00FF00'), # green\n",
    "                  ((fracs[7]/fracs[-1]), '#000073'), # navy\n",
    "                  (1, '#00ffff')] # cyan\n",
    "\n",
    "\n",
    "rainbow_cmp = LinearSegmentedColormap.from_list('FLUT colors', rainbow_colors, N=184)\n",
    "\n",
    "bws = plt.get_cmap(bw_cmp)\n",
    "#bws_colors = bws(np.linspace(0, 0.7464215110803862, 100))\n",
    "#bws_colors = bws(np.linspace(0, 1, 475))\n",
    "bws_colors = bws(np.linspace(0, 1, 435))\n",
    "rainbow = plt.get_cmap(rainbow_cmp)\n",
    "#r_colors = rainbow(np.linspace(0.19764283851590042, 1, 150))\n",
    "r_colors = rainbow(np.linspace(0, 1, 184))\n",
    "\n",
    "all_colors = np.vstack((r_colors, bws_colors))\n",
    "flut_cimss = LinearSegmentedColormap.from_list('FLUT CIMSS', all_colors)\n",
    "flut_cimss"
   ]
  },
  {
   "cell_type": "code",
   "execution_count": null,
   "id": "668c8464-a575-4722-b3c8-b283921ab835",
   "metadata": {},
   "outputs": [],
   "source": [
    "def FLUT_to_T(olr, unit='C'):\n",
    "    sigma = 5.6693E-8\n",
    "    T = (olr/sigma)**0.25\n",
    "    if unit == 'C':\n",
    "        T -= 273.15\n",
    "    return T\n",
    "\n",
    "print(FLUT_to_T(75))"
   ]
  },
  {
   "cell_type": "code",
   "execution_count": null,
   "id": "75462ab4-89ef-4ffc-a1e6-d73804f439d7",
   "metadata": {},
   "outputs": [],
   "source": [
    "#hv.output(dpi=200, backend='bokeh', fig='png')\n",
    "central_longitude = 0.0\n",
    "projection = ccrs.Robinson(central_longitude=central_longitude)\n",
    "\n",
    "target_var = 'FLUT'\n",
    "target_time = 17\n",
    "pixel_ratio = 5\n",
    "title = f\"0831 TS {target_time} {target_var} PR {pixel_ratio}\"\n",
    "\n",
    "lon_range, lat_range = find_TC_bbox(hires_0831_ds, 'north atlantic', target_time, center_dist=1000)\n",
    "rasterized_0831 = datashader_wrapper(hires_mesh, hires_0831_ds, target_var, target_time, pixel_ratio=pixel_ratio, \n",
    "                                     lon_range=lon_range, lat_range=lat_range)\n",
    "final = rasterized_0831.opts(tools=['hover'], colorbar=True, width=800,\n",
    "                             title=title) * gf.coastline(projection=projection).options(scale='10m')\n",
    "#hv.save(final, f'../datashader/output_imgs/{title}.png', backend='bokeh', dpi=300)\n",
    "\n",
    "final"
   ]
  },
  {
   "cell_type": "code",
   "execution_count": null,
   "id": "bb3ac256-e204-44b7-ae18-16645eb67591",
   "metadata": {},
   "outputs": [],
   "source": [
    "#hv.output(dpi=200, backend='bokeh', fig='png')\n",
    "hv.output(dpi=300, backend='matplotlib', fig='png')\n",
    "central_longitude = 0.0\n",
    "projection = ccrs.Robinson(central_longitude=central_longitude)\n",
    "norm_wn = TwoSlopeNorm(vmin=T_to_FLUT(-110, 'C'), vmax=T_to_FLUT(60, 'C'), vcenter=T_to_FLUT(-22.5, 'C')) # for weathernerds\n",
    "norm_gnc = TwoSlopeNorm(vmin=T_to_FLUT(170), vmax=T_to_FLUT(378), vcenter=T_to_FLUT(260)) #230 should be cyan\n",
    "\n",
    "\n",
    "\n",
    "target_var = 'FLUT'\n",
    "target_time = 17+24\n",
    "pixel_ratio = 5\n",
    "title = f\"0831 TS {target_time} {target_var} PR {pixel_ratio}\"\n",
    "\n",
    "#cpt = loadCPT(r'../plotting/IR4AVHRR6.cpt')\n",
    "#cpt_convert = LinearSegmentedColormap('cpt', cpt)\n",
    "#norm = Normalize(vmax=500, vmin=0)\n",
    "m_opts = dict(colorbar=True, cmap=flut_wn, title=title, norm=norm_wn)#, fig_size=(10, 10) doesn't work for some reason\n",
    "lon_range, lat_range = find_TC_bbox(hires_ds, 'north atlantic', target_time, center_dist=1000)\n",
    "rasterized_0831 = datashader_wrapper(hires_mesh, hires_ds, target_var, target_time, pixel_ratio=pixel_ratio, \n",
    "                                     lon_range=lon_range, lat_range=lat_range)\n",
    "rasterized_0831.opts(**m_opts) * gf.coastline(projection=projection).options(scale='10m')"
   ]
  },
  {
   "cell_type": "code",
   "execution_count": null,
   "id": "27ff58ad-1eaf-4a4e-9c77-5ce499cb6993",
   "metadata": {},
   "outputs": [],
   "source": [
    "T_to_FLUT(-70, 'C')"
   ]
  },
  {
   "cell_type": "code",
   "execution_count": null,
   "id": "5de84dbc-c97e-45df-ac7c-73e33f130e9a",
   "metadata": {},
   "outputs": [],
   "source": [
    "temps = [-110, -80, -60, -40, -22.5, 55]\n",
    "[print(T_to_FLUT(T, 'C')) for T in temps]"
   ]
  },
  {
   "cell_type": "code",
   "execution_count": null,
   "id": "25f3605b-bb7e-4399-9adc-93136d65b5cf",
   "metadata": {},
   "outputs": [],
   "source": [
    "['cyan', 'black', 'yellow', 'forest green', 'cyan', 'black']"
   ]
  },
  {
   "cell_type": "code",
   "execution_count": null,
   "id": "0a0d01c2-a7da-4092-8000-20290c496ccc",
   "metadata": {},
   "outputs": [],
   "source": [
    "hv.output(dpi=200, backend='bokeh', fig='png')\n",
    "#hv.output(dpi=300, backend='matplotlib', fig='png')\n",
    "central_longitude = 0.0\n",
    "projection = ccrs.Robinson(central_longitude=central_longitude)\n",
    "\n",
    "target_var = 'FLUT'\n",
    "target_time = 17+24\n",
    "pixel_ratio = 5\n",
    "#title = f\"0831 TS {target_time} {target_var} PR {pixel_ratio}\"\n",
    "title = f'Upwelling Longwave Flux: {str(hires_ds[\"time\"].values[target_time])} UTC'\n",
    "\n",
    "lon_range, lat_range = find_TC_bbox(hires_ds, 'north atlantic zoomed', target_time, center_dist=1000)\n",
    "rasterized_0831 = datashader_wrapper(hires_mesh, hires_ds, target_var, target_time, pixel_ratio=pixel_ratio, \n",
    "                                     lon_range=lon_range, lat_range=lat_range)\n",
    "final = rasterized_0831.opts(tools=['hover'], colorbar=True, cmap=flut_cimss, width=800, title=title, \n",
    "                             clim=(T_to_FLUT(-110, 'C'), T_to_FLUT(55, 'C'))) *\\\n",
    "gf.coastline(projection=projection).options(scale='10m')\n",
    "#hv.save(final, f'../datashader/output_imgs/{title}.png', backend='bokeh', dpi=300)\n",
    "\n",
    "final\n",
    "\n",
    "# Compare with obs image in side-by-side for presentation"
   ]
  },
  {
   "cell_type": "code",
   "execution_count": null,
   "id": "2189f381-5d2c-4990-8260-18717bda1020",
   "metadata": {},
   "outputs": [],
   "source": [
    "# omit white, just start at TS strength\n",
    "colors = [(0, '#FFA500'), ((14/67), '#FFA500'), ((15/67), '#880808'), (1, '#880808')]\n",
    "nhc_ws_cmp = LinearSegmentedColormap.from_list('NHC Categorical Wind Swath', colors, N=68)\n",
    "\n",
    "nhc_ws_cmp"
   ]
  },
  {
   "cell_type": "code",
   "execution_count": null,
   "id": "44d88cf2-3c98-4211-ac37-28132cd1f14f",
   "metadata": {},
   "outputs": [],
   "source": [
    "# Categorical wind swath plot\n",
    "\n",
    "hv.output(dpi=200, backend='bokeh', fig='png')\n",
    "#hv.output(dpi=300, backend='matplotlib', fig='png')\n",
    "central_longitude = 0.0\n",
    "proj = ccrs.Robinson(central_longitude=central_longitude)\n",
    "#proj = ccrs.GOOGLE_MERCATOR\n",
    "\n",
    "target_var = 'TC_U10'\n",
    "target_time = 17+24\n",
    "pixel_ratio = 5\n",
    "#title = f\"0831 TS {target_time} {target_var} PR {pixel_ratio}\"\n",
    "title = f\"10-Meter Wind Swaths\"\n",
    "g_scale = '10m'\n",
    "\n",
    "lon_range, lat_range = find_TC_bbox(hires_ds, 'florida', target_time, center_dist=1000)\n",
    "rasterized_all = datashader_wrapper(hires_mesh, hires_ds, target_var, target_time, \n",
    "                                    pixel_ratio=pixel_ratio, lon_range=lon_range, lat_range=lat_range)\n",
    "\n",
    "#final = gts.EsriImagery(projection=proj, global_extent=False) *\\\n",
    "final = gf.ocean(fill_color='#e4f1fa', line_color='face', projection=proj).options(scale=g_scale) *\\\n",
    "gf.states(line_width=0.5, line_color='#616161', fill_color='#EBEBEB', projection=proj).options(scale=g_scale) *\\\n",
    "rasterized_all.opts(show_legend=True, colorbar=False, cmap=nhc_ws_cmp, clim=(18, 85), width=800, title=title) *\\\n",
    "gf.coastline(line_width=0.5, line_color='#323232', fill_color=None, projection=proj).options(scale=g_scale)\n",
    "#hv.save(final, f'../datashader/output_imgs/{title}.png', backend='bokeh', dpi=300)\n",
    "\n",
    "final\n",
    "\n",
    "# Compare with obs image in side-by-side for presentation"
   ]
  },
  {
   "cell_type": "code",
   "execution_count": null,
   "id": "c99edb75-9034-4e0d-88cc-79a536a69675",
   "metadata": {},
   "outputs": [],
   "source": [
    "# Precip totals plot\n",
    "\n",
    "hv.output(dpi=200, backend='bokeh', fig='png')\n",
    "#hv.output(dpi=300, backend='matplotlib', fig='png')\n",
    "central_longitude = 0.0\n",
    "proj = ccrs.Robinson(central_longitude=central_longitude)\n",
    "#proj = ccrs.GOOGLE_MERCATOR\n",
    "\n",
    "target_var = 'PRECIP_T'\n",
    "target_time = 17+24\n",
    "pixel_ratio = 5\n",
    "#title = f\"0831 TS {target_time} {target_var} PR {pixel_ratio}\"\n",
    "title = f\"Precipitation Totals Swaths\"\n",
    "g_scale = '10m'\n",
    "\n",
    "lon_range, lat_range = find_TC_bbox(hires_ds, 'florida', target_time, center_dist=1000)\n",
    "rasterized_all = datashader_wrapper(hires_mesh, hires_ds, target_var, target_time, \n",
    "                                    pixel_ratio=pixel_ratio, lon_range=lon_range, lat_range=lat_range)\n",
    "\n",
    "#final = gts.EsriImagery(projection=proj, global_extent=False) *\\\n",
    "#final = gf.ocean(fill_color='#e4f1fa', line_color='face', projection=proj).options(scale=g_scale) *\\\n",
    "#gf.states(line_width=0.5, line_color='#616161', fill_color='#EBEBEB', projection=proj).options(scale=g_scale) *\\\n",
    "rasterized_all.opts(colorbar=True, width=800, title=title) *\\\n",
    "gf.coastline(line_width=0.5, line_color='#323232', fill_color=None, projection=proj).options(scale=g_scale)\n",
    "#hv.save(final, f'../datashader/output_imgs/{title}.png', backend='bokeh', dpi=300)\n",
    "\n",
    "final"
   ]
  },
  {
   "cell_type": "code",
   "execution_count": null,
   "id": "148ba0d3-ceb8-429c-ba1d-b17af486b456",
   "metadata": {},
   "outputs": [],
   "source": [
    "(rs[-1]*rs[-2]*rs[-3]*r[-4]*r[-5]*r[-6]*r[-7]*5) * gf.coastline(projection=projection).options(scale='10m')"
   ]
  },
  {
   "cell_type": "code",
   "execution_count": null,
   "id": "c4590fff-4a17-499e-9fcc-5910999a5770",
   "metadata": {},
   "outputs": [],
   "source": [
    "hv.output(dpi=200, backend='bokeh', fig='png')\n",
    "#hv.output(dpi=300, backend='matplotlib', fig='png')\n",
    "central_longitude = 0.0\n",
    "projection = ccrs.Robinson(central_longitude=central_longitude)\n",
    "\n",
    "target_var = 'FLUT'\n",
    "target_time = 17+24\n",
    "pixel_ratio = 5\n",
    "#title = f\"0831 TS {target_time} {target_var} PR {pixel_ratio}\"\n",
    "title = f\"Upwelling Longwave Flux: {str(hires_ds['time'].values[target_time])} UTC\"\n",
    "\n",
    "lon_range, lat_range = find_TC_bbox(hires_ds, 'florida', target_time, center_dist=1000)\n",
    "rasterized_all = datashader_wrapper(hires_mesh, hires_ds, target_var, target_time, pixel_ratio=pixel_ratio, \n",
    "                                     lon_range=lon_range, lat_range=lat_range)\n",
    "rasterized_all = rasterized_all.redim.range(FLUT=(40, 700))\n",
    "final = rasterized_all.opts(tools=['hover'], colorbar=True, cmap=flut_wn, width=800, zlim=(T_to_FLUT(-110), T_to_FLUT(60)),\n",
    "                             title=title) * gf.coastline(projection=projection).options(scale='10m')\n",
    "#hv.save(final, f'../datashader/output_imgs/{title}.png', backend='bokeh', dpi=300)\n",
    "\n",
    "final\n",
    "\n",
    "# Compare with obs image in side-by-side for presentation"
   ]
  },
  {
   "cell_type": "code",
   "execution_count": null,
   "id": "3efae033-37ad-4472-ad74-4b485eb0774c",
   "metadata": {},
   "outputs": [],
   "source": [
    "rasterized_all.opts(tools=['hover'], colorbar=True, cmap=flut_wn, width=800, zlim=(T_to_FLUT(-110), T_to_FLUT(60)),\n",
    "                             title=title) * gf.coastline(projection=projection).options(scale='10m')"
   ]
  },
  {
   "cell_type": "code",
   "execution_count": null,
   "id": "1409e708-1b96-4f5b-bf70-c58e9d756c4c",
   "metadata": {},
   "outputs": [],
   "source": [
    "def T_to_FLUT(T, unit='K'):\n",
    "    if unit == 'C':\n",
    "        T = T+273.15\n",
    "    sigma = 5.6693E-8\n",
    "    olr = sigma*(T**4)\n",
    "    \n",
    "    return olr\n",
    "\n",
    "T_to_FLUT(-60, 'C')"
   ]
  },
  {
   "cell_type": "code",
   "execution_count": null,
   "id": "967e0430-e3b1-40da-ad10-f96f7e22aab7",
   "metadata": {},
   "outputs": [],
   "source": [
    "T = -20\n",
    "T_K = T+273.15\n",
    "T_K = 170\n",
    "T_K = 378\n",
    "sigma = 5.6693E-8\n",
    "olr = sigma*(T_K**4)\n",
    "olr"
   ]
  },
  {
   "cell_type": "code",
   "execution_count": null,
   "id": "f419ae63-e518-457e-9117-343b78612853",
   "metadata": {},
   "outputs": [],
   "source": [
    "opts?"
   ]
  },
  {
   "cell_type": "code",
   "execution_count": null,
   "id": "f5436be8-96c5-48b1-bd50-49d6f61446f3",
   "metadata": {},
   "outputs": [],
   "source": [
    "central_longitude = 0.0\n",
    "projection = ccrs.Robinson(central_longitude=central_longitude)\n",
    "\n",
    "target_var = 'FLUT'\n",
    "print(f'Rasterizing data.')\n",
    "#for i in range(2, 9):\n",
    "#for i in range(9, 36):\n",
    "#for i in range(36, 59):\n",
    "#for i in range(43, 59):\n",
    "for i in range(59, 73):\n",
    "    time_UTC = str(hires_ds['time'].isel(time=[i]).values[0])\n",
    "    fig_title = f'Upwelling Longwave Flux: {time_UTC} UTC'\n",
    "    lon_range = (269.61516038043123, 289.55559738239776)\n",
    "    lat_range = (16.810663650794172, 34.797070925284935)\n",
    "    rasterized = datashader_wrapper(hires_mesh, hires_ds, target_var, i, pixel_ratio=10, lon_range=lon_range, lat_range=lat_range)\n",
    "    final_img = rasterized.opts(colorbar=True, cmap=flut_cimss, toolbar=None, \n",
    "                                clim=(T_to_FLUT(-110, 'C'), T_to_FLUT(55, 'C')), title=fig_title, width=800) * gf.coastline(projection=projection).options(scale='10m')\n",
    "\n",
    "    print(f'Exporting image {i}.')\n",
    "    hv.save(final_img, os.path.join('/storage/work/cnd5285/github/mpas_tools/mpas_tools/figs/flut_gif', f'FLUT_{time_UTC}.png'), \n",
    "            dpi=300, backend='bokeh', fmt='png', width=800)\n",
    "\n",
    "#print(f'Time elapsed: {end-start} seconds.')"
   ]
  },
  {
   "cell_type": "code",
   "execution_count": null,
   "id": "710b7791-fbaa-4e54-ab2e-e57387dc1e70",
   "metadata": {},
   "outputs": [],
   "source": [
    "output_folder = r\"/storage/work/cnd5285/github/mpas_tools/mpas_tools/figs/flut_gif\"\n",
    "from PIL import Image\n",
    "import glob\n",
    "# Create the frames\n",
    "frames = []\n",
    "imgs = glob.glob(os.path.join(output_folder, \"*00.png\"))\n",
    "imgs.sort()\n",
    "imgs = imgs[1:]\n",
    "for i in imgs:\n",
    "    new_frame = Image.open(i)\n",
    "    frames.append(new_frame)\n",
    "# Save into a GIF file that loops forever\n",
    "duration = 150\n",
    "frames[0].save(os.path.join(output_folder, f'simulated_TC{duration}.gif'), format='GIF',\n",
    "               append_images=frames[1:],\n",
    "               save_all=True,\n",
    "               duration=duration, loop=0)\n",
    "new_frame.close()"
   ]
  },
  {
   "cell_type": "code",
   "execution_count": null,
   "id": "a5cfe04a-61d9-4a30-8aa6-e6c1a4f14b3f",
   "metadata": {},
   "outputs": [],
   "source": [
    "hv.save?"
   ]
  },
  {
   "cell_type": "code",
   "execution_count": null,
   "id": "5b144b64-07a5-4149-89ab-8f11d6467f87",
   "metadata": {},
   "outputs": [],
   "source": []
  },
  {
   "cell_type": "code",
   "execution_count": null,
   "id": "7f0f2aea-5916-49d7-9e60-07b7771d32d3",
   "metadata": {},
   "outputs": [],
   "source": []
  }
 ],
 "metadata": {
  "kernelspec": {
   "display_name": "Python [conda env:datashader]",
   "language": "python",
   "name": "conda-env-datashader-py"
  },
  "language_info": {
   "codemirror_mode": {
    "name": "ipython",
    "version": 3
   },
   "file_extension": ".py",
   "mimetype": "text/x-python",
   "name": "python",
   "nbconvert_exporter": "python",
   "pygments_lexer": "ipython3",
   "version": "3.10.5"
  }
 },
 "nbformat": 4,
 "nbformat_minor": 5
}
