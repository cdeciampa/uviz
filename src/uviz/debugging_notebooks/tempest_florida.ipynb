{
 "cells": [
  {
   "cell_type": "code",
   "execution_count": 2,
   "id": "d15eea45-afc8-4a64-9c5f-d8f76523960e",
   "metadata": {},
   "outputs": [],
   "source": [
    "import glob\n",
    "import os, sys\n",
    "\n",
    "from uviz.tempest_extremes.utils import read_tempest_csv, read_tempest_ASCII\n",
    "from uviz.plotting.utils import basin_bboxes#, ssh_wsp\n",
    "#from uviz.utils.tools import sfc_wind_corr\n",
    "\n",
    "from haversine import inverse_haversine, haversine_vector, haversine\n",
    "\n",
    "import pandas as pd\n",
    "import numpy as np\n",
    "import xarray as xr\n",
    "import netCDF4 as nf4\n",
    "import matplotlib.pyplot as plt\n",
    "from matplotlib.collections import LineCollection\n",
    "import matplotlib.lines as mlines\n",
    "import matplotlib.colors as mcolors\n",
    "import matplotlib.patheffects as pe\n",
    "import seaborn as sns\n",
    "\n",
    "import cartopy.crs as ccrs\n",
    "import cartopy.feature as cfeature"
   ]
  },
  {
   "cell_type": "code",
   "execution_count": null,
   "id": "4cf2d778-f81f-4ae0-aaf8-31a2eaa57260",
   "metadata": {},
   "outputs": [],
   "source": [
    "# output_folder = r\"/Users/cnd5285/Library/CloudStorage/OneDrive-ThePennsylvaniaStateUniversity/Thesis_Research/github/mpas_tools/mpas_tools/datashader_tools/output_imgs\"\n",
    "# from PIL import Image\n",
    "# import glob\n",
    "# # Create the frames\n",
    "# frames = []\n",
    "# imgs = glob.glob(os.path.join(output_folder, \"*00.png\"))\n",
    "# imgs.sort()\n",
    "# imgs = imgs[1:]\n",
    "# for i in imgs:\n",
    "#     new_frame = Image.open(i)\n",
    "#     frames.append(new_frame)\n",
    "# # Save into a GIF file that loops forever\n",
    "# duration = 150\n",
    "# frames[0].save(os.path.join(output_folder, f'simulated_TC{duration}.gif'), format='GIF',\n",
    "#                append_images=frames[1:],\n",
    "#                save_all=True,\n",
    "#                duration=duration, loop=0)\n",
    "# new_frame.close()"
   ]
  },
  {
   "cell_type": "code",
   "execution_count": null,
   "id": "3f2dcde3-bd30-4840-babd-fa72073b57c5",
   "metadata": {},
   "outputs": [],
   "source": [
    "# block to calculate distance from miami\n",
    "def miami_storms(df, distance=500.0, units='km'):\n",
    "\n",
    "    miami_coords = (25.775163, -80.208615)\n",
    "    miami_dist = distance #km\n",
    "    df['miami_dist'] = df.apply(lambda x: haversine_vector((x.lat, x.lon), \n",
    "                                                                     miami_coords, unit=units, \n",
    "                                                                     normalize=True)[0], axis=1).round(2)\n",
    "    df = df[df['miami_dist'].apply(lambda x: x <= miami_dist)].reset_index(drop=True)\n",
    "    storms = df['tempest_ID'].unique()\n",
    "    \n",
    "    return storms\n",
    "\n",
    "# method 1: filter down to tempest_IDs and select by tempest_IDs\n",
    "# method 2: return full dataframe, only graph select few"
   ]
  },
  {
   "cell_type": "code",
   "execution_count": null,
   "id": "26b5d4d6-4c50-406b-a9b6-449464630198",
   "metadata": {},
   "outputs": [],
   "source": [
    "def all_calcs(dataframe, distance=500, units='km'):\n",
    "    # calculates distance from Miami\n",
    "    miami_coords = (25.775163, -80.208615)\n",
    "    miami_dist = distance #km\n",
    "    df = dataframe.copy()\n",
    "    df['miami_dist'] = df.apply(lambda x: haversine_vector((x.lat, x.lon), \n",
    "                                                                     miami_coords, unit=units, \n",
    "                                                                     normalize=True)[0], axis=1).round(2)\n",
    "    \n",
    "    # calculates Saffir-Simpson scale\n",
    "    df['ss_wsp'] = df.apply(lambda x: ssh_wsp(x.wsp, 'm/s'), axis=1)\n",
    "    \n",
    "    # categorizes basin\n",
    "    \n",
    "    \n",
    "    return df"
   ]
  },
  {
   "cell_type": "code",
   "execution_count": null,
   "id": "c498f49d-660a-4bda-b861-947de963529a",
   "metadata": {},
   "outputs": [],
   "source": [
    "#tracks_folder = r\"/Users/cnd5285/Library/CloudStorage/OneDrive-ThePennsylvaniaStateUniversity/DeCiampa/model_traj/\"\n",
    "tracks_folder = '/gpfs/scratch/cnd5285'\n",
    "te_track_files = glob.glob(os.path.join(tracks_folder, '*[!.csv]'), recursive=False)\n",
    "te_track_files"
   ]
  },
  {
   "cell_type": "code",
   "execution_count": null,
   "id": "54d02da8-b4a5-4b21-b56b-0123a497833a",
   "metadata": {},
   "outputs": [],
   "source": [
    "te_track_files[0].split('/')[-1]"
   ]
  },
  {
   "cell_type": "code",
   "execution_count": null,
   "id": "12595f15-3165-49d9-a679-30e1d0912eb8",
   "metadata": {},
   "outputs": [],
   "source": [
    "colnames = ['timestep', 'lon', 'lat', 'slp', 'wsp', 'sfc_phi', 'year', 'month', 'day', 'hour']\n",
    "te_track_dfs = [read_tempest_ASCII(f, colnames) for f in te_track_files]\n",
    "te_tracks = [all_calcs(df) for df in te_track_dfs]"
   ]
  },
  {
   "cell_type": "code",
   "execution_count": null,
   "id": "f267360e-bb40-4cf8-8da7-ca1092e9cef3",
   "metadata": {},
   "outputs": [],
   "source": [
    "num_tracks = [len(track.tempest_ID.unique()) for track in te_tracks]\n",
    "num_tracks = np.array(num_tracks)\n",
    "total_tracks = np.sum(num_tracks)\n",
    "\n",
    "num_miami_tracks = [len(track[track.miami_dist <= 500].tempest_ID.unique()) for track in te_tracks]\n",
    "num_miami_tracks = np.array(num_miami_tracks)\n",
    "tot_miami_tracks = np.sum(num_miami_tracks)\n",
    "\n",
    "print(f'Number of unique tracks in TempestExtremes: {total_tracks} tracks.')\n",
    "print(f'Number of tracks within 500 km of Miami: {tot_miami_tracks} tracks.')\n",
    "print('Number of tracks that met criteria: 19 tracks.')"
   ]
  },
  {
   "cell_type": "code",
   "execution_count": null,
   "id": "bb3875f1-9d1d-41e8-a4f7-efdcae12eab6",
   "metadata": {},
   "outputs": [],
   "source": [
    "te_track_dfs[0]"
   ]
  },
  {
   "cell_type": "code",
   "execution_count": null,
   "id": "d79b9753-92ca-4d71-8b64-86c062208ca6",
   "metadata": {},
   "outputs": [],
   "source": [
    "te_tracks[0]"
   ]
  },
  {
   "cell_type": "code",
   "execution_count": null,
   "id": "77a23cab-1668-452d-94f9-73af000d3cf5",
   "metadata": {},
   "outputs": [],
   "source": [
    "min_slp_1279 = te_tracks[-1][te_tracks[-1]['tempest_ID'] == 'storm_1279']['slp'].values.min()\n",
    "te_tracks[-1][(te_tracks[-1]['tempest_ID'] == 'storm_1279') & (te_tracks[-1]['slp'] == min_slp_1279)]"
   ]
  },
  {
   "cell_type": "code",
   "execution_count": null,
   "id": "dc2005b2-c44a-468e-abbd-b2669069e791",
   "metadata": {},
   "outputs": [],
   "source": [
    "storm_1279 = te_tracks[-1][te_tracks[-1]['tempest_ID'] == 'storm_1279'].reset_index(drop=True)\n",
    "storm_1279.to_csv('../tempest_extremes/storm_1279_track.csv')"
   ]
  },
  {
   "cell_type": "code",
   "execution_count": null,
   "id": "60edad18-e67c-4f2b-ac09-edae155f748a",
   "metadata": {},
   "outputs": [],
   "source": [
    "def sshws_color(wsp, units='m/s'):\n",
    "    category = saffir_simpson(wsp, units)\n",
    "    \n",
    "    if category == 'Tropical Depression':\n",
    "        return '#5EBAFF'\n",
    "    elif category == 'Tropical Storm':\n",
    "        return '#00FAF4'\n",
    "    elif category == 'Category 1':\n",
    "        return '#FFF795'\n",
    "    elif category == 'Category 2':\n",
    "        return '#FFD821'\n",
    "    elif category == 'Category 3':\n",
    "        return '#FF8F20'\n",
    "    elif category == 'Category 4':\n",
    "        return '#FF6060'\n",
    "    elif category == 'Category 5':\n",
    "        return '#C464D9'\n",
    "    "
   ]
  },
  {
   "cell_type": "code",
   "execution_count": null,
   "id": "dc74a00a-19d6-4496-a0cb-7d420832bd5c",
   "metadata": {},
   "outputs": [],
   "source": [
    "def geog_features(ax, basin='north atlantic zoomed', resolution='10m'):\n",
    "    \n",
    "    lons, lats = basin_bboxes(basin)\n",
    "    ax.set_extent([lons[0], lons[1], lats[0], lats[1]], crs=ccrs.PlateCarree())\n",
    "    ax.add_feature(cfeature.COASTLINE.with_scale(resolution), linewidth=0.5, edgecolor='#323232', zorder=3)\n",
    "    #ax.add_feature(cfeature.BORDERS.with_scale(resolution), linewidth=0.5, edgecolor='#323232', zorder=3)\n",
    "    ax.add_feature(cfeature.STATES.with_scale(resolution), linewidth=0.5, facecolor='#EBEBEB', edgecolor='#616161', zorder=2)\n",
    "    ax.add_feature(cfeature.LAKES.with_scale(resolution), linewidth=0.5, facecolor='#e4f1fa', edgecolor='#616161', zorder=2)\n",
    "    ax.add_feature(cfeature.OCEAN.with_scale(resolution), facecolor='#e4f1fa', edgecolor='face', zorder=1)"
   ]
  },
  {
   "cell_type": "code",
   "execution_count": null,
   "id": "0ed74109-1e43-4c6a-93b3-8252861472f3",
   "metadata": {},
   "outputs": [],
   "source": [
    "def plot_sshws_segments(ax, df, figtitle=None):\n",
    "    \n",
    "    proj = ccrs.PlateCarree()\n",
    "    for track, track_df in df.groupby('tempest_ID'):\n",
    "    \n",
    "        lons = track_df['lon'].values\n",
    "        lats = track_df['lat'].values\n",
    "        wsps = track_df['wsp'].values\n",
    "        sshws_cmap = [sshws_color(x, units='m/s') for x in wsps]\n",
    "\n",
    "        points = np.array([lons, lats]).T.reshape(-1, 1, 2)\n",
    "        segments = np.concatenate([points[:-1], points[1:]], axis=1)\n",
    "\n",
    "        lc = LineCollection(segments, colors=sshws_cmap, zorder=10, transform=proj, \n",
    "                            lw=1.25, path_effects=[pe.Stroke(linewidth=2.0, foreground='#848484'), pe.Normal()])\n",
    "        ax.add_collection(lc)\n",
    "    \n",
    "    lw = 2.0\n",
    "    lw_e = 3.0\n",
    "    td = mlines.Line2D([], [], ls='-', lw=lw, label='Tropical Depression', color=sshws_color(35, 'mph'),\n",
    "                       path_effects=[pe.Stroke(linewidth=lw_e, foreground='#848484'), pe.Normal()])\n",
    "    ts = mlines.Line2D([], [], ls='-', lw=lw, label='Tropical Storm', color=sshws_color(50, 'mph'), \n",
    "                       path_effects=[pe.Stroke(linewidth=lw_e, foreground='#848484'), pe.Normal()])\n",
    "    c1 = mlines.Line2D([], [], ls='-', lw=lw, label='Category 1', color=sshws_color(75, 'mph'), \n",
    "                       path_effects=[pe.Stroke(linewidth=lw_e, foreground='#848484'), pe.Normal()])\n",
    "    c2 = mlines.Line2D([], [], ls='-', lw=lw, label='Category 2', color=sshws_color(100, 'mph'), \n",
    "                       path_effects=[pe.Stroke(linewidth=lw_e, foreground='#848484'), pe.Normal()])\n",
    "    c3 = mlines.Line2D([], [], ls='-', lw=lw, label='Category 3', color=sshws_color(115, 'mph'), \n",
    "                       path_effects=[pe.Stroke(linewidth=lw_e, foreground='#848484'), pe.Normal()])\n",
    "    c4 = mlines.Line2D([], [], ls='-', lw=lw, label='Category 4', color=sshws_color(135, 'mph'), \n",
    "                       path_effects=[pe.Stroke(linewidth=lw_e, foreground='#848484'), pe.Normal()])\n",
    "    c5 = mlines.Line2D([], [], ls='-', lw=lw, label='Category 5', color=sshws_color(160, 'mph'), \n",
    "                       path_effects=[pe.Stroke(linewidth=lw_e, foreground='#848484'), pe.Normal()])\n",
    "\n",
    "    l = ax.legend(handles = [c5, c4, c3, c2, c1, ts, td], loc='upper right', fontsize=14, shadow=True)\n",
    "    l.set_zorder(1001)\n",
    "    plt.title(figtitle, fontsize=20)\n",
    "    plt.show()"
   ]
  },
  {
   "cell_type": "code",
   "execution_count": null,
   "id": "a82839b5-433a-4ae7-bb0d-d325afe2479e",
   "metadata": {},
   "outputs": [],
   "source": [
    "def plot_sshws_points(ax, df, figtitle=None, j=None, label_tracks=False):\n",
    "    \n",
    "    proj = ccrs.PlateCarree()\n",
    "    for i, (track_ID, track_df) in enumerate(df.groupby('tempest_ID')):\n",
    "        track_df = track_df.sort_values(by=['tempest_ID', 'time']).reset_index(drop=True)\n",
    "        lons = track_df['lon'].values\n",
    "        lats = track_df['lat'].values\n",
    "        wsps = track_df['wsp'].values\n",
    "        sshws_cmap = [sshws_color(x, units='m/s') for x in wsps]\n",
    "        \n",
    "        if j == 0:\n",
    "            label_pos = [[lons[8]+1.25, lats[8]+0.2], [lons[13]+1.25, lats[13]+0.2], [lons[10]-1.25, lats[10]-0.2]]\n",
    "        elif j == 1:\n",
    "            label_pos = [[lons[13]-1.25, lats[13]+0.2], [lons[6]-1.25, lats[6]+0.2], [lons[8]-1.25, lats[8]-0.2], [lons[3]+1.25, lats[3]+0.2]]\n",
    "        elif j == 2:\n",
    "            label_pos = [[lons[13]-1.25, lats[13]-0.2], [lons[11]+1.25, lats[11]+0.2], [lons[-9]-1.25, lats[-9]-0.2], [lons[8]+1.25, lats[8]+0.2]]\n",
    "        elif j == 3:\n",
    "            label_pos = []\n",
    "        elif j == 4:\n",
    "            label_pos = [[lons[14]-1.25, lats[14]+0.2], [lons[17]+1.25, lats[17]+0.35], [lons[-10]-1.1, lats[-10]-0.35]]\n",
    "        elif j == 5:\n",
    "            label_pos = [[lons[11]+1.25, lats[11]+0.2]]\n",
    "        elif j == 6:\n",
    "            label_pos = []\n",
    "        elif j == 7:\n",
    "            label_pos = [[lons[4]+1.25, lats[4]+0.2], [lons[0]-1.25, lats[0]-0.2]]\n",
    "        elif j == 8:\n",
    "            label_pos = [[lons[10]-1.25, lats[10]+0.2], [lons[14]-1.25, lats[14]-0.2]]\n",
    "\n",
    "        points = np.array([lons, lats]).T.reshape(-1, 1, 2)\n",
    "        segments = np.concatenate([points[:-1], points[1:]], axis=1)\n",
    "\n",
    "        lc = LineCollection(segments, colors='k', zorder=9, transform=proj, lw=0.5, ls='--')\n",
    "        ax.add_collection(lc)\n",
    "        ax.scatter(lons, lats, c=sshws_cmap, zorder=10, edgecolors='k', lw=0.35, s=30)\n",
    "        # This labels individual tracks within model runs\n",
    "        if label_tracks == True:\n",
    "            ax.text(label_pos[i][0], label_pos[i][1], track_ID, transform=proj, fontsize=7.5, \n",
    "                    path_effects=[pe.Stroke(linewidth=1.75, foreground='w'), pe.Normal()], clip_on=True, ha='center', va='center')\n",
    "    \n",
    "    # Marker properties\n",
    "    mew = 0.25     # marker edge width\n",
    "    mec = 'k'      # marker edge color\n",
    "    ms = 6         # marker size\n",
    "    #mfc           # marker face color\n",
    "    \n",
    "    td = mlines.Line2D([], [], marker='o', ms=ms, mew=mew, mec=mec, label='Tropical Depression', mfc=sshws_color(35, 'mph'), color='k', lw=0.5, ls='--')\n",
    "    ts = mlines.Line2D([], [], marker='o', ms=ms, mew=mew, mec=mec, label='Tropical Storm', mfc=sshws_color(50, 'mph'), color='k', lw=0.5, ls='--')\n",
    "    c1 = mlines.Line2D([], [], marker='o', ms=ms, mew=mew, mec=mec, label='Category 1', mfc=sshws_color(75, 'mph'), color='k', lw=0.5, ls='--')\n",
    "    c2 = mlines.Line2D([], [], marker='o', ms=ms, mew=mew, mec=mec, label='Category 2', mfc=sshws_color(100, 'mph'), color='k', lw=0.5, ls='--')\n",
    "    c3 = mlines.Line2D([], [], marker='o', ms=ms, mew=mew, mec=mec, label='Category 3', mfc=sshws_color(115, 'mph'), color='k', lw=0.5, ls='--')\n",
    "    c4 = mlines.Line2D([], [], marker='o', ms=ms, mew=mew, mec=mec, label='Category 4', mfc=sshws_color(135, 'mph'), color='k', lw=0.5, ls='--')\n",
    "    c5 = mlines.Line2D([], [], marker='o', ms=ms, mew=mew, mec=mec, label='Category 5', mfc=sshws_color(160, 'mph'), color='k', lw=0.5, ls='--')\n",
    "\n",
    "    l = ax.legend(handles = [c5, c4, c3, c2, c1, ts, td], loc='upper right', \n",
    "                  fontsize=10, shadow=False)\n",
    "    l.set_zorder(1001)\n",
    "    plt.title(figtitle)\n",
    "    #plt.show()"
   ]
  },
  {
   "cell_type": "code",
   "execution_count": null,
   "id": "71fb43b7-163c-4f1d-8f7d-378927b9de8c",
   "metadata": {},
   "outputs": [],
   "source": [
    "selected_tracks = [['storm_0190', 'storm_0236', 'storm_1410'],\n",
    "           ['storm_0482', 'storm_0902', 'storm_1001', 'storm_1307'], \n",
    "           ['storm_0168', 'storm_0234', 'storm_0773', 'storm_1048'], None, \n",
    "           ['storm_0257', 'storm_0991', 'storm_1354'], \n",
    "           ['storm_0755'], None, \n",
    "           ['storm_0198', 'storm_0631'], \n",
    "           ['storm_0254', 'storm_1279']]\n",
    "\n",
    "miami_coords = (25.775163, -80.208615)\n",
    "florida_bbox = basin_bboxes('florida')\n",
    "\n",
    "proj = ccrs.PlateCarree()\n",
    "fig, axs = plt.subplots(3, 3, figsize=(17, 17), dpi=200, subplot_kw=dict(projection=proj))\n",
    "\n",
    "\n",
    "for i, ax in enumerate(axs.ravel()):\n",
    "    try:\n",
    "        subset_df = te_tracks[i][(te_tracks[i].lon >= florida_bbox[0][0]-1.0) & (te_tracks[i].lon <= florida_bbox[0][1]+2.0) &\\\n",
    "                                 (te_tracks[i].lat >= florida_bbox[1][0]-1.0) & (te_tracks[i].lat <= florida_bbox[1][1]+2.0) &\\\n",
    "                                 (te_tracks[i]['tempest_ID'].isin(selected_tracks[i]))]\n",
    "    except:\n",
    "        continue\n",
    "    title = te_track_files[i].split('/')[-1]\n",
    "    geog_features(ax, basin='florida')\n",
    "    plot_sshws_points(ax, subset_df, j=i, label_tracks=True)\n",
    "    ax.set_title(label=title, fontsize=10, fontweight='bold')\n",
    "    ax.scatter(x=miami_coords[1]+360, y=miami_coords[0], zorder=8, marker='*', c='#00FF00', s=120, edgecolors='k', lw=0.5, transform=proj)\n",
    "\n",
    "fig.tight_layout(h_pad=-20.0)\n",
    "#fig.suptitle('TempestExtremes Miami Tracks (Selected)')\n",
    "fig.delaxes(axs[1][0])\n",
    "fig.delaxes(axs[2][0])\n",
    "\n",
    "plt.show()\n",
    "# fig.savefig('../figs/te_plots/all_runs_selected.png', facecolor='w', transparent=False, bbox_inches='tight')\n",
    "# fig.savefig('/Users/cnd5285/Library/CloudStorage/OneDrive-ThePennsylvaniaStateUniversity/DeCiampa/model_traj/figs/all_runs_selected.png', \n",
    "#             facecolor='w', transparent=False, bbox_inches='tight')"
   ]
  },
  {
   "cell_type": "code",
   "execution_count": null,
   "id": "c445a951-022f-4af5-9193-4f9e543dc610",
   "metadata": {},
   "outputs": [],
   "source": [
    "selected_tracks = [['storm_0190', 'storm_0236', 'storm_1410'],\n",
    "           ['storm_0482', 'storm_0902', 'storm_1001', 'storm_1307'], \n",
    "           ['storm_0168', 'storm_0234', 'storm_0773', 'storm_1048'], None, \n",
    "           ['storm_0257', 'storm_0991', 'storm_1354'], \n",
    "           ['storm_0755'], None, \n",
    "           ['storm_0198', 'storm_0631'], \n",
    "           ['storm_0254', 'storm_1279']]\n",
    "\n",
    "i=0\n",
    "subset_df = te_tracks[i][(te_tracks[i].lon >= florida_bbox[0][0]-1.0) & (te_tracks[i].lon <= florida_bbox[0][1]+2.0) &\\\n",
    "                         (te_tracks[i].lat >= florida_bbox[1][0]-1.0) & (te_tracks[i].lat <= florida_bbox[1][1]+2.0) &\\\n",
    "                         (te_tracks[i]['tempest_ID'].isin(selected_tracks[i]))]\n",
    "#title = 'TempestExtremes Miami Tracks (Selected)'\n",
    "title = te_track_files[i].split('/')[-1]\n",
    "miami_coords = (25.775163, -80.208615)\n",
    "\n",
    "proj = ccrs.PlateCarree()\n",
    "fig, ax = plt.subplots(figsize=(12,7), dpi=200, subplot_kw=dict(projection=proj))\n",
    "geog_features(ax, basin='florida')\n",
    "plot_sshws_points(ax, subset_df, title, label_tracks=True, j=i)\n",
    "ax.scatter(x=miami_coords[1]+360, y=miami_coords[0], zorder=8, marker='*', c='#00FF00', s=120, edgecolors='k', lw=0.5, transform=proj)\n",
    "plt.show()"
   ]
  },
  {
   "cell_type": "code",
   "execution_count": null,
   "id": "796caf50-823f-4cf1-8c4d-431103358fd6",
   "metadata": {},
   "outputs": [],
   "source": [
    "selected_tracks = [['storm_0190', 'storm_0236', 'storm_1410'],\n",
    "           ['storm_0482', 'storm_0902', 'storm_1001', 'storm_1307'], \n",
    "           ['storm_0168', 'storm_0234', 'storm_0773', 'storm_1048'], [], \n",
    "           ['storm_0257', 'storm_0991', 'storm_1354'], \n",
    "           ['storm_0755'], [], \n",
    "           ['storm_0198', 'storm_0631'], \n",
    "           ['storm_0254', 'storm_1279']]\n",
    "\n",
    "selected_dfs = [te_tracks[i][te_tracks[i]['tempest_ID'].isin(sel_track)].reset_index(drop=True) for i, sel_track in enumerate(selected_tracks)]\n",
    "for i, track_df in enumerate(selected_dfs):\n",
    "    if not track_df.empty:\n",
    "        track_df.to_csv(os.path.join(tracks_folder, te_track_files[i].split('/')[-1]+'_selectedtracks.csv'), index=False)"
   ]
  },
  {
   "cell_type": "code",
   "execution_count": null,
   "id": "b6400849-fa00-4095-bb71-8f74c4a1e1ae",
   "metadata": {},
   "outputs": [],
   "source": [
    "florida_bbox = basin_bboxes('florida')\n",
    "florida_bbox[1]"
   ]
  },
  {
   "cell_type": "code",
   "execution_count": null,
   "id": "bdd881e6-a5e5-40e8-995e-23fe3ef7ec1b",
   "metadata": {},
   "outputs": [],
   "source": [
    "florida_bbox[1][0]-1.0"
   ]
  },
  {
   "cell_type": "code",
   "execution_count": null,
   "id": "4b96b3db-a0e0-4292-8a35-7c5514d6f13d",
   "metadata": {},
   "outputs": [],
   "source": [
    "te_tracks[0]"
   ]
  },
  {
   "cell_type": "code",
   "execution_count": null,
   "id": "1f8cf772-3594-4eb3-8e86-14fbf9757d0c",
   "metadata": {},
   "outputs": [],
   "source": [
    "selected_tracks = [['storm_190', 'storm_236', 'storm_1410'],\n",
    "           ['storm_482', 'storm_902', 'storm_1001', 'storm_1307'], \n",
    "           ['storm_168', 'storm_234', 'storm_773', 'storm_1048'], None, \n",
    "           ['storm_257', 'storm_991', 'storm_1354'], \n",
    "           ['storm_755'], None, \n",
    "           ['storm_198', 'storm_631'], \n",
    "           ['storm_254', 'storm_1279']]\n",
    "\n",
    "i=0\n",
    "subset_df = te_tracks[i][te_tracks[i]['tempest_ID'].isin(selected_tracks[i])]\n",
    "title = 'TempestExtremes Miami Tracks (Selected)'\n",
    "\n",
    "proj = ccrs.PlateCarree()\n",
    "fig, ax = plt.subplots(figsize=(12,7), dpi=200, subplot_kw=dict(projection=proj))\n",
    "geog_features(ax)\n",
    "plot_sshws_segments(ax, subset_df, title)"
   ]
  },
  {
   "cell_type": "code",
   "execution_count": null,
   "id": "bdfbb5b6-d652-4abd-9bbb-aef4540f9e8a",
   "metadata": {},
   "outputs": [],
   "source": [
    "miami_tracks = te_tracks[0][te_tracks[0]['miami_dist'] <= 100].tempest_ID.unique()\n",
    "subset_df = te_tracks[0][te_tracks[0]['tempest_ID'].isin(miami_tracks)]\n",
    "title = 'CAM5 TempestExtremes Tracks < 100 KM of Miami (1985-2014)'\n",
    "\n",
    "proj = ccrs.PlateCarree()\n",
    "fig, ax = plt.subplots(figsize=(12,7), dpi=300, subplot_kw=dict(projection=proj))\n",
    "geog_features(ax)\n",
    "plot_sshws_segments(ax, subset_df, title)\n",
    "fig.savefig('../figs/te_plots/te_miami_tracks.png', facecolor='w', transparent=False, bbox_inches='tight')"
   ]
  },
  {
   "cell_type": "code",
   "execution_count": null,
   "id": "43453ffd-770c-4263-977b-f32ab97a78a3",
   "metadata": {},
   "outputs": [],
   "source": [
    "subset_df = te_tracks[0][te_tracks[0].time.dt.year >= 2009]\n",
    "title = 'CAM5 TempestExtremes Tracks (2009-2014)'\n",
    "\n",
    "proj = ccrs.PlateCarree()\n",
    "fig, ax = plt.subplots(figsize=(12,7), dpi=300, subplot_kw=dict(projection=proj))\n",
    "geog_features(ax)\n",
    "plot_sshws_segments(ax, subset_df, title)\n",
    "fig.savefig('../figs/te_plots/te_spaghetti.png', facecolor='w', transparent=False, bbox_inches='tight')"
   ]
  },
  {
   "cell_type": "code",
   "execution_count": null,
   "id": "38992171-d67e-4ab0-8f03-370dbff49deb",
   "metadata": {},
   "outputs": [],
   "source": [
    "def omit_TD_TS(df):\n",
    "    omit_tracks = []\n",
    "    for track, track_df in df.groupby('tempest_ID'):\n",
    "        if (track_df['ss_wsp'].isin(['Tropical Depression', 'Tropical Storm'])).all():\n",
    "            omit_tracks.append(track)\n",
    "    return df[~df['tempest_ID'].isin(omit_tracks)]\n",
    "\n",
    "subset_df = te_tracks[0][te_tracks[0].time.dt.year >= 2009]\n",
    "subsubset_df = omit_TD_TS(subset_df)\n",
    "title = 'CAM5 TempestExtremes Tracks (2004-2014)' # Only TD and/or TS tracks omitted\n",
    "\n",
    "proj = ccrs.PlateCarree()\n",
    "fig, ax = plt.subplots(figsize=(12,7), dpi=200, subplot_kw=dict(projection=proj))\n",
    "geog_features(ax)\n",
    "plot_sshws_segments(ax, subsubset_df, title)"
   ]
  },
  {
   "cell_type": "code",
   "execution_count": null,
   "id": "952126d6-cf66-4625-a910-2f0725d253c3",
   "metadata": {},
   "outputs": [],
   "source": [
    "len(omit_tracks)"
   ]
  },
  {
   "cell_type": "code",
   "execution_count": null,
   "id": "64f0d592-d6cf-4eb6-bbfb-9ee7f3f002fc",
   "metadata": {},
   "outputs": [],
   "source": [
    "subsubset_df"
   ]
  },
  {
   "cell_type": "code",
   "execution_count": null,
   "id": "72e49bad-9eb5-4bc8-9bea-6ff38140b561",
   "metadata": {},
   "outputs": [],
   "source": [
    "proj=ccrs.PlateCarree(globe=None)\n",
    "fig, ax = plt.subplots(figsize=(12,7), dpi=200, subplot_kw=dict(projection=proj))\n",
    "ax.add_feature(cfeature.COASTLINE.with_scale('10m'), linewidth=0.5, zorder=1)\n",
    "ax.add_feature(cfeature.LAKES.with_scale('10m'), linewidth=0.5, facecolor='w', edgecolor='#616161', zorder=1)\n",
    "\n",
    "explicit_cmap = {'Tropical Depression': '#5EBAFF', \n",
    "                 'Tropical Storm': '#00FAF4', \n",
    "                 'Category 1': '#FFF795', \n",
    "                 'Category 2': '#FFD821', \n",
    "                 'Category 3': '#FF8F20', \n",
    "                 'Category 4': '#FF6060', \n",
    "                 'Category 5': '#C464D9'}\n",
    "\n",
    "g1 = sns.scatterplot(x='lon', y='lat', data=te_tracks[0][te_tracks[0]['miami_dist'] <= 500.0], edgecolor='black', linewidth=0.15, s=30,\n",
    "                hue='ss_wsp', hue_order=color_order, palette=sns.color_palette(cat_colors), transform=proj, ax=ax, zorder=10)\n",
    "h,l = g1.get_legend_handles_labels()\n",
    "plt.legend(h[0:8],l[0:13],bbox_to_anchor=(1.05, 1), loc=2, borderaxespad=0.)\n",
    "g2 = plt.scatter(x=-80.208615, y=25.775163, marker='*', c='#00FF00', s=200, zorder=2, edgecolor='black', linewidth=0.75)\n",
    "plt.show()"
   ]
  },
  {
   "cell_type": "code",
   "execution_count": null,
   "id": "6aea719c-e430-42ab-bf5c-cd8b36221c8a",
   "metadata": {},
   "outputs": [],
   "source": [
    "proj=ccrs.PlateCarree(globe=None)\n",
    "fig, ax = plt.subplots(figsize=(10,5), dpi=200, subplot_kw=dict(projection=proj))\n",
    "\n",
    "ax.set_extent([270., 290., 20., 32])\n",
    "ax.add_feature(cfeature.COASTLINE.with_scale('10m'), linewidth=0.5, zorder=1)\n",
    "ax.add_feature(cfeature.LAKES.with_scale('10m'), linewidth=0.5, facecolor='w', edgecolor='black', zorder=1)\n",
    "#ax.add_feature(cfeature.STATES, linewidth=0.5)\n",
    "#ax.add_feature(cfeature.BORDERS, linewidth=0.5)\n",
    "\n",
    "color_order = ['Tropical Depression', 'Tropical Storm', 'Category 1', 'Category 2', 'Category 3', 'Category 4', 'Category 5']\n",
    "cat_colors = ['#5EBAFF', '#00FAF4', '#FFF795', '#FFD821', '#FF8F20', '#FF6060', '#C464D9']\n",
    "\n",
    "# sns.scatterplot(x='lon', y='lat', data=te_tracks[0][te_tracks[0]['miami_dist'] <= 500.0], \n",
    "#                 hue='ss_wsp', hue_order=color_order, palette=sns.color_palette(cat_colors), transform=proj, ax=ax)\n",
    "g = sns.lineplot(x='lon', y='lat', data=te_tracks[0][te_tracks[0]['miami_dist'] <= 500.0], markers=True, style='tempest_ID',\n",
    "                hue='ss_wsp', hue_order=color_order, palette=sns.color_palette(cat_colors), transform=proj, ax=ax, zorder=10)\n",
    "h,l = g.get_legend_handles_labels()\n",
    "plt.legend(h[0:8],l[0:13],bbox_to_anchor=(1.05, 1), loc=2, borderaxespad=0.)\n",
    "plt.show(g)\n",
    "#plt.show()"
   ]
  },
  {
   "cell_type": "code",
   "execution_count": null,
   "id": "fd58c5fe-32b0-4bc0-9a22-a44adc9802fc",
   "metadata": {},
   "outputs": [],
   "source": [
    "proj=ccrs.PlateCarree(globe=None)\n",
    "fig, ax = plt.subplots(figsize=(10,5), dpi=200, subplot_kw=dict(projection=proj))\n",
    "\n",
    "ax.set_extent([260., 358., 18., 40])\n",
    "ax.add_feature(cfeature.COASTLINE.with_scale('10m'), linewidth=0.5, zorder=1)\n",
    "ax.add_feature(cfeature.LAKES.with_scale('10m'), linewidth=0.5, facecolor='w', edgecolor='black', zorder=1)\n",
    "#ax.add_feature(cfeature.STATES, linewidth=0.5)\n",
    "#ax.add_feature(cfeature.BORDERS, linewidth=0.5)\n",
    "\n",
    "color_order = ['Tropical Depression', 'Tropical Storm', 'Category 1', 'Category 2', 'Category 3', 'Category 4', 'Category 5']\n",
    "cat_colors = ['#5EBAFF', '#00FAF4', '#FFF795', '#FFD821', '#FF8F20', '#FF6060', '#C464D9']\n",
    "marker_style = dict(color='tab:blue', linestyle=':', marker=np.repeat('o', 33),\n",
    "                    markersize=15)\n",
    "\n",
    "# sns.scatterplot(x='lon', y='lat', data=te_tracks[0][te_tracks[0]['miami_dist'] <= 500.0], \n",
    "#                 hue='ss_wsp', hue_order=color_order, palette=sns.color_palette(cat_colors), transform=proj, ax=ax)\n",
    "g = sns.lineplot(x='lon', y='lat', data=te_tracks[0][(te_tracks[0].lat>=18) & (te_tracks[0].lat<=60) &\\\n",
    "                                                     (te_tracks[0].lon>=260) & (te_tracks[0].lon<=360) &\\\n",
    "                                                     (te_tracks[0].time.dt.year >= 2012)], \n",
    "                 markers=marker_style, hue='ss_wsp', hue_order=color_order, palette=sns.color_palette(cat_colors), \n",
    "                 style='tempest_ID', dashes=False, transform=proj, ax=ax, zorder=10)\n",
    "h,l = g.get_legend_handles_labels()\n",
    "plt.legend(h[0:8],l[0:13],bbox_to_anchor=(1.05, 1), loc=2, borderaxespad=0., title='Saffir Simpson Wind Scale')\n",
    "plt.title('TempestExtremes Spaghetti Plot')\n",
    "plt.show(g)\n",
    "#plt.show()"
   ]
  },
  {
   "cell_type": "code",
   "execution_count": null,
   "id": "caee8610-98c3-47ba-816f-dc6160da5799",
   "metadata": {},
   "outputs": [],
   "source": [
    "?plt.legend"
   ]
  },
  {
   "cell_type": "code",
   "execution_count": null,
   "id": "f1718498-d3e0-48af-8df1-34caf50e639b",
   "metadata": {},
   "outputs": [],
   "source": [
    "sns.set()"
   ]
  },
  {
   "cell_type": "code",
   "execution_count": null,
   "id": "d7de556b-530f-4c85-99a7-ecd5470c23f5",
   "metadata": {},
   "outputs": [],
   "source": [
    "os.path.isdir('../figs/te_plots', te_track_files[0].split('/')[-1]))"
   ]
  },
  {
   "cell_type": "code",
   "execution_count": null,
   "id": "328b009c-8bec-4045-8c05-2fc9bea1ec4f",
   "metadata": {},
   "outputs": [],
   "source": [
    "os.path.join('../figs/te_plots', te_track_files[0].split('/')[-1]+'.png')"
   ]
  },
  {
   "cell_type": "code",
   "execution_count": null,
   "id": "d931ed97-96ed-42a1-9f8b-09ec9121ba2e",
   "metadata": {},
   "outputs": [],
   "source": [
    "def compare_te_tracks(df, file_name, savefig=False):\n",
    "    proj=ccrs.PlateCarree(globe=None)\n",
    "    color_order = ['Tropical Depression', 'Tropical Storm', 'Category 1', 'Category 2', 'Category 3', 'Category 4', 'Category 5']\n",
    "    cat_colors = ['#5EBAFF', '#00FAF4', '#FFF795', '#FFD821', '#FF8F20', '#FF6060', '#C464D9']\n",
    "\n",
    "    g = sns.FacetGrid(df[df['miami_dist'] <= 500.0], col=\"tempest_ID\", hue='ss_wsp',\n",
    "                      col_wrap=8, height=3.5, hue_order=color_order, palette=sns.color_palette(cat_colors),\n",
    "                      subplot_kws=dict(projection=proj))\n",
    "    #g3.map_dataframe(sns.lineplot, x='lon', y='lat')\n",
    "    g.map_dataframe(sns.scatterplot, x='lon', y='lat', zorder=10, s=20, edgecolor='black', linewidth=0.5)\n",
    "    g.map(plt.scatter, x=-80.208615, y=25.775163, marker='*', s=50, zorder=2, facecolor='#00FF00', edgecolor='black', linewidth=0.75)\n",
    "\n",
    "    title = file_name.split('/')[-1]\n",
    "    g.fig.suptitle(title, fontsize=16, fontweight='bold')\n",
    "    g.figure.subplots_adjust(top=.96)\n",
    "    g.set_titles(size=12)\n",
    "\n",
    "    for ax in g.axes.ravel():\n",
    "        #ax.set_extent([270., 290., 20., 32])\n",
    "        ax.add_feature(cfeature.COASTLINE.with_scale('10m'), linewidth=0.5, zorder=1)\n",
    "        ax.add_feature(cfeature.LAKES.with_scale('10m'), linewidth=0.5, facecolor='w', edgecolor='black', zorder=1)\n",
    "    \n",
    "    if savefig == True:\n",
    "        plt.savefig(os.path.join('../figs/te_plots', title+'.png'), dpi=300)"
   ]
  },
  {
   "cell_type": "code",
   "execution_count": null,
   "id": "ec7ba24e-dc31-4246-859f-0518d1f76550",
   "metadata": {},
   "outputs": [],
   "source": [
    "def select_te_tracks(df, stracks, file_name, savefig=False):\n",
    "    df = df[df['tempest_ID'].isin(stracks)]\n",
    "    proj=ccrs.PlateCarree(globe=None)\n",
    "    color_order = ['Tropical Depression', 'Tropical Storm', 'Category 1', 'Category 2', 'Category 3', 'Category 4', 'Category 5']\n",
    "    cat_colors = ['#5EBAFF', '#00FAF4', '#FFF795', '#FFD821', '#FF8F20', '#FF6060', '#C464D9']\n",
    "\n",
    "    g = sns.FacetGrid(df, col=\"tempest_ID\", hue='ss_wsp', col_wrap=4,\n",
    "                      height=3.5, hue_order=color_order, palette=sns.color_palette(cat_colors),\n",
    "                      subplot_kws=dict(projection=proj))\n",
    "    #g3.map_dataframe(sns.lineplot, x='lon', y='lat')\n",
    "    g.map_dataframe(sns.scatterplot, x='lon', y='lat', zorder=10, s=20, edgecolor='black', linewidth=0.5)\n",
    "    g.map(plt.scatter, x=-80.208615, y=25.775163, marker='*', s=50, zorder=2, facecolor='#00FF00', edgecolor='black', linewidth=0.75)\n",
    "\n",
    "    title = file_name.split('/')[-1]\n",
    "    g.fig.suptitle(title, fontsize=16, fontweight='bold')\n",
    "    g.figure.subplots_adjust(top=.8)\n",
    "    g.set_titles(size=12)\n",
    "\n",
    "    for ax in g.axes.ravel():\n",
    "        ax.set_extent([270.5, 286., 19., 32])\n",
    "        ax.add_feature(cfeature.COASTLINE.with_scale('10m'), linewidth=0.5, zorder=1)\n",
    "        ax.add_feature(cfeature.LAKES.with_scale('10m'), linewidth=0.5, facecolor='w', edgecolor='black', zorder=1)\n",
    "    \n",
    "    if savefig == True:\n",
    "        plt.savefig(os.path.join('../figs/te_plots', title+'_selected.png'), dpi=300)"
   ]
  },
  {
   "cell_type": "code",
   "execution_count": null,
   "id": "279e03be-091f-4928-80de-b1f3e3ff4ea3",
   "metadata": {},
   "outputs": [],
   "source": [
    "selected_tracks = [['storm_190', 'storm_236', 'storm_1410'],\n",
    "           ['storm_482', 'storm_902', 'storm_1001', 'storm_1307'], \n",
    "           ['storm_168', 'storm_234', 'storm_773', 'storm_1048'], None, \n",
    "           ['storm_257', 'storm_991', 'storm_1354'], \n",
    "           ['storm_755'], None, \n",
    "           ['storm_198', 'storm_631'], \n",
    "           ['storm_254', 'storm_1279']]\n",
    "\n",
    "[select_te_tracks(te_tracks[i], selected_tracks[i], f, savefig=True) for i, \n",
    " f in enumerate(te_track_files) if selected_tracks[i] != None]"
   ]
  },
  {
   "cell_type": "code",
   "execution_count": null,
   "id": "f7c697c9-ee54-4e78-ace6-99487c85d946",
   "metadata": {},
   "outputs": [],
   "source": [
    "[compare_te_tracks(te_tracks[i], f, savefig=True) for i, f in enumerate(te_track_files)]"
   ]
  },
  {
   "cell_type": "code",
   "execution_count": null,
   "id": "f1fe233a-f195-4c20-beed-d8fc5289a292",
   "metadata": {},
   "outputs": [],
   "source": [
    "compare_te_tracks(te_tracks[0], te_track_files[0])\n",
    "\n",
    "\"\"\"\n",
    "Selected tracks - tracks[0]:\n",
    "storm_190 - has cat 4 hit directly on Miami\n",
    "storm_236 - has cat 4 (high end?) hit directly on Ft. Lauderdale?\n",
    "storm_1410 - has cat 3 Keys landfall and follows west coast up (storm surge risk to Miami)\n",
    "\n",
    "Selected tracks - tracks[1]:\n",
    "storm_482 - has cat 3 second landfall on Miami, comes up the coast weird (SW-NE, surge risk)\n",
    "storm_902 - weak TS/TD hangs around Miami for ~24 hours (flood risk)\n",
    "storm_1001 - cat 4 Everglades landfall (surge risk, brown ocean effect)\n",
    "storm_1307 - direct Miami landfall, very normal track (temporally and spatially) curved up center of Florida, cat 4-5 landfall\n",
    "\n",
    "Selected tracks - tracks[2]:\n",
    "storm_168 - cat 4 south keys landfall (somewhat surge risk)\n",
    "storm_234 - cat 3 keys landfall (same as tracks[0][storm_1410])\n",
    "storm_773 - same as storm_234 but further away\n",
    "storm_1408 - cat 5 landfall West Palm Beach (~1 hour north of Miami)\n",
    "\n",
    "Selected tracks - tracks[3]: none\n",
    "\n",
    "Selected tracks - tracks[4]:\n",
    "storm_257 - same as (tracks[0][storm_236])\n",
    "storm_991 - cat 4 direct landfall, very normal track across Florida into Gulf\n",
    "storm_1048 - cat 5 direct landfall Key Largo, 2nd landfall in Everglades (huge surge risk, brown ocean effect)\n",
    "\n",
    "Selected tracks - tracks[5]:\n",
    "storm_755 - meanders as a cat 2-3 over Cypress Nat'l Forest for ~48 hours (flood/inundation risk depending on size)\n",
    "\n",
    "tracks[6]: none\n",
    "\n",
    "tracks[7]:\n",
    "storm_198 - cat 5 landfall in Ft. Lauderdale?\n",
    "storm_631 - meandering TS across S. Florida for ~54 hours\n",
    "\n",
    "tracks[8]:\n",
    "storm_254 - TS/TD meandering across Miami for ~24 hours\n",
    "storm_1279 - cat 4/5 landfall just south of Miami (huge surge risk, right front quadrant risk, tornadic risk)\n",
    "\n",
    "\n",
    "\"\"\""
   ]
  },
  {
   "cell_type": "code",
   "execution_count": null,
   "id": "54b3ebc8-c2cf-4c32-95db-1f9a05f2965c",
   "metadata": {},
   "outputs": [],
   "source": [
    "compare_te_tracks(te_tracks[1], te_track_files[1])"
   ]
  },
  {
   "cell_type": "code",
   "execution_count": null,
   "id": "16a63f22-00d6-4c23-b4a9-7b53d1b244f9",
   "metadata": {},
   "outputs": [],
   "source": [
    "compare_te_tracks(te_tracks[2], te_track_files[2])"
   ]
  },
  {
   "cell_type": "code",
   "execution_count": null,
   "id": "bd27ccbd-1d7c-4306-88a1-25553f108234",
   "metadata": {},
   "outputs": [],
   "source": [
    "compare_te_tracks(te_tracks[3], te_track_files[3])"
   ]
  },
  {
   "cell_type": "code",
   "execution_count": null,
   "id": "5fc43622-bd34-4ebc-9715-c6b3da0901d3",
   "metadata": {},
   "outputs": [],
   "source": [
    "compare_te_tracks(te_tracks[4], te_track_files[4])"
   ]
  },
  {
   "cell_type": "code",
   "execution_count": null,
   "id": "bc3ddaa0-f23c-4513-8b39-1d9524747166",
   "metadata": {},
   "outputs": [],
   "source": [
    "compare_te_tracks(te_tracks[5], te_track_files[5])"
   ]
  },
  {
   "cell_type": "code",
   "execution_count": null,
   "id": "f22fa23b-13c0-41a0-9f22-efa90183b254",
   "metadata": {},
   "outputs": [],
   "source": [
    "compare_te_tracks(te_tracks[6], te_track_files[6])"
   ]
  },
  {
   "cell_type": "code",
   "execution_count": null,
   "id": "9cc61464-d533-4c63-8eef-9d68edc69448",
   "metadata": {},
   "outputs": [],
   "source": [
    "compare_te_tracks(te_tracks[7], te_track_files[7])"
   ]
  },
  {
   "cell_type": "code",
   "execution_count": null,
   "id": "086f7ea3-e869-4cc3-83b8-e09e40d3cf38",
   "metadata": {},
   "outputs": [],
   "source": [
    "compare_te_tracks(te_tracks[8], te_track_files[8])"
   ]
  },
  {
   "cell_type": "code",
   "execution_count": null,
   "id": "2da37259-3aae-4a26-8b1c-9df704e45d2d",
   "metadata": {},
   "outputs": [],
   "source": [
    "# block to calculate translation speed (needs to be first before dropping due to miami_dist)\n",
    "test_df = te_track_dfs[0].copy()\n",
    "test_df['tempest_ID'].unique()\n",
    "#[test_df[test_df == storm].apply(lambda x: haversine_vector((x.lat, x.lon), (x.lat, *x.lon), unit='mi', \n",
    "                                                                 normalize=True)[0], axis=1).round(4) for storm in test_df['tempest_ID'].unique()]"
   ]
  },
  {
   "cell_type": "code",
   "execution_count": null,
   "id": "aada190a-053b-47e8-925a-104ffd6c3e91",
   "metadata": {},
   "outputs": [],
   "source": [
    "# block to calculate translation speed (needs to be first before dropping due to miami_dist)\n",
    "test_df['t_speed'] = test_df.rolling(2, on='tempest_ID', closed='both').apply(lambda x: haversine_vector(x.lat)"
   ]
  },
  {
   "cell_type": "code",
   "execution_count": null,
   "id": "4b891a1a-bb79-424b-b0e4-0480484b3936",
   "metadata": {},
   "outputs": [],
   "source": [
    "test_df.groupby(['tempest_ID'])['lon'].shift(1)"
   ]
  },
  {
   "cell_type": "code",
   "execution_count": null,
   "id": "c662b91e-6ca3-4d97-84d2-7d1465793856",
   "metadata": {},
   "outputs": [],
   "source": [
    "#test_df['ts1'] = test_df.groupby('tempest_ID', as_index=False)\n",
    "test_df.groupby('tempest_ID').lon"
   ]
  },
  {
   "cell_type": "code",
   "execution_count": null,
   "id": "a94bcf65-ee0c-43ce-8ad6-5a2f937fc3f5",
   "metadata": {},
   "outputs": [],
   "source": []
  },
  {
   "cell_type": "code",
   "execution_count": null,
   "id": "37c0734e-b6d5-4b58-b3bc-94ef68ad3f5d",
   "metadata": {},
   "outputs": [],
   "source": [
    "test_df"
   ]
  },
  {
   "cell_type": "code",
   "execution_count": null,
   "id": "dd8d1814-3179-4662-8d48-eedec512c3b9",
   "metadata": {},
   "outputs": [],
   "source": [
    "test_df['t_speed'] = test_df.apply(lambda x: haversine_vector((x.lat, x.lon), (*x.lat, *x.lon), unit='mi', \n",
    "                                                                 normalize=True)[0], axis=1).round(4)\n",
    "test_df"
   ]
  },
  {
   "cell_type": "code",
   "execution_count": null,
   "id": "f2775f8f-406f-4c3e-badf-1f20fca3af06",
   "metadata": {},
   "outputs": [],
   "source": [
    "\n",
    "test_df['t_speed'] = test_df.groupby('tempest_ID').\\\n",
    "apply(lambda x: haversine_vector([x.lat, x.lon], \n",
    "                                 [x.lat.shift().rolling(1), x.lon.shift().rolling(1)], unit='mi')).reset_index(drop=True)"
   ]
  },
  {
   "cell_type": "code",
   "execution_count": null,
   "id": "fd7e74fe-0435-4f4d-92e7-c87960bd3e20",
   "metadata": {},
   "outputs": [],
   "source": []
  },
  {
   "cell_type": "code",
   "execution_count": null,
   "id": "d742a559-b326-44f3-ad11-18e234f8d188",
   "metadata": {},
   "outputs": [],
   "source": [
    "test_df = te_track_dfs[0].copy()\n",
    "# block to calculate distance from miami\n",
    "miami_coords = (25.775163, -80.208615)\n",
    "miami_dist = 500.0 #km\n",
    "test_df['miami_dist'] = test_df.apply(lambda x: haversine_vector((x.lat, x.lon), \n",
    "                                                                 miami_coords, unit='km', \n",
    "                                                                 normalize=True)[0], axis=1).round(4)\n",
    "#test_df = test_df[test_df['miami_dist'].apply(lambda x: x <= miami_dist)].reset_index(drop=True)\n",
    "test_df"
   ]
  },
  {
   "cell_type": "code",
   "execution_count": null,
   "id": "9fa50bf1-af56-4134-9c13-3cf068893b6b",
   "metadata": {},
   "outputs": [],
   "source": [
    "# block to calculate saffir-simpson\n",
    "test_df['ss_wsp'] = test_df.apply(lambda x: saffir_simpson(x.wsp, 'm/s'), axis=1)\n",
    "test_df"
   ]
  },
  {
   "cell_type": "code",
   "execution_count": null,
   "id": "2756efb0-e853-44bf-a079-fc4c6cbbf0ec",
   "metadata": {},
   "outputs": [],
   "source": [
    "# List of storm ID's for cat 5's to check\n",
    "test_df[test_df['ss_wsp'] == 'Category 5'].tempest_ID.unique()"
   ]
  },
  {
   "cell_type": "code",
   "execution_count": null,
   "id": "3a148815-05c8-4931-8991-c6781626768f",
   "metadata": {},
   "outputs": [],
   "source": [
    "test_df[test_df['ss_wsp'] == 'Category 5']"
   ]
  },
  {
   "cell_type": "code",
   "execution_count": null,
   "id": "0f542fdb-9692-4dd3-84f1-7bb23f95cad5",
   "metadata": {},
   "outputs": [],
   "source": [
    "# block to calculate translation speed\n"
   ]
  }
 ],
 "metadata": {
  "kernelspec": {
   "display_name": "Python [conda env:uviz]",
   "language": "python",
   "name": "conda-env-uviz-py"
  },
  "language_info": {
   "codemirror_mode": {
    "name": "ipython",
    "version": 3
   },
   "file_extension": ".py",
   "mimetype": "text/x-python",
   "name": "python",
   "nbconvert_exporter": "python",
   "pygments_lexer": "ipython3",
   "version": "3.9.16"
  },
  "toc-autonumbering": false
 },
 "nbformat": 4,
 "nbformat_minor": 5
}
